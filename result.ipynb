{
 "cells": [
  {
   "cell_type": "code",
   "execution_count": 1,
   "metadata": {},
   "outputs": [],
   "source": [
    "import pandas as pd\n",
    "import numpy as np\n",
    "import warnings\n",
    "import matplotlib.pyplot as plt\n",
    "from matplotlib import font_manager, rc\n",
    "from keras.models import load_model\n",
    "import joblib\n",
    "\n",
    "# 경고 무시\n",
    "warnings.filterwarnings('ignore')\n",
    "\n",
    "#한글 처리를 위해 폰트 설정\n",
    "font_name = font_manager.FontProperties(fname=\"c:/Windows/Fonts/malgun.ttf\").get_name()\n",
    "rc('font', family=font_name)"
   ]
  },
  {
   "cell_type": "code",
   "execution_count": null,
   "metadata": {},
   "outputs": [],
   "source": [
    "logit = joblib.load('./model/logit.model')\n",
    "tree = joblib.load('./model/tree.model')\n",
    "rf = joblib.load('./model/rf.model')\n",
    "svm = joblib.load('./model/svm.model')\n",
    "knn = joblib.load('./model/knn.model')\n",
    "ann = joblib.load('./model/ann.model')\n",
    "dnn = load_model('./model/dnn.model')\n",
    "dnn.load_weights('./model/dnn.weight')"
   ]
  },
  {
   "cell_type": "code",
   "execution_count": 2,
   "metadata": {},
   "outputs": [
    {
     "data": {
      "text/html": [
       "<div>\n",
       "<style scoped>\n",
       "    .dataframe tbody tr th:only-of-type {\n",
       "        vertical-align: middle;\n",
       "    }\n",
       "\n",
       "    .dataframe tbody tr th {\n",
       "        vertical-align: top;\n",
       "    }\n",
       "\n",
       "    .dataframe thead th {\n",
       "        text-align: right;\n",
       "    }\n",
       "</style>\n",
       "<table border=\"1\" class=\"dataframe\">\n",
       "  <thead>\n",
       "    <tr style=\"text-align: right;\">\n",
       "      <th></th>\n",
       "      <th>Model</th>\n",
       "      <th>Best Score</th>\n",
       "      <th>Best Parameter</th>\n",
       "      <th>Precision</th>\n",
       "      <th>Recall</th>\n",
       "      <th>F1-score</th>\n",
       "      <th>TPR</th>\n",
       "      <th>FPR</th>\n",
       "      <th>AUC</th>\n",
       "    </tr>\n",
       "  </thead>\n",
       "  <tbody>\n",
       "    <tr>\n",
       "      <th>0</th>\n",
       "      <td>Logit</td>\n",
       "      <td>0.787949</td>\n",
       "      <td>{'clf__C': 0.1, 'clf__class_weight': 'balanced...</td>\n",
       "      <td>0.796682</td>\n",
       "      <td>0.758592</td>\n",
       "      <td>0.777170</td>\n",
       "      <td>0.758592</td>\n",
       "      <td>0.214067</td>\n",
       "      <td>0.85</td>\n",
       "    </tr>\n",
       "    <tr>\n",
       "      <th>1</th>\n",
       "      <td>Tree</td>\n",
       "      <td>0.714525</td>\n",
       "      <td>{'clf__max_depth': 3, 'clf__max_leaf_nodes': 3...</td>\n",
       "      <td>0.622762</td>\n",
       "      <td>0.762745</td>\n",
       "      <td>0.685682</td>\n",
       "      <td>0.762745</td>\n",
       "      <td>0.318741</td>\n",
       "      <td>0.76</td>\n",
       "    </tr>\n",
       "    <tr>\n",
       "      <th>2</th>\n",
       "      <td>RF</td>\n",
       "      <td>0.748072</td>\n",
       "      <td>{'clf__max_depth': 3, 'clf__max_leaf_nodes': 8...</td>\n",
       "      <td>0.887644</td>\n",
       "      <td>0.671992</td>\n",
       "      <td>0.764909</td>\n",
       "      <td>0.671992</td>\n",
       "      <td>0.165452</td>\n",
       "      <td>0.83</td>\n",
       "    </tr>\n",
       "    <tr>\n",
       "      <th>3</th>\n",
       "      <td>SVM</td>\n",
       "      <td>0.788968</td>\n",
       "      <td>{'clf__C': 1000, 'clf__gamma': 0.0001, 'clf__k...</td>\n",
       "      <td>0.942221</td>\n",
       "      <td>0.639913</td>\n",
       "      <td>0.762185</td>\n",
       "      <td>0.639913</td>\n",
       "      <td>0.109517</td>\n",
       "      <td>0.85</td>\n",
       "    </tr>\n",
       "    <tr>\n",
       "      <th>4</th>\n",
       "      <td>KNN</td>\n",
       "      <td>0.768374</td>\n",
       "      <td>{'clf__n_neighbors': 20, 'clf__p': 2, 'clf__we...</td>\n",
       "      <td>0.814874</td>\n",
       "      <td>0.778071</td>\n",
       "      <td>0.796047</td>\n",
       "      <td>0.778071</td>\n",
       "      <td>0.194317</td>\n",
       "      <td>0.87</td>\n",
       "    </tr>\n",
       "    <tr>\n",
       "      <th>5</th>\n",
       "      <td>ANN</td>\n",
       "      <td>0.745668</td>\n",
       "      <td>{'clf__activation': 'relu', 'clf__alpha': 0.1,...</td>\n",
       "      <td>0.851841</td>\n",
       "      <td>0.848753</td>\n",
       "      <td>0.850294</td>\n",
       "      <td>0.848753</td>\n",
       "      <td>0.148700</td>\n",
       "      <td>0.93</td>\n",
       "    </tr>\n",
       "    <tr>\n",
       "      <th>6</th>\n",
       "      <td>DNN</td>\n",
       "      <td>0.784456</td>\n",
       "      <td>{'clf__batch_size': 128, 'clf__epochs': 50, 'c...</td>\n",
       "      <td>0.831757</td>\n",
       "      <td>0.817714</td>\n",
       "      <td>0.824675</td>\n",
       "      <td>0.817714</td>\n",
       "      <td>0.171183</td>\n",
       "      <td>0.90</td>\n",
       "    </tr>\n",
       "  </tbody>\n",
       "</table>\n",
       "</div>"
      ],
      "text/plain": [
       "   Model  Best Score                                     Best Parameter  \\\n",
       "0  Logit    0.787949  {'clf__C': 0.1, 'clf__class_weight': 'balanced...   \n",
       "1   Tree    0.714525  {'clf__max_depth': 3, 'clf__max_leaf_nodes': 3...   \n",
       "2     RF    0.748072  {'clf__max_depth': 3, 'clf__max_leaf_nodes': 8...   \n",
       "3    SVM    0.788968  {'clf__C': 1000, 'clf__gamma': 0.0001, 'clf__k...   \n",
       "4    KNN    0.768374  {'clf__n_neighbors': 20, 'clf__p': 2, 'clf__we...   \n",
       "5    ANN    0.745668  {'clf__activation': 'relu', 'clf__alpha': 0.1,...   \n",
       "6    DNN    0.784456  {'clf__batch_size': 128, 'clf__epochs': 50, 'c...   \n",
       "\n",
       "   Precision    Recall  F1-score       TPR       FPR   AUC  \n",
       "0   0.796682  0.758592  0.777170  0.758592  0.214067  0.85  \n",
       "1   0.622762  0.762745  0.685682  0.762745  0.318741  0.76  \n",
       "2   0.887644  0.671992  0.764909  0.671992  0.165452  0.83  \n",
       "3   0.942221  0.639913  0.762185  0.639913  0.109517  0.85  \n",
       "4   0.814874  0.778071  0.796047  0.778071  0.194317  0.87  \n",
       "5   0.851841  0.848753  0.850294  0.848753  0.148700  0.93  \n",
       "6   0.831757  0.817714  0.824675  0.817714  0.171183  0.90  "
      ]
     },
     "execution_count": 2,
     "metadata": {},
     "output_type": "execute_result"
    }
   ],
   "source": [
    "df = pd.read_csv('./csv/model_results.csv')\n",
    "df"
   ]
  },
  {
   "cell_type": "code",
   "execution_count": 3,
   "metadata": {},
   "outputs": [
    {
     "name": "stdout",
     "output_type": "stream",
     "text": [
      "['Logit', 'Tree', 'RF', 'SVM', 'KNN', 'ANN', 'DNN'] \n",
      " [0.787949498, 0.714524981, 0.748071889, 0.788968278, 0.76837434, 0.745668283, 0.784456303] \n",
      " [\"{'clf__C': 0.1, 'clf__class_weight': 'balanced', 'clf__max_iter': 1000, 'clf__penalty': 'l2'}\", \"{'clf__max_depth': 3, 'clf__max_leaf_nodes': 3, 'clf__min_samples_split': 2}\", \"{'clf__max_depth': 3, 'clf__max_leaf_nodes': 8, 'clf__min_samples_split': 402, 'clf__n_estimators': 90}\", \"{'clf__C': 1000, 'clf__gamma': 0.0001, 'clf__kernel': 'linear'}\", \"{'clf__n_neighbors': 20, 'clf__p': 2, 'clf__weights': 'uniform'}\", \"{'clf__activation': 'relu', 'clf__alpha': 0.1, 'clf__hidden_layer_sizes': (50,)}\", \"{'clf__batch_size': 128, 'clf__epochs': 50, 'clf__optimizer': 'adam'}\"]\n"
     ]
    }
   ],
   "source": [
    "models = df.Model.values.tolist()\n",
    "scores = df['Best Score'].values.tolist()\n",
    "params = df['Best Parameter'].values.tolist()\n",
    "print(models, '\\n', scores, '\\n', params)"
   ]
  },
  {
   "cell_type": "code",
   "execution_count": 7,
   "metadata": {},
   "outputs": [
    {
     "name": "stdout",
     "output_type": "stream",
     "text": [
      "최적의 알고리즘: SVM\n",
      "최적의 정확도: 0.788968278\n"
     ]
    },
    {
     "data": {
      "text/plain": [
       "Text(0, 0.5, 'Accuracy')"
      ]
     },
     "execution_count": 7,
     "metadata": {},
     "output_type": "execute_result"
    },
    {
     "data": {
      "image/png": "[encoded data removed]",
      "text/plain": [
       "<Figure size 640x480 with 1 Axes>"
      ]
     },
     "metadata": {},
     "output_type": "display_data"
    }
   ],
   "source": [
    "scores_arr=np.array(scores) # 검증용 데이터셋의 정확도\n",
    "max_rate=np.max(scores_arr) # 가장 좋은 정확도\n",
    "idx=np.argmax(scores_arr) # 최대값의 인덱스\n",
    "print(\"최적의 알고리즘:\", models[idx])\n",
    "print(\"최적의 정확도:\", max_rate)\n",
    "\n",
    "plt.rcParams[\"font.size\"]=15\n",
    "plt.bar(models, scores_arr)\n",
    "plt.xlabel(\"Classifier\")\n",
    "plt.ylabel(\"Accuracy\")"
   ]
  }
 ],
 "metadata": {
  "kernelspec": {
   "display_name": "base",
   "language": "python",
   "name": "python3"
  },
  "language_info": {
   "codemirror_mode": {
    "name": "ipython",
    "version": 3
   },
   "file_extension": ".py",
   "mimetype": "text/x-python",
   "name": "python",
   "nbconvert_exporter": "python",
   "pygments_lexer": "ipython3",
   "version": "3.11.0"
  },
  "orig_nbformat": 4,
  "vscode": {
   "interpreter": {
    "hash": "ff4f85d6e04298634172ac5d8264e7e9b556b95639fe52ebb9425c4d4cba0c9c"
   }
  }
 },
 "nbformat": 4,
 "nbformat_minor": 2
}
