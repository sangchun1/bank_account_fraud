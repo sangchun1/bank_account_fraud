{
 "cells": [
  {
   "cell_type": "code",
   "execution_count": 7,
   "metadata": {},
   "outputs": [],
   "source": [
    "import pandas as pd\n",
    "import numpy as np\n",
    "import warnings\n",
    "import matplotlib.pyplot as plt\n",
    "from matplotlib import font_manager, rc\n",
    "\n",
    "# 경고 무시\n",
    "warnings.filterwarnings('ignore')\n",
    "\n",
    "#한글 처리를 위해 폰트 설정\n",
    "font_name = font_manager.FontProperties(fname=\"c:/Windows/Fonts/malgun.ttf\").get_name()\n",
    "rc('font', family=font_name)"
   ]
  },
  {
   "cell_type": "code",
   "execution_count": 8,
   "metadata": {},
   "outputs": [
    {
     "data": {
      "text/html": [
       "<div>\n",
       "<style scoped>\n",
       "    .dataframe tbody tr th:only-of-type {\n",
       "        vertical-align: middle;\n",
       "    }\n",
       "\n",
       "    .dataframe tbody tr th {\n",
       "        vertical-align: top;\n",
       "    }\n",
       "\n",
       "    .dataframe thead th {\n",
       "        text-align: right;\n",
       "    }\n",
       "</style>\n",
       "<table border=\"1\" class=\"dataframe\">\n",
       "  <thead>\n",
       "    <tr style=\"text-align: right;\">\n",
       "      <th></th>\n",
       "      <th>Model</th>\n",
       "      <th>Best Score</th>\n",
       "      <th>Best Parameter</th>\n",
       "    </tr>\n",
       "  </thead>\n",
       "  <tbody>\n",
       "    <tr>\n",
       "      <th>0</th>\n",
       "      <td>KNN</td>\n",
       "      <td>0.768374</td>\n",
       "      <td>{'clf__n_neighbors': 20, 'clf__p': 2, 'clf__we...</td>\n",
       "    </tr>\n",
       "    <tr>\n",
       "      <th>1</th>\n",
       "      <td>ANN</td>\n",
       "      <td>0.745668</td>\n",
       "      <td>{'clf__activation': 'relu', 'clf__alpha': 0.1,...</td>\n",
       "    </tr>\n",
       "    <tr>\n",
       "      <th>2</th>\n",
       "      <td>DNN</td>\n",
       "      <td>0.784820</td>\n",
       "      <td>{'clf__batch_size': 128, 'clf__epochs': 50, 'c...</td>\n",
       "    </tr>\n",
       "    <tr>\n",
       "      <th>3</th>\n",
       "      <td>Tree</td>\n",
       "      <td>0.692843</td>\n",
       "      <td>{'clf__max_depth': 4}</td>\n",
       "    </tr>\n",
       "    <tr>\n",
       "      <th>4</th>\n",
       "      <td>Logit</td>\n",
       "      <td>0.788022</td>\n",
       "      <td>{'clf__C': 0.1}</td>\n",
       "    </tr>\n",
       "    <tr>\n",
       "      <th>5</th>\n",
       "      <td>RF</td>\n",
       "      <td>0.752439</td>\n",
       "      <td>{'clf__max_depth': 4, 'clf__n_estimators': 40}</td>\n",
       "    </tr>\n",
       "    <tr>\n",
       "      <th>6</th>\n",
       "      <td>SVM</td>\n",
       "      <td>0.788677</td>\n",
       "      <td>{'clf__C': 1000, 'clf__gamma': 0.0001}</td>\n",
       "    </tr>\n",
       "  </tbody>\n",
       "</table>\n",
       "</div>"
      ],
      "text/plain": [
       "   Model  Best Score                                     Best Parameter\n",
       "0    KNN    0.768374  {'clf__n_neighbors': 20, 'clf__p': 2, 'clf__we...\n",
       "1    ANN    0.745668  {'clf__activation': 'relu', 'clf__alpha': 0.1,...\n",
       "2    DNN    0.784820  {'clf__batch_size': 128, 'clf__epochs': 50, 'c...\n",
       "3   Tree    0.692843                              {'clf__max_depth': 4}\n",
       "4  Logit    0.788022                                    {'clf__C': 0.1}\n",
       "5     RF    0.752439     {'clf__max_depth': 4, 'clf__n_estimators': 40}\n",
       "6    SVM    0.788677             {'clf__C': 1000, 'clf__gamma': 0.0001}"
      ]
     },
     "execution_count": 8,
     "metadata": {},
     "output_type": "execute_result"
    }
   ],
   "source": [
    "df = pd.read_csv('./csv/model_results.csv')\n",
    "df"
   ]
  },
  {
   "cell_type": "code",
   "execution_count": 9,
   "metadata": {},
   "outputs": [
    {
     "name": "stdout",
     "output_type": "stream",
     "text": [
      "['KNN', 'ANN', 'DNN', 'Tree', 'Logit', 'RF', 'SVM'] \n",
      " [0.7683743403152125, 0.7456682830512843, 0.7848200767234578, 0.6928430893123201, 0.788022262703331, 0.7524390185777786, 0.7886769667892857] \n",
      " [\"{'clf__n_neighbors': 20, 'clf__p': 2, 'clf__weights': 'uniform'}\", \"{'clf__activation': 'relu', 'clf__alpha': 0.1, 'clf__hidden_layer_sizes': (50,)}\", \"{'clf__batch_size': 128, 'clf__epochs': 50, 'clf__optimizer': 'rmsprop'}\", \"{'clf__max_depth': 4}\", \"{'clf__C': 0.1}\", \"{'clf__max_depth': 4, 'clf__n_estimators': 40}\", \"{'clf__C': 1000, 'clf__gamma': 0.0001}\"]\n"
     ]
    }
   ],
   "source": [
    "models = df.Model.values.tolist()\n",
    "scores = df['Best Score'].values.tolist()\n",
    "params = df['Best Parameter'].values.tolist()\n",
    "print(models, '\\n', scores, '\\n', params)"
   ]
  },
  {
   "cell_type": "code",
   "execution_count": 10,
   "metadata": {},
   "outputs": [
    {
     "name": "stdout",
     "output_type": "stream",
     "text": [
      "최적의 알고리즘: SVM\n",
      "최적의 정확도: 0.7886769667892857\n"
     ]
    },
    {
     "data": {
      "text/plain": [
       "Text(0, 0.5, 'Accuracy')"
      ]
     },
     "execution_count": 10,
     "metadata": {},
     "output_type": "execute_result"
    },
    {
     "data": {
      "image/png": "[encoded data removed]",
      "text/plain": [
       "<Figure size 640x480 with 1 Axes>"
      ]
     },
     "metadata": {},
     "output_type": "display_data"
    }
   ],
   "source": [
    "scores_arr=np.array(scores) # 검증용 데이터셋의 정확도\n",
    "max_rate=np.max(scores_arr) # 가장 좋은 정확도\n",
    "idx=np.argmax(scores_arr) # 최대값의 인덱스\n",
    "print(\"최적의 알고리즘:\", models[idx])\n",
    "print(\"최적의 정확도:\", max_rate)\n",
    "\n",
    "plt.rcParams[\"font.size\"]=15\n",
    "plt.bar(models, scores_arr)\n",
    "plt.xlabel(\"Classifier\")\n",
    "plt.ylabel(\"Accuracy\")"
   ]
  }
 ],
 "metadata": {
  "kernelspec": {
   "display_name": "base",
   "language": "python",
   "name": "python3"
  },
  "language_info": {
   "codemirror_mode": {
    "name": "ipython",
    "version": 3
   },
   "file_extension": ".py",
   "mimetype": "text/x-python",
   "name": "python",
   "nbconvert_exporter": "python",
   "pygments_lexer": "ipython3",
   "version": "3.9.13"
  },
  "orig_nbformat": 4,
  "vscode": {
   "interpreter": {
    "hash": "ff4f85d6e04298634172ac5d8264e7e9b556b95639fe52ebb9425c4d4cba0c9c"
   }
  }
 },
 "nbformat": 4,
 "nbformat_minor": 2
}
