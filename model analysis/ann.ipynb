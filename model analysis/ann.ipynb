{
 "cells": [
  {
   "cell_type": "markdown",
   "metadata": {},
   "source": [
    "# 데이터 불러오기"
   ]
  },
  {
   "cell_type": "code",
   "execution_count": 1,
   "metadata": {},
   "outputs": [],
   "source": [
    "import pandas as pd\n",
    "import warnings\n",
    "import matplotlib.pyplot as plt\n",
    "from matplotlib import font_manager, rc\n",
    "\n",
    "# 경고 무시\n",
    "warnings.filterwarnings('ignore')\n",
    "\n",
    "#한글 처리를 위해 폰트 설정\n",
    "font_name = font_manager.FontProperties(fname=\"c:/Windows/Fonts/malgun.ttf\").get_name()\n",
    "rc('font', family=font_name)"
   ]
  },
  {
   "cell_type": "code",
   "execution_count": 2,
   "metadata": {},
   "outputs": [
    {
     "data": {
      "text/html": [
       "<div>\n",
       "<style scoped>\n",
       "    .dataframe tbody tr th:only-of-type {\n",
       "        vertical-align: middle;\n",
       "    }\n",
       "\n",
       "    .dataframe tbody tr th {\n",
       "        vertical-align: top;\n",
       "    }\n",
       "\n",
       "    .dataframe thead th {\n",
       "        text-align: right;\n",
       "    }\n",
       "</style>\n",
       "<table border=\"1\" class=\"dataframe\">\n",
       "  <thead>\n",
       "    <tr style=\"text-align: right;\">\n",
       "      <th></th>\n",
       "      <th>fraud_bool</th>\n",
       "      <th>income</th>\n",
       "      <th>name_email_similarity</th>\n",
       "      <th>current_address_months_count</th>\n",
       "      <th>customer_age</th>\n",
       "      <th>days_since_request</th>\n",
       "      <th>intended_balcon_amount</th>\n",
       "      <th>zip_count_4w</th>\n",
       "      <th>velocity_24h</th>\n",
       "      <th>date_of_birth_distinct_emails_4w</th>\n",
       "      <th>...</th>\n",
       "      <th>housing_status_BE</th>\n",
       "      <th>housing_status_BF</th>\n",
       "      <th>housing_status_BG</th>\n",
       "      <th>source_INTERNET</th>\n",
       "      <th>source_TELEAPP</th>\n",
       "      <th>device_os_linux</th>\n",
       "      <th>device_os_macintosh</th>\n",
       "      <th>device_os_other</th>\n",
       "      <th>device_os_windows</th>\n",
       "      <th>device_os_x11</th>\n",
       "    </tr>\n",
       "  </thead>\n",
       "  <tbody>\n",
       "    <tr>\n",
       "      <th>0</th>\n",
       "      <td>0</td>\n",
       "      <td>0.9</td>\n",
       "      <td>0.642713</td>\n",
       "      <td>0.0</td>\n",
       "      <td>20</td>\n",
       "      <td>0.009624</td>\n",
       "      <td>105.898067</td>\n",
       "      <td>1724</td>\n",
       "      <td>7394.902554</td>\n",
       "      <td>8</td>\n",
       "      <td>...</td>\n",
       "      <td>1</td>\n",
       "      <td>0</td>\n",
       "      <td>0</td>\n",
       "      <td>1</td>\n",
       "      <td>0</td>\n",
       "      <td>0</td>\n",
       "      <td>0</td>\n",
       "      <td>1</td>\n",
       "      <td>0</td>\n",
       "      <td>0</td>\n",
       "    </tr>\n",
       "    <tr>\n",
       "      <th>1</th>\n",
       "      <td>0</td>\n",
       "      <td>0.9</td>\n",
       "      <td>0.720064</td>\n",
       "      <td>200.0</td>\n",
       "      <td>40</td>\n",
       "      <td>0.007018</td>\n",
       "      <td>33.006203</td>\n",
       "      <td>1986</td>\n",
       "      <td>5416.601990</td>\n",
       "      <td>5</td>\n",
       "      <td>...</td>\n",
       "      <td>1</td>\n",
       "      <td>0</td>\n",
       "      <td>0</td>\n",
       "      <td>1</td>\n",
       "      <td>0</td>\n",
       "      <td>0</td>\n",
       "      <td>0</td>\n",
       "      <td>0</td>\n",
       "      <td>1</td>\n",
       "      <td>0</td>\n",
       "    </tr>\n",
       "    <tr>\n",
       "      <th>2</th>\n",
       "      <td>0</td>\n",
       "      <td>0.9</td>\n",
       "      <td>0.075432</td>\n",
       "      <td>129.0</td>\n",
       "      <td>40</td>\n",
       "      <td>0.009764</td>\n",
       "      <td>-0.632448</td>\n",
       "      <td>2411</td>\n",
       "      <td>7423.819019</td>\n",
       "      <td>7</td>\n",
       "      <td>...</td>\n",
       "      <td>0</td>\n",
       "      <td>0</td>\n",
       "      <td>0</td>\n",
       "      <td>1</td>\n",
       "      <td>0</td>\n",
       "      <td>0</td>\n",
       "      <td>0</td>\n",
       "      <td>0</td>\n",
       "      <td>1</td>\n",
       "      <td>0</td>\n",
       "    </tr>\n",
       "    <tr>\n",
       "      <th>3</th>\n",
       "      <td>0</td>\n",
       "      <td>0.5</td>\n",
       "      <td>0.784344</td>\n",
       "      <td>240.0</td>\n",
       "      <td>20</td>\n",
       "      <td>0.017281</td>\n",
       "      <td>-1.612753</td>\n",
       "      <td>1731</td>\n",
       "      <td>4489.610329</td>\n",
       "      <td>8</td>\n",
       "      <td>...</td>\n",
       "      <td>1</td>\n",
       "      <td>0</td>\n",
       "      <td>0</td>\n",
       "      <td>1</td>\n",
       "      <td>0</td>\n",
       "      <td>1</td>\n",
       "      <td>0</td>\n",
       "      <td>0</td>\n",
       "      <td>0</td>\n",
       "      <td>0</td>\n",
       "    </tr>\n",
       "    <tr>\n",
       "      <th>4</th>\n",
       "      <td>0</td>\n",
       "      <td>0.8</td>\n",
       "      <td>0.770435</td>\n",
       "      <td>150.0</td>\n",
       "      <td>40</td>\n",
       "      <td>9.370346</td>\n",
       "      <td>26.733867</td>\n",
       "      <td>1863</td>\n",
       "      <td>6301.097061</td>\n",
       "      <td>7</td>\n",
       "      <td>...</td>\n",
       "      <td>0</td>\n",
       "      <td>0</td>\n",
       "      <td>0</td>\n",
       "      <td>1</td>\n",
       "      <td>0</td>\n",
       "      <td>1</td>\n",
       "      <td>0</td>\n",
       "      <td>0</td>\n",
       "      <td>0</td>\n",
       "      <td>0</td>\n",
       "    </tr>\n",
       "  </tbody>\n",
       "</table>\n",
       "<p>5 rows × 47 columns</p>\n",
       "</div>"
      ],
      "text/plain": [
       "   fraud_bool  income  name_email_similarity  current_address_months_count  \\\n",
       "0           0     0.9               0.642713                           0.0   \n",
       "1           0     0.9               0.720064                         200.0   \n",
       "2           0     0.9               0.075432                         129.0   \n",
       "3           0     0.5               0.784344                         240.0   \n",
       "4           0     0.8               0.770435                         150.0   \n",
       "\n",
       "   customer_age  days_since_request  intended_balcon_amount  zip_count_4w  \\\n",
       "0            20            0.009624              105.898067          1724   \n",
       "1            40            0.007018               33.006203          1986   \n",
       "2            40            0.009764               -0.632448          2411   \n",
       "3            20            0.017281               -1.612753          1731   \n",
       "4            40            9.370346               26.733867          1863   \n",
       "\n",
       "   velocity_24h  date_of_birth_distinct_emails_4w  ...  housing_status_BE  \\\n",
       "0   7394.902554                                 8  ...                  1   \n",
       "1   5416.601990                                 5  ...                  1   \n",
       "2   7423.819019                                 7  ...                  0   \n",
       "3   4489.610329                                 8  ...                  1   \n",
       "4   6301.097061                                 7  ...                  0   \n",
       "\n",
       "   housing_status_BF  housing_status_BG  source_INTERNET  source_TELEAPP  \\\n",
       "0                  0                  0                1               0   \n",
       "1                  0                  0                1               0   \n",
       "2                  0                  0                1               0   \n",
       "3                  0                  0                1               0   \n",
       "4                  0                  0                1               0   \n",
       "\n",
       "   device_os_linux  device_os_macintosh  device_os_other  device_os_windows  \\\n",
       "0                0                    0                1                  0   \n",
       "1                0                    0                0                  1   \n",
       "2                0                    0                0                  1   \n",
       "3                1                    0                0                  0   \n",
       "4                1                    0                0                  0   \n",
       "\n",
       "   device_os_x11  \n",
       "0              0  \n",
       "1              0  \n",
       "2              0  \n",
       "3              0  \n",
       "4              0  \n",
       "\n",
       "[5 rows x 47 columns]"
      ]
     },
     "execution_count": 2,
     "metadata": {},
     "output_type": "execute_result"
    }
   ],
   "source": [
    "df = pd.read_csv('../csv/preprocess.csv')\n",
    "df.head()"
   ]
  },
  {
   "cell_type": "markdown",
   "metadata": {},
   "source": [
    "# 분석"
   ]
  },
  {
   "cell_type": "code",
   "execution_count": 3,
   "metadata": {},
   "outputs": [
    {
     "data": {
      "text/plain": [
       "0    6871\n",
       "1    6871\n",
       "Name: fraud_bool, dtype: int64"
      ]
     },
     "execution_count": 3,
     "metadata": {},
     "output_type": "execute_result"
    }
   ],
   "source": [
    "train_cols = df.columns[1:]\n",
    "X = df[train_cols] # 독립변수\n",
    "y = df[\"fraud_bool\"] # 종속변수\n",
    "df[\"fraud_bool\"].value_counts()"
   ]
  },
  {
   "cell_type": "code",
   "execution_count": 4,
   "metadata": {},
   "outputs": [],
   "source": [
    "from sklearn.model_selection import train_test_split\n",
    "X_train, X_test, y_train, y_test = train_test_split(X, y, test_size = 0.2, stratify = y, random_state = 0)"
   ]
  },
  {
   "cell_type": "code",
   "execution_count": 5,
   "metadata": {},
   "outputs": [
    {
     "name": "stdout",
     "output_type": "stream",
     "text": [
      "{'clf__activation': 'relu', 'clf__alpha': 0.1, 'clf__hidden_layer_sizes': (50,)}\n",
      "0.7456682830512843\n"
     ]
    }
   ],
   "source": [
    "from sklearn.pipeline import Pipeline\n",
    "from sklearn.preprocessing import StandardScaler\n",
    "from sklearn.neural_network import MLPClassifier\n",
    "from sklearn.model_selection import GridSearchCV\n",
    "pipe = Pipeline([\n",
    "    ('scaler', StandardScaler()),\n",
    "    ('clf', MLPClassifier(random_state=0, max_iter=5000)),\n",
    "    ])\n",
    "params = {\n",
    "    'clf__hidden_layer_sizes': [(50,), (100,), (50,50),(100,100)],\n",
    "    'clf__activation': ['tanh', 'relu'],\n",
    "    'clf__alpha': [0.001, 0.01, 0.1]\n",
    "    }\n",
    "grid = GridSearchCV(pipe, params, scoring='accuracy', cv=3)\n",
    "grid.fit(X, y)\n",
    "print(grid.best_params_)\n",
    "print(grid.best_score_)"
   ]
  },
  {
   "cell_type": "code",
   "execution_count": 6,
   "metadata": {},
   "outputs": [],
   "source": [
    "pred = grid.predict(X_test)"
   ]
  },
  {
   "cell_type": "code",
   "execution_count": 7,
   "metadata": {},
   "outputs": [
    {
     "data": {
      "text/plain": [
       "array([[1191,  184],\n",
       "       [ 209, 1165]], dtype=int64)"
      ]
     },
     "execution_count": 7,
     "metadata": {},
     "output_type": "execute_result"
    }
   ],
   "source": [
    "#confusion matrix(혼동행렬, 오분류표) 출력\n",
    "from sklearn.metrics import confusion_matrix\n",
    "cm=confusion_matrix(y_test, pred)\n",
    "cm"
   ]
  },
  {
   "cell_type": "code",
   "execution_count": 8,
   "metadata": {},
   "outputs": [
    {
     "data": {
      "text/html": [
       "<div>\n",
       "<style scoped>\n",
       "    .dataframe tbody tr th:only-of-type {\n",
       "        vertical-align: middle;\n",
       "    }\n",
       "\n",
       "    .dataframe tbody tr th {\n",
       "        vertical-align: top;\n",
       "    }\n",
       "\n",
       "    .dataframe thead th {\n",
       "        text-align: right;\n",
       "    }\n",
       "</style>\n",
       "<table border=\"1\" class=\"dataframe\">\n",
       "  <thead>\n",
       "    <tr style=\"text-align: right;\">\n",
       "      <th></th>\n",
       "      <th>0</th>\n",
       "      <th>1</th>\n",
       "    </tr>\n",
       "  </thead>\n",
       "  <tbody>\n",
       "    <tr>\n",
       "      <th>0</th>\n",
       "      <td>1191</td>\n",
       "      <td>184</td>\n",
       "    </tr>\n",
       "    <tr>\n",
       "      <th>1</th>\n",
       "      <td>209</td>\n",
       "      <td>1165</td>\n",
       "    </tr>\n",
       "  </tbody>\n",
       "</table>\n",
       "</div>"
      ],
      "text/plain": [
       "      0     1\n",
       "0  1191   184\n",
       "1   209  1165"
      ]
     },
     "execution_count": 8,
     "metadata": {},
     "output_type": "execute_result"
    }
   ],
   "source": [
    "df_cm=pd.DataFrame(cm, index=[0, 1], columns=[0, 1])\n",
    "df_cm"
   ]
  },
  {
   "cell_type": "markdown",
   "metadata": {},
   "source": [
    "# 시각화"
   ]
  },
  {
   "cell_type": "code",
   "execution_count": 9,
   "metadata": {},
   "outputs": [
    {
     "data": {
      "text/plain": [
       "<sklearn.metrics._plot.confusion_matrix.ConfusionMatrixDisplay at 0x25943a84d00>"
      ]
     },
     "execution_count": 9,
     "metadata": {},
     "output_type": "execute_result"
    },
    {
     "data": {
      "image/png": "[encoded data removed]",
      "text/plain": [
       "<Figure size 640x480 with 2 Axes>"
      ]
     },
     "metadata": {},
     "output_type": "display_data"
    }
   ],
   "source": [
    "from sklearn.metrics import ConfusionMatrixDisplay\n",
    "ConfusionMatrixDisplay(confusion_matrix=cm, display_labels=grid.classes_).plot()"
   ]
  },
  {
   "cell_type": "markdown",
   "metadata": {},
   "source": [
    "# 저장"
   ]
  },
  {
   "cell_type": "code",
   "execution_count": 30,
   "metadata": {},
   "outputs": [
    {
     "data": {
      "text/html": [
       "<div>\n",
       "<style scoped>\n",
       "    .dataframe tbody tr th:only-of-type {\n",
       "        vertical-align: middle;\n",
       "    }\n",
       "\n",
       "    .dataframe tbody tr th {\n",
       "        vertical-align: top;\n",
       "    }\n",
       "\n",
       "    .dataframe thead th {\n",
       "        text-align: right;\n",
       "    }\n",
       "</style>\n",
       "<table border=\"1\" class=\"dataframe\">\n",
       "  <thead>\n",
       "    <tr style=\"text-align: right;\">\n",
       "      <th></th>\n",
       "      <th>Model</th>\n",
       "      <th>Best Score</th>\n",
       "      <th>Best Parameter</th>\n",
       "    </tr>\n",
       "  </thead>\n",
       "  <tbody>\n",
       "    <tr>\n",
       "      <th>0</th>\n",
       "      <td>KNN</td>\n",
       "      <td>0.768374</td>\n",
       "      <td>{'clf__n_neighbors': 20, 'clf__p': 2, 'clf__we...</td>\n",
       "    </tr>\n",
       "    <tr>\n",
       "      <th>1</th>\n",
       "      <td>ANN</td>\n",
       "      <td>0.745668</td>\n",
       "      <td>{'clf__activation': 'relu', 'clf__alpha': 0.1,...</td>\n",
       "    </tr>\n",
       "    <tr>\n",
       "      <th>2</th>\n",
       "      <td>DNN</td>\n",
       "      <td>0.784820</td>\n",
       "      <td>{'clf__batch_size': 128, 'clf__epochs': 50, 'c...</td>\n",
       "    </tr>\n",
       "  </tbody>\n",
       "</table>\n",
       "</div>"
      ],
      "text/plain": [
       "  Model  Best Score                                     Best Parameter\n",
       "0   KNN    0.768374  {'clf__n_neighbors': 20, 'clf__p': 2, 'clf__we...\n",
       "1   ANN    0.745668  {'clf__activation': 'relu', 'clf__alpha': 0.1,...\n",
       "2   DNN    0.784820  {'clf__batch_size': 128, 'clf__epochs': 50, 'c..."
      ]
     },
     "execution_count": 30,
     "metadata": {},
     "output_type": "execute_result"
    }
   ],
   "source": [
    "result = pd.read_csv('../csv/model_results.csv')\n",
    "result.head()"
   ]
  },
  {
   "cell_type": "code",
   "execution_count": 31,
   "metadata": {},
   "outputs": [
    {
     "data": {
      "text/html": [
       "<div>\n",
       "<style scoped>\n",
       "    .dataframe tbody tr th:only-of-type {\n",
       "        vertical-align: middle;\n",
       "    }\n",
       "\n",
       "    .dataframe tbody tr th {\n",
       "        vertical-align: top;\n",
       "    }\n",
       "\n",
       "    .dataframe thead th {\n",
       "        text-align: right;\n",
       "    }\n",
       "</style>\n",
       "<table border=\"1\" class=\"dataframe\">\n",
       "  <thead>\n",
       "    <tr style=\"text-align: right;\">\n",
       "      <th></th>\n",
       "      <th>Model</th>\n",
       "      <th>Best Score</th>\n",
       "      <th>Best Parameter</th>\n",
       "    </tr>\n",
       "  </thead>\n",
       "  <tbody>\n",
       "    <tr>\n",
       "      <th>0</th>\n",
       "      <td>KNN</td>\n",
       "      <td>0.768374</td>\n",
       "      <td>{'clf__n_neighbors': 20, 'clf__p': 2, 'clf__we...</td>\n",
       "    </tr>\n",
       "    <tr>\n",
       "      <th>1</th>\n",
       "      <td>ANN</td>\n",
       "      <td>0.745668</td>\n",
       "      <td>{'clf__activation': 'relu', 'clf__alpha': 0.1,...</td>\n",
       "    </tr>\n",
       "    <tr>\n",
       "      <th>2</th>\n",
       "      <td>DNN</td>\n",
       "      <td>0.784820</td>\n",
       "      <td>{'clf__batch_size': 128, 'clf__epochs': 50, 'c...</td>\n",
       "    </tr>\n",
       "  </tbody>\n",
       "</table>\n",
       "</div>"
      ],
      "text/plain": [
       "  Model  Best Score                                     Best Parameter\n",
       "0   KNN    0.768374  {'clf__n_neighbors': 20, 'clf__p': 2, 'clf__we...\n",
       "1   ANN    0.745668  {'clf__activation': 'relu', 'clf__alpha': 0.1,...\n",
       "2   DNN    0.784820  {'clf__batch_size': 128, 'clf__epochs': 50, 'c..."
      ]
     },
     "execution_count": 31,
     "metadata": {},
     "output_type": "execute_result"
    }
   ],
   "source": [
    "if 'ANN' in result.Model.values.tolist():\n",
    "    result.loc[result.Model.values.tolist().index('ANN')] = ['ANN', grid.best_score_, grid.best_params_]\n",
    "else:\n",
    "    result.loc[len(result.index)] = ['ANN', grid.best_score_, grid.best_params_]\n",
    "result.head()"
   ]
  },
  {
   "cell_type": "code",
   "execution_count": 32,
   "metadata": {},
   "outputs": [],
   "source": [
    "result.to_csv('../csv/model_results.csv', index=None)"
   ]
  }
 ],
 "metadata": {
  "kernelspec": {
   "display_name": "base",
   "language": "python",
   "name": "python3"
  },
  "language_info": {
   "codemirror_mode": {
    "name": "ipython",
    "version": 3
   },
   "file_extension": ".py",
   "mimetype": "text/x-python",
   "name": "python",
   "nbconvert_exporter": "python",
   "pygments_lexer": "ipython3",
   "version": "3.9.13"
  },
  "orig_nbformat": 4,
  "vscode": {
   "interpreter": {
    "hash": "ff4f85d6e04298634172ac5d8264e7e9b556b95639fe52ebb9425c4d4cba0c9c"
   }
  }
 },
 "nbformat": 4,
 "nbformat_minor": 2
}
