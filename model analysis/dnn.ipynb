{
 "cells": [
  {
   "attachments": {},
   "cell_type": "markdown",
   "metadata": {},
   "source": [
    "# 데이터 불러오기"
   ]
  },
  {
   "cell_type": "code",
   "execution_count": 1,
   "metadata": {},
   "outputs": [],
   "source": [
    "import pandas as pd\n",
    "import warnings\n",
    "import matplotlib.pyplot as plt\n",
    "from matplotlib import font_manager, rc\n",
    "\n",
    "# 경고 무시\n",
    "warnings.filterwarnings('ignore')\n",
    "\n",
    "#한글 처리를 위해 폰트 설정\n",
    "font_name = font_manager.FontProperties(fname=\"c:/Windows/Fonts/malgun.ttf\").get_name()\n",
    "rc('font', family=font_name)"
   ]
  },
  {
   "cell_type": "code",
   "execution_count": 2,
   "metadata": {},
   "outputs": [
    {
     "data": {
      "text/html": [
       "<div>\n",
       "<style scoped>\n",
       "    .dataframe tbody tr th:only-of-type {\n",
       "        vertical-align: middle;\n",
       "    }\n",
       "\n",
       "    .dataframe tbody tr th {\n",
       "        vertical-align: top;\n",
       "    }\n",
       "\n",
       "    .dataframe thead th {\n",
       "        text-align: right;\n",
       "    }\n",
       "</style>\n",
       "<table border=\"1\" class=\"dataframe\">\n",
       "  <thead>\n",
       "    <tr style=\"text-align: right;\">\n",
       "      <th></th>\n",
       "      <th>fraud_bool</th>\n",
       "      <th>income</th>\n",
       "      <th>name_email_similarity</th>\n",
       "      <th>current_address_months_count</th>\n",
       "      <th>customer_age</th>\n",
       "      <th>days_since_request</th>\n",
       "      <th>intended_balcon_amount</th>\n",
       "      <th>zip_count_4w</th>\n",
       "      <th>velocity_24h</th>\n",
       "      <th>date_of_birth_distinct_emails_4w</th>\n",
       "      <th>...</th>\n",
       "      <th>housing_status_BE</th>\n",
       "      <th>housing_status_BF</th>\n",
       "      <th>housing_status_BG</th>\n",
       "      <th>source_INTERNET</th>\n",
       "      <th>source_TELEAPP</th>\n",
       "      <th>device_os_linux</th>\n",
       "      <th>device_os_macintosh</th>\n",
       "      <th>device_os_other</th>\n",
       "      <th>device_os_windows</th>\n",
       "      <th>device_os_x11</th>\n",
       "    </tr>\n",
       "  </thead>\n",
       "  <tbody>\n",
       "    <tr>\n",
       "      <th>0</th>\n",
       "      <td>0</td>\n",
       "      <td>0.9</td>\n",
       "      <td>0.642713</td>\n",
       "      <td>0.0</td>\n",
       "      <td>20</td>\n",
       "      <td>0.009624</td>\n",
       "      <td>105.898067</td>\n",
       "      <td>1724</td>\n",
       "      <td>7394.902554</td>\n",
       "      <td>8</td>\n",
       "      <td>...</td>\n",
       "      <td>1</td>\n",
       "      <td>0</td>\n",
       "      <td>0</td>\n",
       "      <td>1</td>\n",
       "      <td>0</td>\n",
       "      <td>0</td>\n",
       "      <td>0</td>\n",
       "      <td>1</td>\n",
       "      <td>0</td>\n",
       "      <td>0</td>\n",
       "    </tr>\n",
       "    <tr>\n",
       "      <th>1</th>\n",
       "      <td>0</td>\n",
       "      <td>0.9</td>\n",
       "      <td>0.720064</td>\n",
       "      <td>200.0</td>\n",
       "      <td>40</td>\n",
       "      <td>0.007018</td>\n",
       "      <td>33.006203</td>\n",
       "      <td>1986</td>\n",
       "      <td>5416.601990</td>\n",
       "      <td>5</td>\n",
       "      <td>...</td>\n",
       "      <td>1</td>\n",
       "      <td>0</td>\n",
       "      <td>0</td>\n",
       "      <td>1</td>\n",
       "      <td>0</td>\n",
       "      <td>0</td>\n",
       "      <td>0</td>\n",
       "      <td>0</td>\n",
       "      <td>1</td>\n",
       "      <td>0</td>\n",
       "    </tr>\n",
       "    <tr>\n",
       "      <th>2</th>\n",
       "      <td>0</td>\n",
       "      <td>0.9</td>\n",
       "      <td>0.075432</td>\n",
       "      <td>129.0</td>\n",
       "      <td>40</td>\n",
       "      <td>0.009764</td>\n",
       "      <td>-0.632448</td>\n",
       "      <td>2411</td>\n",
       "      <td>7423.819019</td>\n",
       "      <td>7</td>\n",
       "      <td>...</td>\n",
       "      <td>0</td>\n",
       "      <td>0</td>\n",
       "      <td>0</td>\n",
       "      <td>1</td>\n",
       "      <td>0</td>\n",
       "      <td>0</td>\n",
       "      <td>0</td>\n",
       "      <td>0</td>\n",
       "      <td>1</td>\n",
       "      <td>0</td>\n",
       "    </tr>\n",
       "    <tr>\n",
       "      <th>3</th>\n",
       "      <td>0</td>\n",
       "      <td>0.5</td>\n",
       "      <td>0.784344</td>\n",
       "      <td>240.0</td>\n",
       "      <td>20</td>\n",
       "      <td>0.017281</td>\n",
       "      <td>-1.612753</td>\n",
       "      <td>1731</td>\n",
       "      <td>4489.610329</td>\n",
       "      <td>8</td>\n",
       "      <td>...</td>\n",
       "      <td>1</td>\n",
       "      <td>0</td>\n",
       "      <td>0</td>\n",
       "      <td>1</td>\n",
       "      <td>0</td>\n",
       "      <td>1</td>\n",
       "      <td>0</td>\n",
       "      <td>0</td>\n",
       "      <td>0</td>\n",
       "      <td>0</td>\n",
       "    </tr>\n",
       "    <tr>\n",
       "      <th>4</th>\n",
       "      <td>0</td>\n",
       "      <td>0.8</td>\n",
       "      <td>0.770435</td>\n",
       "      <td>150.0</td>\n",
       "      <td>40</td>\n",
       "      <td>9.370346</td>\n",
       "      <td>26.733867</td>\n",
       "      <td>1863</td>\n",
       "      <td>6301.097061</td>\n",
       "      <td>7</td>\n",
       "      <td>...</td>\n",
       "      <td>0</td>\n",
       "      <td>0</td>\n",
       "      <td>0</td>\n",
       "      <td>1</td>\n",
       "      <td>0</td>\n",
       "      <td>1</td>\n",
       "      <td>0</td>\n",
       "      <td>0</td>\n",
       "      <td>0</td>\n",
       "      <td>0</td>\n",
       "    </tr>\n",
       "  </tbody>\n",
       "</table>\n",
       "<p>5 rows × 47 columns</p>\n",
       "</div>"
      ],
      "text/plain": [
       "   fraud_bool  income  name_email_similarity  current_address_months_count  \\\n",
       "0           0     0.9               0.642713                           0.0   \n",
       "1           0     0.9               0.720064                         200.0   \n",
       "2           0     0.9               0.075432                         129.0   \n",
       "3           0     0.5               0.784344                         240.0   \n",
       "4           0     0.8               0.770435                         150.0   \n",
       "\n",
       "   customer_age  days_since_request  intended_balcon_amount  zip_count_4w  \\\n",
       "0            20            0.009624              105.898067          1724   \n",
       "1            40            0.007018               33.006203          1986   \n",
       "2            40            0.009764               -0.632448          2411   \n",
       "3            20            0.017281               -1.612753          1731   \n",
       "4            40            9.370346               26.733867          1863   \n",
       "\n",
       "   velocity_24h  date_of_birth_distinct_emails_4w  ...  housing_status_BE  \\\n",
       "0   7394.902554                                 8  ...                  1   \n",
       "1   5416.601990                                 5  ...                  1   \n",
       "2   7423.819019                                 7  ...                  0   \n",
       "3   4489.610329                                 8  ...                  1   \n",
       "4   6301.097061                                 7  ...                  0   \n",
       "\n",
       "   housing_status_BF  housing_status_BG  source_INTERNET  source_TELEAPP  \\\n",
       "0                  0                  0                1               0   \n",
       "1                  0                  0                1               0   \n",
       "2                  0                  0                1               0   \n",
       "3                  0                  0                1               0   \n",
       "4                  0                  0                1               0   \n",
       "\n",
       "   device_os_linux  device_os_macintosh  device_os_other  device_os_windows  \\\n",
       "0                0                    0                1                  0   \n",
       "1                0                    0                0                  1   \n",
       "2                0                    0                0                  1   \n",
       "3                1                    0                0                  0   \n",
       "4                1                    0                0                  0   \n",
       "\n",
       "   device_os_x11  \n",
       "0              0  \n",
       "1              0  \n",
       "2              0  \n",
       "3              0  \n",
       "4              0  \n",
       "\n",
       "[5 rows x 47 columns]"
      ]
     },
     "execution_count": 2,
     "metadata": {},
     "output_type": "execute_result"
    }
   ],
   "source": [
    "df = pd.read_csv('../csv/preprocess.csv')\n",
    "df.head()"
   ]
  },
  {
   "attachments": {},
   "cell_type": "markdown",
   "metadata": {},
   "source": [
    "# 분석"
   ]
  },
  {
   "cell_type": "code",
   "execution_count": 3,
   "metadata": {},
   "outputs": [
    {
     "data": {
      "text/plain": [
       "0    6871\n",
       "1    6871\n",
       "Name: fraud_bool, dtype: int64"
      ]
     },
     "execution_count": 3,
     "metadata": {},
     "output_type": "execute_result"
    }
   ],
   "source": [
    "train_cols = df.columns[1:]\n",
    "X = df[train_cols] # 독립변수\n",
    "y = df[\"fraud_bool\"] # 종속변수\n",
    "df[\"fraud_bool\"].value_counts()"
   ]
  },
  {
   "cell_type": "code",
   "execution_count": 4,
   "metadata": {},
   "outputs": [],
   "source": [
    "from sklearn.model_selection import train_test_split\n",
    "X_train, X_test, y_train, y_test = train_test_split(X, y, test_size = 0.2, stratify = y, random_state = 0)"
   ]
  },
  {
   "cell_type": "code",
   "execution_count": 5,
   "metadata": {},
   "outputs": [],
   "source": [
    "from sklearn.pipeline import Pipeline\n",
    "from sklearn.preprocessing import StandardScaler\n",
    "from sklearn.model_selection import GridSearchCV\n",
    "from scikeras.wrappers import KerasClassifier\n",
    "from keras import models\n",
    "from keras import layers\n",
    "def create_network(optimizer=\"rmsprop\"):\n",
    "    network = models.Sequential()\n",
    "    network.add(layers.Dense(units=16, activation=\"relu\", input_shape=(X.shape[1],)))\n",
    "    network.add(layers.Dense(units=16, activation=\"relu\"))\n",
    "    network.add(layers.Dense(units=1, activation=\"sigmoid\"))\n",
    "    network.compile(loss='binary_crossentropy', \n",
    "                    optimizer=optimizer, # 옵티마이저 \n",
    "                    metrics=[\"accuracy\"]) # 성능 지표\n",
    "    return network"
   ]
  },
  {
   "cell_type": "code",
   "execution_count": 6,
   "metadata": {},
   "outputs": [],
   "source": [
    "neural_network = KerasClassifier(model=create_network, verbose=0)\n",
    "# 하이퍼파라미터 탐색 영역을 정의\n",
    "pipe=Pipeline([\n",
    "    ('scaler', StandardScaler()),\n",
    "    ('clf', neural_network)\n",
    "    ])\n",
    "params={\n",
    "    'clf__epochs': [50, 100],\n",
    "    'clf__batch_size': [32,64,128],\n",
    "    'clf__optimizer': [\"rmsprop\", \"adam\"],\n",
    "    }\n",
    "grid=GridSearchCV(pipe, params, scoring='accuracy', cv=3)\n",
    "grid_result = grid.fit(X, y)"
   ]
  },
  {
   "cell_type": "code",
   "execution_count": 7,
   "metadata": {},
   "outputs": [
    {
     "name": "stdout",
     "output_type": "stream",
     "text": [
      "{'clf__batch_size': 128, 'clf__epochs': 50, 'clf__optimizer': 'adam'}\n",
      "0.7821273203952659\n"
     ]
    }
   ],
   "source": [
    "print(grid_result.best_params_)\n",
    "print(grid_result.best_score_)"
   ]
  },
  {
   "cell_type": "code",
   "execution_count": 8,
   "metadata": {},
   "outputs": [],
   "source": [
    "pred = grid_result.predict(X)"
   ]
  },
  {
   "cell_type": "code",
   "execution_count": 9,
   "metadata": {},
   "outputs": [],
   "source": [
    "# 최적의 파라미터로 저장할 수 있는 모델(keras)로 다시 돌리기\n",
    "from sklearn.pipeline import Pipeline\n",
    "from sklearn.preprocessing import StandardScaler\n",
    "from sklearn.model_selection import GridSearchCV\n",
    "from scikeras.wrappers import KerasClassifier\n",
    "from keras import models\n",
    "from keras import layers\n",
    "def make_model():\n",
    "    model = models.Sequential()\n",
    "    model.add(layers.Dense(units=16, activation=\"relu\", input_shape=(X.shape[1],), name=\"Hidden-1\"))\n",
    "    model.add(layers.Dense(units=16, activation=\"relu\", name=\"Hidden-2\"))\n",
    "    model.add(layers.Dense(units=1, activation=\"sigmoid\", name=\"Output\"))\n",
    "    model.compile(loss='binary_crossentropy', \n",
    "                    optimizer=\"adam\", # 옵티마이저 \n",
    "                    metrics=[\"accuracy\"]) # 성능 지표\n",
    "    return model"
   ]
  },
  {
   "cell_type": "code",
   "execution_count": 10,
   "metadata": {},
   "outputs": [],
   "source": [
    "model = make_model()"
   ]
  },
  {
   "cell_type": "code",
   "execution_count": 11,
   "metadata": {},
   "outputs": [
    {
     "data": {
      "image/png": "[encoded data removed]",
      "text/plain": [
       "<IPython.core.display.Image object>"
      ]
     },
     "execution_count": 11,
     "metadata": {},
     "output_type": "execute_result"
    }
   ],
   "source": [
    "from keras.utils import plot_model  \n",
    "plot_model(model,show_shapes=True)"
   ]
  },
  {
   "cell_type": "code",
   "execution_count": 12,
   "metadata": {},
   "outputs": [
    {
     "data": {
      "text/plain": [
       "'c:/logs/20230428-180522'"
      ]
     },
     "execution_count": 12,
     "metadata": {},
     "output_type": "execute_result"
    }
   ],
   "source": [
    "from datetime import datetime  \n",
    "import tensorflow as tf  \n",
    "logdir=\"c:/logs/\" + datetime.now().strftime(\"%Y%m%d-%H%M%S\")  \n",
    "logdir"
   ]
  },
  {
   "cell_type": "code",
   "execution_count": 13,
   "metadata": {},
   "outputs": [
    {
     "name": "stdout",
     "output_type": "stream",
     "text": [
      "Epoch 1/50\n",
      "106/108 [============================>.] - ETA: 0s - loss: 5.2665 - accuracy: 0.5781WARNING:tensorflow:Early stopping conditioned on metric `val_loss` which is not available. Available metrics are: loss,accuracy\n",
      "108/108 [==============================] - 1s 4ms/step - loss: 5.2218 - accuracy: 0.5783\n",
      "Epoch 2/50\n",
      "104/108 [===========================>..] - ETA: 0s - loss: 1.2166 - accuracy: 0.5874WARNING:tensorflow:Early stopping conditioned on metric `val_loss` which is not available. Available metrics are: loss,accuracy\n",
      "108/108 [==============================] - 1s 5ms/step - loss: 1.2087 - accuracy: 0.5868\n",
      "Epoch 3/50\n",
      "102/108 [===========================>..] - ETA: 0s - loss: 0.8380 - accuracy: 0.6019WARNING:tensorflow:Early stopping conditioned on metric `val_loss` which is not available. Available metrics are: loss,accuracy\n",
      "108/108 [==============================] - 0s 4ms/step - loss: 0.8320 - accuracy: 0.6035\n",
      "Epoch 4/50\n",
      "102/108 [===========================>..] - ETA: 0s - loss: 0.6599 - accuracy: 0.6651WARNING:tensorflow:Early stopping conditioned on metric `val_loss` which is not available. Available metrics are: loss,accuracy\n",
      "108/108 [==============================] - 0s 4ms/step - loss: 0.6603 - accuracy: 0.6645\n",
      "Epoch 5/50\n",
      "100/108 [==========================>...] - ETA: 0s - loss: 0.7628 - accuracy: 0.6329WARNING:tensorflow:Early stopping conditioned on metric `val_loss` which is not available. Available metrics are: loss,accuracy\n",
      "108/108 [==============================] - 0s 4ms/step - loss: 0.7568 - accuracy: 0.6357\n",
      "Epoch 6/50\n",
      " 98/108 [==========================>...] - ETA: 0s - loss: 0.6589 - accuracy: 0.6787WARNING:tensorflow:Early stopping conditioned on metric `val_loss` which is not available. Available metrics are: loss,accuracy\n",
      "108/108 [==============================] - 0s 4ms/step - loss: 0.6541 - accuracy: 0.6801\n",
      "Epoch 7/50\n",
      "103/108 [===========================>..] - ETA: 0s - loss: 0.7062 - accuracy: 0.6635WARNING:tensorflow:Early stopping conditioned on metric `val_loss` which is not available. Available metrics are: loss,accuracy\n",
      "108/108 [==============================] - 0s 4ms/step - loss: 0.7067 - accuracy: 0.6623\n",
      "Epoch 8/50\n",
      "102/108 [===========================>..] - ETA: 0s - loss: 0.6127 - accuracy: 0.6990WARNING:tensorflow:Early stopping conditioned on metric `val_loss` which is not available. Available metrics are: loss,accuracy\n",
      "108/108 [==============================] - 0s 4ms/step - loss: 0.6094 - accuracy: 0.7019\n",
      "Epoch 9/50\n",
      "104/108 [===========================>..] - ETA: 0s - loss: 0.6077 - accuracy: 0.6973WARNING:tensorflow:Early stopping conditioned on metric `val_loss` which is not available. Available metrics are: loss,accuracy\n",
      "108/108 [==============================] - 0s 4ms/step - loss: 0.6083 - accuracy: 0.6977\n",
      "Epoch 10/50\n",
      "108/108 [==============================] - ETA: 0s - loss: 0.7615 - accuracy: 0.6602WARNING:tensorflow:Early stopping conditioned on metric `val_loss` which is not available. Available metrics are: loss,accuracy\n",
      "108/108 [==============================] - 1s 5ms/step - loss: 0.7615 - accuracy: 0.6602\n",
      "Epoch 11/50\n",
      "100/108 [==========================>...] - ETA: 0s - loss: 0.5626 - accuracy: 0.7297WARNING:tensorflow:Early stopping conditioned on metric `val_loss` which is not available. Available metrics are: loss,accuracy\n",
      "108/108 [==============================] - 0s 4ms/step - loss: 0.5731 - accuracy: 0.7237\n",
      "Epoch 12/50\n",
      "102/108 [===========================>..] - ETA: 0s - loss: 0.5660 - accuracy: 0.7272WARNING:tensorflow:Early stopping conditioned on metric `val_loss` which is not available. Available metrics are: loss,accuracy\n",
      "108/108 [==============================] - 0s 4ms/step - loss: 0.5619 - accuracy: 0.7296\n",
      "Epoch 13/50\n",
      " 99/108 [==========================>...] - ETA: 0s - loss: 0.5489 - accuracy: 0.7362WARNING:tensorflow:Early stopping conditioned on metric `val_loss` which is not available. Available metrics are: loss,accuracy\n",
      "108/108 [==============================] - 0s 4ms/step - loss: 0.5471 - accuracy: 0.7369\n",
      "Epoch 14/50\n",
      "103/108 [===========================>..] - ETA: 0s - loss: 0.5400 - accuracy: 0.7402WARNING:tensorflow:Early stopping conditioned on metric `val_loss` which is not available. Available metrics are: loss,accuracy\n",
      "108/108 [==============================] - 0s 4ms/step - loss: 0.5384 - accuracy: 0.7404\n",
      "Epoch 15/50\n",
      "101/108 [===========================>..] - ETA: 0s - loss: 0.5971 - accuracy: 0.7098WARNING:tensorflow:Early stopping conditioned on metric `val_loss` which is not available. Available metrics are: loss,accuracy\n",
      "108/108 [==============================] - 0s 4ms/step - loss: 0.5985 - accuracy: 0.7100\n",
      "Epoch 16/50\n",
      "101/108 [===========================>..] - ETA: 0s - loss: 0.6108 - accuracy: 0.7095WARNING:tensorflow:Early stopping conditioned on metric `val_loss` which is not available. Available metrics are: loss,accuracy\n",
      "108/108 [==============================] - 0s 4ms/step - loss: 0.6069 - accuracy: 0.7122\n",
      "Epoch 17/50\n",
      "103/108 [===========================>..] - ETA: 0s - loss: 0.5460 - accuracy: 0.7381WARNING:tensorflow:Early stopping conditioned on metric `val_loss` which is not available. Available metrics are: loss,accuracy\n",
      "108/108 [==============================] - 0s 4ms/step - loss: 0.5429 - accuracy: 0.7404\n",
      "Epoch 18/50\n",
      "105/108 [============================>.] - ETA: 0s - loss: 0.6763 - accuracy: 0.6923WARNING:tensorflow:Early stopping conditioned on metric `val_loss` which is not available. Available metrics are: loss,accuracy\n",
      "108/108 [==============================] - 0s 4ms/step - loss: 0.6723 - accuracy: 0.6933\n",
      "Epoch 19/50\n",
      "105/108 [============================>.] - ETA: 0s - loss: 0.5686 - accuracy: 0.7265WARNING:tensorflow:Early stopping conditioned on metric `val_loss` which is not available. Available metrics are: loss,accuracy\n",
      "108/108 [==============================] - 0s 4ms/step - loss: 0.5690 - accuracy: 0.7265\n",
      "Epoch 20/50\n",
      " 98/108 [==========================>...] - ETA: 0s - loss: 0.5709 - accuracy: 0.7303WARNING:tensorflow:Early stopping conditioned on metric `val_loss` which is not available. Available metrics are: loss,accuracy\n",
      "108/108 [==============================] - 1s 5ms/step - loss: 0.5669 - accuracy: 0.7314\n",
      "Epoch 21/50\n",
      "103/108 [===========================>..] - ETA: 0s - loss: 0.5258 - accuracy: 0.7482WARNING:tensorflow:Early stopping conditioned on metric `val_loss` which is not available. Available metrics are: loss,accuracy\n",
      "108/108 [==============================] - 0s 4ms/step - loss: 0.5263 - accuracy: 0.7477\n",
      "Epoch 22/50\n",
      "101/108 [===========================>..] - ETA: 0s - loss: 0.5579 - accuracy: 0.7370WARNING:tensorflow:Early stopping conditioned on metric `val_loss` which is not available. Available metrics are: loss,accuracy\n",
      "108/108 [==============================] - 0s 4ms/step - loss: 0.5552 - accuracy: 0.7378\n",
      "Epoch 23/50\n",
      "100/108 [==========================>...] - ETA: 0s - loss: 0.5605 - accuracy: 0.7342WARNING:tensorflow:Early stopping conditioned on metric `val_loss` which is not available. Available metrics are: loss,accuracy\n",
      "108/108 [==============================] - 0s 4ms/step - loss: 0.5570 - accuracy: 0.7373\n",
      "Epoch 24/50\n",
      "103/108 [===========================>..] - ETA: 0s - loss: 0.5878 - accuracy: 0.7211WARNING:tensorflow:Early stopping conditioned on metric `val_loss` which is not available. Available metrics are: loss,accuracy\n",
      "108/108 [==============================] - 0s 4ms/step - loss: 0.5902 - accuracy: 0.7210\n",
      "Epoch 25/50\n",
      "102/108 [===========================>..] - ETA: 0s - loss: 0.5492 - accuracy: 0.7421WARNING:tensorflow:Early stopping conditioned on metric `val_loss` which is not available. Available metrics are: loss,accuracy\n",
      "108/108 [==============================] - 0s 4ms/step - loss: 0.5504 - accuracy: 0.7417\n",
      "Epoch 26/50\n",
      "103/108 [===========================>..] - ETA: 0s - loss: 0.5523 - accuracy: 0.7442WARNING:tensorflow:Early stopping conditioned on metric `val_loss` which is not available. Available metrics are: loss,accuracy\n",
      "108/108 [==============================] - 0s 4ms/step - loss: 0.5511 - accuracy: 0.7447\n",
      "Epoch 27/50\n",
      "102/108 [===========================>..] - ETA: 0s - loss: 0.5650 - accuracy: 0.7307WARNING:tensorflow:Early stopping conditioned on metric `val_loss` which is not available. Available metrics are: loss,accuracy\n",
      "108/108 [==============================] - 0s 4ms/step - loss: 0.5635 - accuracy: 0.7313\n",
      "Epoch 28/50\n",
      "101/108 [===========================>..] - ETA: 0s - loss: 0.5380 - accuracy: 0.7469WARNING:tensorflow:Early stopping conditioned on metric `val_loss` which is not available. Available metrics are: loss,accuracy\n",
      "108/108 [==============================] - 0s 4ms/step - loss: 0.5356 - accuracy: 0.7483\n",
      "Epoch 29/50\n",
      "105/108 [============================>.] - ETA: 0s - loss: 0.5206 - accuracy: 0.7551WARNING:tensorflow:Early stopping conditioned on metric `val_loss` which is not available. Available metrics are: loss,accuracy\n",
      "108/108 [==============================] - 1s 5ms/step - loss: 0.5206 - accuracy: 0.7550\n",
      "Epoch 30/50\n",
      "103/108 [===========================>..] - ETA: 0s - loss: 0.5707 - accuracy: 0.7337WARNING:tensorflow:Early stopping conditioned on metric `val_loss` which is not available. Available metrics are: loss,accuracy\n",
      "108/108 [==============================] - 0s 4ms/step - loss: 0.5685 - accuracy: 0.7348\n",
      "Epoch 31/50\n",
      " 97/108 [=========================>....] - ETA: 0s - loss: 0.5246 - accuracy: 0.7534WARNING:tensorflow:Early stopping conditioned on metric `val_loss` which is not available. Available metrics are: loss,accuracy\n",
      "108/108 [==============================] - 0s 4ms/step - loss: 0.5261 - accuracy: 0.7517\n",
      "Epoch 32/50\n",
      "101/108 [===========================>..] - ETA: 0s - loss: 0.5220 - accuracy: 0.7596WARNING:tensorflow:Early stopping conditioned on metric `val_loss` which is not available. Available metrics are: loss,accuracy\n",
      "108/108 [==============================] - 0s 4ms/step - loss: 0.5210 - accuracy: 0.7602\n",
      "Epoch 33/50\n",
      "104/108 [===========================>..] - ETA: 0s - loss: 0.6411 - accuracy: 0.7261WARNING:tensorflow:Early stopping conditioned on metric `val_loss` which is not available. Available metrics are: loss,accuracy\n",
      "108/108 [==============================] - 0s 4ms/step - loss: 0.6372 - accuracy: 0.7271\n",
      "Epoch 34/50\n",
      "101/108 [===========================>..] - ETA: 0s - loss: 0.5300 - accuracy: 0.7549WARNING:tensorflow:Early stopping conditioned on metric `val_loss` which is not available. Available metrics are: loss,accuracy\n",
      "108/108 [==============================] - 0s 4ms/step - loss: 0.5260 - accuracy: 0.7562\n",
      "Epoch 35/50\n",
      " 99/108 [==========================>...] - ETA: 0s - loss: 0.5109 - accuracy: 0.7669WARNING:tensorflow:Early stopping conditioned on metric `val_loss` which is not available. Available metrics are: loss,accuracy\n",
      "108/108 [==============================] - 0s 4ms/step - loss: 0.5259 - accuracy: 0.7625\n",
      "Epoch 36/50\n",
      "103/108 [===========================>..] - ETA: 0s - loss: 0.5240 - accuracy: 0.7571WARNING:tensorflow:Early stopping conditioned on metric `val_loss` which is not available. Available metrics are: loss,accuracy\n",
      "108/108 [==============================] - 0s 4ms/step - loss: 0.5270 - accuracy: 0.7554\n",
      "Epoch 37/50\n",
      "101/108 [===========================>..] - ETA: 0s - loss: 0.5911 - accuracy: 0.7272WARNING:tensorflow:Early stopping conditioned on metric `val_loss` which is not available. Available metrics are: loss,accuracy\n",
      "108/108 [==============================] - 0s 4ms/step - loss: 0.5870 - accuracy: 0.7293\n",
      "Epoch 38/50\n",
      "103/108 [===========================>..] - ETA: 0s - loss: 0.5161 - accuracy: 0.7582WARNING:tensorflow:Early stopping conditioned on metric `val_loss` which is not available. Available metrics are: loss,accuracy\n",
      "108/108 [==============================] - 1s 5ms/step - loss: 0.5229 - accuracy: 0.7553\n",
      "Epoch 39/50\n",
      "103/108 [===========================>..] - ETA: 0s - loss: 0.5400 - accuracy: 0.7488WARNING:tensorflow:Early stopping conditioned on metric `val_loss` which is not available. Available metrics are: loss,accuracy\n",
      "108/108 [==============================] - 0s 4ms/step - loss: 0.5440 - accuracy: 0.7465\n",
      "Epoch 40/50\n",
      "103/108 [===========================>..] - ETA: 0s - loss: 0.5410 - accuracy: 0.7473WARNING:tensorflow:Early stopping conditioned on metric `val_loss` which is not available. Available metrics are: loss,accuracy\n",
      "108/108 [==============================] - 0s 4ms/step - loss: 0.5432 - accuracy: 0.7463\n",
      "Epoch 41/50\n",
      "104/108 [===========================>..] - ETA: 0s - loss: 0.5577 - accuracy: 0.7435WARNING:tensorflow:Early stopping conditioned on metric `val_loss` which is not available. Available metrics are: loss,accuracy\n",
      "108/108 [==============================] - 0s 4ms/step - loss: 0.5595 - accuracy: 0.7436\n",
      "Epoch 42/50\n",
      "105/108 [============================>.] - ETA: 0s - loss: 0.5663 - accuracy: 0.7429WARNING:tensorflow:Early stopping conditioned on metric `val_loss` which is not available. Available metrics are: loss,accuracy\n",
      "108/108 [==============================] - 0s 4ms/step - loss: 0.5653 - accuracy: 0.7433\n",
      "Epoch 43/50\n",
      "102/108 [===========================>..] - ETA: 0s - loss: 0.5404 - accuracy: 0.7561WARNING:tensorflow:Early stopping conditioned on metric `val_loss` which is not available. Available metrics are: loss,accuracy\n",
      "108/108 [==============================] - 0s 4ms/step - loss: 0.5427 - accuracy: 0.7549\n",
      "Epoch 44/50\n",
      "101/108 [===========================>..] - ETA: 0s - loss: 0.5978 - accuracy: 0.7310WARNING:tensorflow:Early stopping conditioned on metric `val_loss` which is not available. Available metrics are: loss,accuracy\n",
      "108/108 [==============================] - 0s 4ms/step - loss: 0.5927 - accuracy: 0.7338\n",
      "Epoch 45/50\n",
      "102/108 [===========================>..] - ETA: 0s - loss: 0.5196 - accuracy: 0.7634WARNING:tensorflow:Early stopping conditioned on metric `val_loss` which is not available. Available metrics are: loss,accuracy\n",
      "108/108 [==============================] - 0s 4ms/step - loss: 0.5217 - accuracy: 0.7622\n",
      "Epoch 46/50\n",
      "101/108 [===========================>..] - ETA: 0s - loss: 0.5120 - accuracy: 0.7573WARNING:tensorflow:Early stopping conditioned on metric `val_loss` which is not available. Available metrics are: loss,accuracy\n",
      "108/108 [==============================] - 0s 4ms/step - loss: 0.5084 - accuracy: 0.7597\n",
      "Epoch 47/50\n",
      "100/108 [==========================>...] - ETA: 0s - loss: 0.5510 - accuracy: 0.7503WARNING:tensorflow:Early stopping conditioned on metric `val_loss` which is not available. Available metrics are: loss,accuracy\n",
      "108/108 [==============================] - 1s 5ms/step - loss: 0.5479 - accuracy: 0.7509\n",
      "Epoch 48/50\n",
      "101/108 [===========================>..] - ETA: 0s - loss: 0.5328 - accuracy: 0.7551WARNING:tensorflow:Early stopping conditioned on metric `val_loss` which is not available. Available metrics are: loss,accuracy\n",
      "108/108 [==============================] - 0s 4ms/step - loss: 0.5277 - accuracy: 0.7574\n",
      "Epoch 49/50\n",
      "100/108 [==========================>...] - ETA: 0s - loss: 0.5418 - accuracy: 0.7527WARNING:tensorflow:Early stopping conditioned on metric `val_loss` which is not available. Available metrics are: loss,accuracy\n",
      "108/108 [==============================] - 0s 4ms/step - loss: 0.5379 - accuracy: 0.7545\n",
      "Epoch 50/50\n",
      "101/108 [===========================>..] - ETA: 0s - loss: 0.5370 - accuracy: 0.7553WARNING:tensorflow:Early stopping conditioned on metric `val_loss` which is not available. Available metrics are: loss,accuracy\n",
      "108/108 [==============================] - 0s 4ms/step - loss: 0.5391 - accuracy: 0.7535\n"
     ]
    }
   ],
   "source": [
    "# 모델 학습\n",
    "from keras.callbacks import EarlyStopping\n",
    "tb = tf.keras.callbacks.TensorBoard(log_dir=logdir) \n",
    "es = EarlyStopping()\n",
    "hist = model.fit(X, y, epochs=50, callbacks=[tb,es], batch_size=128)"
   ]
  },
  {
   "cell_type": "code",
   "execution_count": 14,
   "metadata": {},
   "outputs": [
    {
     "name": "stdout",
     "output_type": "stream",
     "text": [
      "430/430 [==============================] - 1s 3ms/step - loss: 0.4559 - accuracy: 0.7895\n",
      "[0.4558893144130707, 0.789477527141571]\n",
      "accuracy: 78.95%\n"
     ]
    }
   ],
   "source": [
    "# 모델 평가\n",
    "scores = model.evaluate(X, y, verbose=1)\n",
    "print(scores)\n",
    "print(\"%s: %.2f%%\" %(model.metrics_names[1], scores[1]*100))"
   ]
  },
  {
   "cell_type": "code",
   "execution_count": 15,
   "metadata": {},
   "outputs": [
    {
     "data": {
      "text/plain": [
       "array([[5605, 1266],\n",
       "       [1216, 5655]], dtype=int64)"
      ]
     },
     "execution_count": 15,
     "metadata": {},
     "output_type": "execute_result"
    }
   ],
   "source": [
    "#confusion matrix(혼동행렬, 오분류표) 출력\n",
    "from sklearn.metrics import confusion_matrix\n",
    "cm=confusion_matrix(y, pred)\n",
    "cm"
   ]
  },
  {
   "cell_type": "code",
   "execution_count": 16,
   "metadata": {},
   "outputs": [
    {
     "data": {
      "text/html": [
       "<div>\n",
       "<style scoped>\n",
       "    .dataframe tbody tr th:only-of-type {\n",
       "        vertical-align: middle;\n",
       "    }\n",
       "\n",
       "    .dataframe tbody tr th {\n",
       "        vertical-align: top;\n",
       "    }\n",
       "\n",
       "    .dataframe thead th {\n",
       "        text-align: right;\n",
       "    }\n",
       "</style>\n",
       "<table border=\"1\" class=\"dataframe\">\n",
       "  <thead>\n",
       "    <tr style=\"text-align: right;\">\n",
       "      <th></th>\n",
       "      <th>0</th>\n",
       "      <th>1</th>\n",
       "    </tr>\n",
       "  </thead>\n",
       "  <tbody>\n",
       "    <tr>\n",
       "      <th>0</th>\n",
       "      <td>5605</td>\n",
       "      <td>1266</td>\n",
       "    </tr>\n",
       "    <tr>\n",
       "      <th>1</th>\n",
       "      <td>1216</td>\n",
       "      <td>5655</td>\n",
       "    </tr>\n",
       "  </tbody>\n",
       "</table>\n",
       "</div>"
      ],
      "text/plain": [
       "      0     1\n",
       "0  5605  1266\n",
       "1  1216  5655"
      ]
     },
     "execution_count": 16,
     "metadata": {},
     "output_type": "execute_result"
    }
   ],
   "source": [
    "df_cm=pd.DataFrame(cm, index=[0, 1], columns=[0, 1])\n",
    "df_cm"
   ]
  },
  {
   "cell_type": "code",
   "execution_count": 17,
   "metadata": {},
   "outputs": [
    {
     "name": "stdout",
     "output_type": "stream",
     "text": [
      "0.8217270194986073 0.18292154312960554 0.8157473439091836 0.8217270194986073 0.8187262635115397\n"
     ]
    }
   ],
   "source": [
    "tpr = df_cm.loc[0,0] / (df_cm.loc[0,0] + df_cm.loc[1,0])\n",
    "fpr = df_cm.loc[0,1] / (df_cm.loc[0,1] + df_cm.loc[1,1])\n",
    "precision = df_cm.loc[0,0] / (df_cm.loc[0,0] + df_cm.loc[0,1])\n",
    "recall = df_cm.loc[0,0] / (df_cm.loc[0,0] + df_cm.loc[1,0])\n",
    "f = (2 * (precision * recall)) / (precision + recall)\n",
    "print(tpr, fpr, precision, recall, f)"
   ]
  },
  {
   "cell_type": "code",
   "execution_count": 18,
   "metadata": {},
   "outputs": [
    {
     "name": "stdout",
     "output_type": "stream",
     "text": [
      "              precision    recall  f1-score   support\n",
      "\n",
      "           0       0.82      0.82      0.82      6871\n",
      "           1       0.82      0.82      0.82      6871\n",
      "\n",
      "    accuracy                           0.82     13742\n",
      "   macro avg       0.82      0.82      0.82     13742\n",
      "weighted avg       0.82      0.82      0.82     13742\n",
      "\n"
     ]
    }
   ],
   "source": [
    "from sklearn.metrics import classification_report\n",
    "print(classification_report(y, grid_result.predict(X)))"
   ]
  },
  {
   "attachments": {},
   "cell_type": "markdown",
   "metadata": {},
   "source": [
    "# 시각화"
   ]
  },
  {
   "cell_type": "code",
   "execution_count": 19,
   "metadata": {},
   "outputs": [
    {
     "data": {
      "text/plain": [
       "<sklearn.metrics._plot.confusion_matrix.ConfusionMatrixDisplay at 0x1d606473070>"
      ]
     },
     "execution_count": 19,
     "metadata": {},
     "output_type": "execute_result"
    },
    {
     "data": {
      "image/png": "[encoded data removed]",
      "text/plain": [
       "<Figure size 640x480 with 2 Axes>"
      ]
     },
     "metadata": {},
     "output_type": "display_data"
    }
   ],
   "source": [
    "from sklearn.metrics import ConfusionMatrixDisplay\n",
    "ConfusionMatrixDisplay(confusion_matrix=cm, display_labels=grid_result.classes_).plot()"
   ]
  },
  {
   "cell_type": "code",
   "execution_count": 20,
   "metadata": {},
   "outputs": [
    {
     "data": {
      "text/plain": [
       "<sklearn.metrics._plot.roc_curve.RocCurveDisplay at 0x1d55f673c40>"
      ]
     },
     "execution_count": 20,
     "metadata": {},
     "output_type": "execute_result"
    },
    {
     "data": {
      "image/png": "[encoded data removed]",
      "text/plain": [
       "<Figure size 640x480 with 1 Axes>"
      ]
     },
     "metadata": {},
     "output_type": "display_data"
    }
   ],
   "source": [
    "from sklearn.metrics import RocCurveDisplay\n",
    "\n",
    "RocCurveDisplay.from_estimator(grid_result, X, y)\n",
    "# auc = 0.90"
   ]
  },
  {
   "attachments": {},
   "cell_type": "markdown",
   "metadata": {},
   "source": [
    "# 저장"
   ]
  },
  {
   "cell_type": "code",
   "execution_count": 21,
   "metadata": {},
   "outputs": [
    {
     "data": {
      "text/html": [
       "<div>\n",
       "<style scoped>\n",
       "    .dataframe tbody tr th:only-of-type {\n",
       "        vertical-align: middle;\n",
       "    }\n",
       "\n",
       "    .dataframe tbody tr th {\n",
       "        vertical-align: top;\n",
       "    }\n",
       "\n",
       "    .dataframe thead th {\n",
       "        text-align: right;\n",
       "    }\n",
       "</style>\n",
       "<table border=\"1\" class=\"dataframe\">\n",
       "  <thead>\n",
       "    <tr style=\"text-align: right;\">\n",
       "      <th></th>\n",
       "      <th>Model</th>\n",
       "      <th>Best Score</th>\n",
       "      <th>Best Parameter</th>\n",
       "      <th>Precision</th>\n",
       "      <th>Recall</th>\n",
       "      <th>F1-score</th>\n",
       "      <th>TPR</th>\n",
       "      <th>FPR</th>\n",
       "      <th>AUC</th>\n",
       "    </tr>\n",
       "  </thead>\n",
       "  <tbody>\n",
       "    <tr>\n",
       "      <th>0</th>\n",
       "      <td>KNN</td>\n",
       "      <td>0.768374</td>\n",
       "      <td>{'clf__n_neighbors': 20, 'clf__p': 2, 'clf__we...</td>\n",
       "      <td>0.814874</td>\n",
       "      <td>0.778071</td>\n",
       "      <td>0.796047</td>\n",
       "      <td>0.778071</td>\n",
       "      <td>0.194317</td>\n",
       "      <td>0.87</td>\n",
       "    </tr>\n",
       "    <tr>\n",
       "      <th>1</th>\n",
       "      <td>ANN</td>\n",
       "      <td>0.745668</td>\n",
       "      <td>{'clf__activation': 'relu', 'clf__alpha': 0.1,...</td>\n",
       "      <td>0.851841</td>\n",
       "      <td>0.848753</td>\n",
       "      <td>0.850294</td>\n",
       "      <td>0.848753</td>\n",
       "      <td>0.148700</td>\n",
       "      <td>0.93</td>\n",
       "    </tr>\n",
       "    <tr>\n",
       "      <th>2</th>\n",
       "      <td>DNN</td>\n",
       "      <td>0.784456</td>\n",
       "      <td>{'clf__batch_size': 128, 'clf__epochs': 50, 'c...</td>\n",
       "      <td>0.831757</td>\n",
       "      <td>0.817714</td>\n",
       "      <td>0.824675</td>\n",
       "      <td>0.817714</td>\n",
       "      <td>0.171183</td>\n",
       "      <td>0.90</td>\n",
       "    </tr>\n",
       "    <tr>\n",
       "      <th>3</th>\n",
       "      <td>SVM</td>\n",
       "      <td>0.788968</td>\n",
       "      <td>{'clf__C': 1000, 'clf__gamma': 0.0001, 'clf__k...</td>\n",
       "      <td>0.942221</td>\n",
       "      <td>0.639913</td>\n",
       "      <td>0.762185</td>\n",
       "      <td>0.639913</td>\n",
       "      <td>0.109517</td>\n",
       "      <td>0.85</td>\n",
       "    </tr>\n",
       "    <tr>\n",
       "      <th>4</th>\n",
       "      <td>RF</td>\n",
       "      <td>0.748072</td>\n",
       "      <td>{'clf__max_depth': 3, 'clf__max_leaf_nodes': 8...</td>\n",
       "      <td>0.887644</td>\n",
       "      <td>0.671992</td>\n",
       "      <td>0.764909</td>\n",
       "      <td>0.671992</td>\n",
       "      <td>0.165452</td>\n",
       "      <td>0.83</td>\n",
       "    </tr>\n",
       "    <tr>\n",
       "      <th>5</th>\n",
       "      <td>Logit</td>\n",
       "      <td>0.788022</td>\n",
       "      <td>{'clf__C': 0.1, 'clf__class_weight': 1, 'clf__...</td>\n",
       "      <td>0.796827</td>\n",
       "      <td>0.758731</td>\n",
       "      <td>0.777312</td>\n",
       "      <td>0.758731</td>\n",
       "      <td>0.213914</td>\n",
       "      <td>0.85</td>\n",
       "    </tr>\n",
       "    <tr>\n",
       "      <th>6</th>\n",
       "      <td>Tree</td>\n",
       "      <td>0.714525</td>\n",
       "      <td>{'clf__max_depth': 3, 'clf__max_leaf_nodes': 3...</td>\n",
       "      <td>0.622762</td>\n",
       "      <td>0.762745</td>\n",
       "      <td>0.685682</td>\n",
       "      <td>0.762745</td>\n",
       "      <td>0.318741</td>\n",
       "      <td>0.76</td>\n",
       "    </tr>\n",
       "  </tbody>\n",
       "</table>\n",
       "</div>"
      ],
      "text/plain": [
       "   Model  Best Score                                     Best Parameter  \\\n",
       "0    KNN    0.768374  {'clf__n_neighbors': 20, 'clf__p': 2, 'clf__we...   \n",
       "1    ANN    0.745668  {'clf__activation': 'relu', 'clf__alpha': 0.1,...   \n",
       "2    DNN    0.784456  {'clf__batch_size': 128, 'clf__epochs': 50, 'c...   \n",
       "3    SVM    0.788968  {'clf__C': 1000, 'clf__gamma': 0.0001, 'clf__k...   \n",
       "4     RF    0.748072  {'clf__max_depth': 3, 'clf__max_leaf_nodes': 8...   \n",
       "5  Logit    0.788022  {'clf__C': 0.1, 'clf__class_weight': 1, 'clf__...   \n",
       "6   Tree    0.714525  {'clf__max_depth': 3, 'clf__max_leaf_nodes': 3...   \n",
       "\n",
       "   Precision    Recall  F1-score       TPR       FPR   AUC  \n",
       "0   0.814874  0.778071  0.796047  0.778071  0.194317  0.87  \n",
       "1   0.851841  0.848753  0.850294  0.848753  0.148700  0.93  \n",
       "2   0.831757  0.817714  0.824675  0.817714  0.171183  0.90  \n",
       "3   0.942221  0.639913  0.762185  0.639913  0.109517  0.85  \n",
       "4   0.887644  0.671992  0.764909  0.671992  0.165452  0.83  \n",
       "5   0.796827  0.758731  0.777312  0.758731  0.213914  0.85  \n",
       "6   0.622762  0.762745  0.685682  0.762745  0.318741  0.76  "
      ]
     },
     "execution_count": 21,
     "metadata": {},
     "output_type": "execute_result"
    }
   ],
   "source": [
    "result = pd.read_csv('../csv/model_results.csv')\n",
    "result"
   ]
  },
  {
   "cell_type": "code",
   "execution_count": 22,
   "metadata": {},
   "outputs": [
    {
     "data": {
      "text/html": [
       "<div>\n",
       "<style scoped>\n",
       "    .dataframe tbody tr th:only-of-type {\n",
       "        vertical-align: middle;\n",
       "    }\n",
       "\n",
       "    .dataframe tbody tr th {\n",
       "        vertical-align: top;\n",
       "    }\n",
       "\n",
       "    .dataframe thead th {\n",
       "        text-align: right;\n",
       "    }\n",
       "</style>\n",
       "<table border=\"1\" class=\"dataframe\">\n",
       "  <thead>\n",
       "    <tr style=\"text-align: right;\">\n",
       "      <th></th>\n",
       "      <th>Model</th>\n",
       "      <th>Best Score</th>\n",
       "      <th>Best Parameter</th>\n",
       "      <th>Precision</th>\n",
       "      <th>Recall</th>\n",
       "      <th>F1-score</th>\n",
       "      <th>TPR</th>\n",
       "      <th>FPR</th>\n",
       "      <th>AUC</th>\n",
       "    </tr>\n",
       "  </thead>\n",
       "  <tbody>\n",
       "    <tr>\n",
       "      <th>0</th>\n",
       "      <td>KNN</td>\n",
       "      <td>0.768374</td>\n",
       "      <td>{'clf__n_neighbors': 20, 'clf__p': 2, 'clf__we...</td>\n",
       "      <td>0.814874</td>\n",
       "      <td>0.778071</td>\n",
       "      <td>0.796047</td>\n",
       "      <td>0.778071</td>\n",
       "      <td>0.194317</td>\n",
       "      <td>0.87</td>\n",
       "    </tr>\n",
       "    <tr>\n",
       "      <th>1</th>\n",
       "      <td>ANN</td>\n",
       "      <td>0.745668</td>\n",
       "      <td>{'clf__activation': 'relu', 'clf__alpha': 0.1,...</td>\n",
       "      <td>0.851841</td>\n",
       "      <td>0.848753</td>\n",
       "      <td>0.850294</td>\n",
       "      <td>0.848753</td>\n",
       "      <td>0.148700</td>\n",
       "      <td>0.93</td>\n",
       "    </tr>\n",
       "    <tr>\n",
       "      <th>2</th>\n",
       "      <td>DNN</td>\n",
       "      <td>0.789478</td>\n",
       "      <td>{'clf__batch_size': 128, 'clf__epochs': 50, 'c...</td>\n",
       "      <td>0.815747</td>\n",
       "      <td>0.821727</td>\n",
       "      <td>0.818726</td>\n",
       "      <td>0.821727</td>\n",
       "      <td>0.182922</td>\n",
       "      <td>0.90</td>\n",
       "    </tr>\n",
       "    <tr>\n",
       "      <th>3</th>\n",
       "      <td>SVM</td>\n",
       "      <td>0.788968</td>\n",
       "      <td>{'clf__C': 1000, 'clf__gamma': 0.0001, 'clf__k...</td>\n",
       "      <td>0.942221</td>\n",
       "      <td>0.639913</td>\n",
       "      <td>0.762185</td>\n",
       "      <td>0.639913</td>\n",
       "      <td>0.109517</td>\n",
       "      <td>0.85</td>\n",
       "    </tr>\n",
       "    <tr>\n",
       "      <th>4</th>\n",
       "      <td>RF</td>\n",
       "      <td>0.748072</td>\n",
       "      <td>{'clf__max_depth': 3, 'clf__max_leaf_nodes': 8...</td>\n",
       "      <td>0.887644</td>\n",
       "      <td>0.671992</td>\n",
       "      <td>0.764909</td>\n",
       "      <td>0.671992</td>\n",
       "      <td>0.165452</td>\n",
       "      <td>0.83</td>\n",
       "    </tr>\n",
       "    <tr>\n",
       "      <th>5</th>\n",
       "      <td>Logit</td>\n",
       "      <td>0.788022</td>\n",
       "      <td>{'clf__C': 0.1, 'clf__class_weight': 1, 'clf__...</td>\n",
       "      <td>0.796827</td>\n",
       "      <td>0.758731</td>\n",
       "      <td>0.777312</td>\n",
       "      <td>0.758731</td>\n",
       "      <td>0.213914</td>\n",
       "      <td>0.85</td>\n",
       "    </tr>\n",
       "    <tr>\n",
       "      <th>6</th>\n",
       "      <td>Tree</td>\n",
       "      <td>0.714525</td>\n",
       "      <td>{'clf__max_depth': 3, 'clf__max_leaf_nodes': 3...</td>\n",
       "      <td>0.622762</td>\n",
       "      <td>0.762745</td>\n",
       "      <td>0.685682</td>\n",
       "      <td>0.762745</td>\n",
       "      <td>0.318741</td>\n",
       "      <td>0.76</td>\n",
       "    </tr>\n",
       "  </tbody>\n",
       "</table>\n",
       "</div>"
      ],
      "text/plain": [
       "   Model  Best Score                                     Best Parameter  \\\n",
       "0    KNN    0.768374  {'clf__n_neighbors': 20, 'clf__p': 2, 'clf__we...   \n",
       "1    ANN    0.745668  {'clf__activation': 'relu', 'clf__alpha': 0.1,...   \n",
       "2    DNN    0.789478  {'clf__batch_size': 128, 'clf__epochs': 50, 'c...   \n",
       "3    SVM    0.788968  {'clf__C': 1000, 'clf__gamma': 0.0001, 'clf__k...   \n",
       "4     RF    0.748072  {'clf__max_depth': 3, 'clf__max_leaf_nodes': 8...   \n",
       "5  Logit    0.788022  {'clf__C': 0.1, 'clf__class_weight': 1, 'clf__...   \n",
       "6   Tree    0.714525  {'clf__max_depth': 3, 'clf__max_leaf_nodes': 3...   \n",
       "\n",
       "   Precision    Recall  F1-score       TPR       FPR   AUC  \n",
       "0   0.814874  0.778071  0.796047  0.778071  0.194317  0.87  \n",
       "1   0.851841  0.848753  0.850294  0.848753  0.148700  0.93  \n",
       "2   0.815747  0.821727  0.818726  0.821727  0.182922  0.90  \n",
       "3   0.942221  0.639913  0.762185  0.639913  0.109517  0.85  \n",
       "4   0.887644  0.671992  0.764909  0.671992  0.165452  0.83  \n",
       "5   0.796827  0.758731  0.777312  0.758731  0.213914  0.85  \n",
       "6   0.622762  0.762745  0.685682  0.762745  0.318741  0.76  "
      ]
     },
     "execution_count": 22,
     "metadata": {},
     "output_type": "execute_result"
    }
   ],
   "source": [
    "if 'DNN' in result.Model.values.tolist():\n",
    "    result.loc[result.Model.values.tolist().index('DNN')] = ['DNN', scores[1], grid_result.best_params_, precision, recall, f, tpr, fpr, 0.90]\n",
    "else:\n",
    "    result.loc[len(result.index)] = ['DNN', scores[1], grid_result.best_params_, precision, recall, f, tpr, fpr, 0.90]\n",
    "result"
   ]
  },
  {
   "cell_type": "code",
   "execution_count": 23,
   "metadata": {},
   "outputs": [],
   "source": [
    "result.to_csv('../csv/model_results.csv', index=None)"
   ]
  },
  {
   "cell_type": "code",
   "execution_count": 24,
   "metadata": {},
   "outputs": [],
   "source": [
    "model.save('../model/dnn.h5')"
   ]
  }
 ],
 "metadata": {
  "kernelspec": {
   "display_name": "base",
   "language": "python",
   "name": "python3"
  },
  "language_info": {
   "codemirror_mode": {
    "name": "ipython",
    "version": 3
   },
   "file_extension": ".py",
   "mimetype": "text/x-python",
   "name": "python",
   "nbconvert_exporter": "python",
   "pygments_lexer": "ipython3",
   "version": "3.9.13"
  },
  "orig_nbformat": 4,
  "vscode": {
   "interpreter": {
    "hash": "ff4f85d6e04298634172ac5d8264e7e9b556b95639fe52ebb9425c4d4cba0c9c"
   }
  }
 },
 "nbformat": 4,
 "nbformat_minor": 2
}
