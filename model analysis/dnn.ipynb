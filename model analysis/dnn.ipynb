{
 "cells": [
  {
   "attachments": {},
   "cell_type": "markdown",
   "metadata": {},
   "source": [
    "# 데이터 불러오기"
   ]
  },
  {
   "cell_type": "code",
   "execution_count": 1,
   "metadata": {},
   "outputs": [],
   "source": [
    "import pandas as pd\n",
    "import warnings\n",
    "import matplotlib.pyplot as plt\n",
    "from matplotlib import font_manager, rc\n",
    "\n",
    "# 경고 무시\n",
    "warnings.filterwarnings('ignore')\n",
    "\n",
    "#한글 처리를 위해 폰트 설정\n",
    "font_name = font_manager.FontProperties(fname=\"c:/Windows/Fonts/malgun.ttf\").get_name()\n",
    "rc('font', family=font_name)"
   ]
  },
  {
   "cell_type": "code",
   "execution_count": 2,
   "metadata": {},
   "outputs": [
    {
     "data": {
      "text/html": [
       "<div>\n",
       "<style scoped>\n",
       "    .dataframe tbody tr th:only-of-type {\n",
       "        vertical-align: middle;\n",
       "    }\n",
       "\n",
       "    .dataframe tbody tr th {\n",
       "        vertical-align: top;\n",
       "    }\n",
       "\n",
       "    .dataframe thead th {\n",
       "        text-align: right;\n",
       "    }\n",
       "</style>\n",
       "<table border=\"1\" class=\"dataframe\">\n",
       "  <thead>\n",
       "    <tr style=\"text-align: right;\">\n",
       "      <th></th>\n",
       "      <th>fraud_bool</th>\n",
       "      <th>income</th>\n",
       "      <th>name_email_similarity</th>\n",
       "      <th>current_address_months_count</th>\n",
       "      <th>customer_age</th>\n",
       "      <th>days_since_request</th>\n",
       "      <th>intended_balcon_amount</th>\n",
       "      <th>zip_count_4w</th>\n",
       "      <th>velocity_24h</th>\n",
       "      <th>date_of_birth_distinct_emails_4w</th>\n",
       "      <th>...</th>\n",
       "      <th>housing_status_BE</th>\n",
       "      <th>housing_status_BF</th>\n",
       "      <th>housing_status_BG</th>\n",
       "      <th>source_INTERNET</th>\n",
       "      <th>source_TELEAPP</th>\n",
       "      <th>device_os_linux</th>\n",
       "      <th>device_os_macintosh</th>\n",
       "      <th>device_os_other</th>\n",
       "      <th>device_os_windows</th>\n",
       "      <th>device_os_x11</th>\n",
       "    </tr>\n",
       "  </thead>\n",
       "  <tbody>\n",
       "    <tr>\n",
       "      <th>0</th>\n",
       "      <td>0</td>\n",
       "      <td>0.9</td>\n",
       "      <td>0.642713</td>\n",
       "      <td>0.0</td>\n",
       "      <td>20</td>\n",
       "      <td>0.009624</td>\n",
       "      <td>105.898067</td>\n",
       "      <td>1724</td>\n",
       "      <td>7394.902554</td>\n",
       "      <td>8</td>\n",
       "      <td>...</td>\n",
       "      <td>1</td>\n",
       "      <td>0</td>\n",
       "      <td>0</td>\n",
       "      <td>1</td>\n",
       "      <td>0</td>\n",
       "      <td>0</td>\n",
       "      <td>0</td>\n",
       "      <td>1</td>\n",
       "      <td>0</td>\n",
       "      <td>0</td>\n",
       "    </tr>\n",
       "    <tr>\n",
       "      <th>1</th>\n",
       "      <td>0</td>\n",
       "      <td>0.9</td>\n",
       "      <td>0.720064</td>\n",
       "      <td>200.0</td>\n",
       "      <td>40</td>\n",
       "      <td>0.007018</td>\n",
       "      <td>33.006203</td>\n",
       "      <td>1986</td>\n",
       "      <td>5416.601990</td>\n",
       "      <td>5</td>\n",
       "      <td>...</td>\n",
       "      <td>1</td>\n",
       "      <td>0</td>\n",
       "      <td>0</td>\n",
       "      <td>1</td>\n",
       "      <td>0</td>\n",
       "      <td>0</td>\n",
       "      <td>0</td>\n",
       "      <td>0</td>\n",
       "      <td>1</td>\n",
       "      <td>0</td>\n",
       "    </tr>\n",
       "    <tr>\n",
       "      <th>2</th>\n",
       "      <td>0</td>\n",
       "      <td>0.9</td>\n",
       "      <td>0.075432</td>\n",
       "      <td>129.0</td>\n",
       "      <td>40</td>\n",
       "      <td>0.009764</td>\n",
       "      <td>-0.632448</td>\n",
       "      <td>2411</td>\n",
       "      <td>7423.819019</td>\n",
       "      <td>7</td>\n",
       "      <td>...</td>\n",
       "      <td>0</td>\n",
       "      <td>0</td>\n",
       "      <td>0</td>\n",
       "      <td>1</td>\n",
       "      <td>0</td>\n",
       "      <td>0</td>\n",
       "      <td>0</td>\n",
       "      <td>0</td>\n",
       "      <td>1</td>\n",
       "      <td>0</td>\n",
       "    </tr>\n",
       "    <tr>\n",
       "      <th>3</th>\n",
       "      <td>0</td>\n",
       "      <td>0.5</td>\n",
       "      <td>0.784344</td>\n",
       "      <td>240.0</td>\n",
       "      <td>20</td>\n",
       "      <td>0.017281</td>\n",
       "      <td>-1.612753</td>\n",
       "      <td>1731</td>\n",
       "      <td>4489.610329</td>\n",
       "      <td>8</td>\n",
       "      <td>...</td>\n",
       "      <td>1</td>\n",
       "      <td>0</td>\n",
       "      <td>0</td>\n",
       "      <td>1</td>\n",
       "      <td>0</td>\n",
       "      <td>1</td>\n",
       "      <td>0</td>\n",
       "      <td>0</td>\n",
       "      <td>0</td>\n",
       "      <td>0</td>\n",
       "    </tr>\n",
       "    <tr>\n",
       "      <th>4</th>\n",
       "      <td>0</td>\n",
       "      <td>0.8</td>\n",
       "      <td>0.770435</td>\n",
       "      <td>150.0</td>\n",
       "      <td>40</td>\n",
       "      <td>9.370346</td>\n",
       "      <td>26.733867</td>\n",
       "      <td>1863</td>\n",
       "      <td>6301.097061</td>\n",
       "      <td>7</td>\n",
       "      <td>...</td>\n",
       "      <td>0</td>\n",
       "      <td>0</td>\n",
       "      <td>0</td>\n",
       "      <td>1</td>\n",
       "      <td>0</td>\n",
       "      <td>1</td>\n",
       "      <td>0</td>\n",
       "      <td>0</td>\n",
       "      <td>0</td>\n",
       "      <td>0</td>\n",
       "    </tr>\n",
       "  </tbody>\n",
       "</table>\n",
       "<p>5 rows × 47 columns</p>\n",
       "</div>"
      ],
      "text/plain": [
       "   fraud_bool  income  name_email_similarity  current_address_months_count  \\\n",
       "0           0     0.9               0.642713                           0.0   \n",
       "1           0     0.9               0.720064                         200.0   \n",
       "2           0     0.9               0.075432                         129.0   \n",
       "3           0     0.5               0.784344                         240.0   \n",
       "4           0     0.8               0.770435                         150.0   \n",
       "\n",
       "   customer_age  days_since_request  intended_balcon_amount  zip_count_4w  \\\n",
       "0            20            0.009624              105.898067          1724   \n",
       "1            40            0.007018               33.006203          1986   \n",
       "2            40            0.009764               -0.632448          2411   \n",
       "3            20            0.017281               -1.612753          1731   \n",
       "4            40            9.370346               26.733867          1863   \n",
       "\n",
       "   velocity_24h  date_of_birth_distinct_emails_4w  ...  housing_status_BE  \\\n",
       "0   7394.902554                                 8  ...                  1   \n",
       "1   5416.601990                                 5  ...                  1   \n",
       "2   7423.819019                                 7  ...                  0   \n",
       "3   4489.610329                                 8  ...                  1   \n",
       "4   6301.097061                                 7  ...                  0   \n",
       "\n",
       "   housing_status_BF  housing_status_BG  source_INTERNET  source_TELEAPP  \\\n",
       "0                  0                  0                1               0   \n",
       "1                  0                  0                1               0   \n",
       "2                  0                  0                1               0   \n",
       "3                  0                  0                1               0   \n",
       "4                  0                  0                1               0   \n",
       "\n",
       "   device_os_linux  device_os_macintosh  device_os_other  device_os_windows  \\\n",
       "0                0                    0                1                  0   \n",
       "1                0                    0                0                  1   \n",
       "2                0                    0                0                  1   \n",
       "3                1                    0                0                  0   \n",
       "4                1                    0                0                  0   \n",
       "\n",
       "   device_os_x11  \n",
       "0              0  \n",
       "1              0  \n",
       "2              0  \n",
       "3              0  \n",
       "4              0  \n",
       "\n",
       "[5 rows x 47 columns]"
      ]
     },
     "execution_count": 2,
     "metadata": {},
     "output_type": "execute_result"
    }
   ],
   "source": [
    "df = pd.read_csv('../csv/preprocess.csv')\n",
    "df.head()"
   ]
  },
  {
   "attachments": {},
   "cell_type": "markdown",
   "metadata": {},
   "source": [
    "# 분석"
   ]
  },
  {
   "cell_type": "code",
   "execution_count": 3,
   "metadata": {},
   "outputs": [
    {
     "data": {
      "text/plain": [
       "0    6871\n",
       "1    6871\n",
       "Name: fraud_bool, dtype: int64"
      ]
     },
     "execution_count": 3,
     "metadata": {},
     "output_type": "execute_result"
    }
   ],
   "source": [
    "train_cols = df.columns[1:]\n",
    "X = df[train_cols] # 독립변수\n",
    "y = df[\"fraud_bool\"] # 종속변수\n",
    "df[\"fraud_bool\"].value_counts()"
   ]
  },
  {
   "cell_type": "code",
   "execution_count": 4,
   "metadata": {},
   "outputs": [],
   "source": [
    "from sklearn.model_selection import train_test_split\n",
    "X_train, X_test, y_train, y_test = train_test_split(X, y, test_size = 0.2, stratify = y, random_state = 0)"
   ]
  },
  {
   "cell_type": "code",
   "execution_count": 5,
   "metadata": {},
   "outputs": [],
   "source": [
    "from sklearn.pipeline import Pipeline\n",
    "from sklearn.preprocessing import StandardScaler\n",
    "from sklearn.model_selection import GridSearchCV\n",
    "from scikeras.wrappers import KerasClassifier\n",
    "from keras import models\n",
    "from keras import layers\n",
    "def create_network(optimizer=\"rmsprop\"):\n",
    "    network = models.Sequential()\n",
    "    network.add(layers.Dense(units=16, activation=\"relu\", input_shape=(X.shape[1],)))\n",
    "    network.add(layers.Dense(units=16, activation=\"relu\"))\n",
    "    network.add(layers.Dense(units=1, activation=\"sigmoid\"))\n",
    "    network.compile(loss='binary_crossentropy', \n",
    "                    optimizer=optimizer, # 옵티마이저 \n",
    "                    metrics=[\"accuracy\"]) # 성능 지표\n",
    "    return network"
   ]
  },
  {
   "cell_type": "code",
   "execution_count": 6,
   "metadata": {},
   "outputs": [],
   "source": [
    "neural_network = KerasClassifier(model=create_network, verbose=0)\n",
    "# 하이퍼파라미터 탐색 영역을 정의\n",
    "pipe=Pipeline([\n",
    "    ('scaler', StandardScaler()),\n",
    "    ('clf', neural_network)\n",
    "    ])\n",
    "params={\n",
    "    'clf__epochs': [50, 100],\n",
    "    'clf__batch_size': [32,64,128],\n",
    "    'clf__optimizer': [\"rmsprop\", \"adam\"],\n",
    "    }\n",
    "grid=GridSearchCV(pipe, params, scoring='accuracy', cv=3)\n",
    "grid_result = grid.fit(X, y)"
   ]
  },
  {
   "cell_type": "code",
   "execution_count": 7,
   "metadata": {},
   "outputs": [
    {
     "name": "stdout",
     "output_type": "stream",
     "text": [
      "{'clf__batch_size': 128, 'clf__epochs': 50, 'clf__optimizer': 'adam'}\n",
      "0.7844563028037775\n"
     ]
    }
   ],
   "source": [
    "print(grid_result.best_params_)\n",
    "print(grid_result.best_score_)"
   ]
  },
  {
   "cell_type": "code",
   "execution_count": 28,
   "metadata": {},
   "outputs": [],
   "source": [
    "pred = grid_result.predict(X)"
   ]
  },
  {
   "cell_type": "code",
   "execution_count": 29,
   "metadata": {},
   "outputs": [
    {
     "data": {
      "text/plain": [
       "array([[5715, 1156],\n",
       "       [1274, 5597]], dtype=int64)"
      ]
     },
     "execution_count": 29,
     "metadata": {},
     "output_type": "execute_result"
    }
   ],
   "source": [
    "#confusion matrix(혼동행렬, 오분류표) 출력\n",
    "from sklearn.metrics import confusion_matrix\n",
    "cm=confusion_matrix(y, pred)\n",
    "cm"
   ]
  },
  {
   "cell_type": "code",
   "execution_count": 30,
   "metadata": {},
   "outputs": [
    {
     "data": {
      "text/html": [
       "<div>\n",
       "<style scoped>\n",
       "    .dataframe tbody tr th:only-of-type {\n",
       "        vertical-align: middle;\n",
       "    }\n",
       "\n",
       "    .dataframe tbody tr th {\n",
       "        vertical-align: top;\n",
       "    }\n",
       "\n",
       "    .dataframe thead th {\n",
       "        text-align: right;\n",
       "    }\n",
       "</style>\n",
       "<table border=\"1\" class=\"dataframe\">\n",
       "  <thead>\n",
       "    <tr style=\"text-align: right;\">\n",
       "      <th></th>\n",
       "      <th>0</th>\n",
       "      <th>1</th>\n",
       "    </tr>\n",
       "  </thead>\n",
       "  <tbody>\n",
       "    <tr>\n",
       "      <th>0</th>\n",
       "      <td>5715</td>\n",
       "      <td>1156</td>\n",
       "    </tr>\n",
       "    <tr>\n",
       "      <th>1</th>\n",
       "      <td>1274</td>\n",
       "      <td>5597</td>\n",
       "    </tr>\n",
       "  </tbody>\n",
       "</table>\n",
       "</div>"
      ],
      "text/plain": [
       "      0     1\n",
       "0  5715  1156\n",
       "1  1274  5597"
      ]
     },
     "execution_count": 30,
     "metadata": {},
     "output_type": "execute_result"
    }
   ],
   "source": [
    "df_cm=pd.DataFrame(cm, index=[0, 1], columns=[0, 1])\n",
    "df_cm"
   ]
  },
  {
   "cell_type": "code",
   "execution_count": 35,
   "metadata": {},
   "outputs": [
    {
     "name": "stdout",
     "output_type": "stream",
     "text": [
      "0.8177135498640721 0.17118317784688286 0.831756658419444 0.8177135498640721 0.8246753246753246\n"
     ]
    }
   ],
   "source": [
    "tpr = df_cm.loc[0,0] / (df_cm.loc[0,0] + df_cm.loc[1,0])\n",
    "fpr = df_cm.loc[0,1] / (df_cm.loc[0,1] + df_cm.loc[1,1])\n",
    "precision = df_cm.loc[0,0] / (df_cm.loc[0,0] + df_cm.loc[0,1])\n",
    "recall = df_cm.loc[0,0] / (df_cm.loc[0,0] + df_cm.loc[1,0])\n",
    "f = (2 * (precision * recall)) / (precision + recall)\n",
    "print(tpr, fpr, precision, recall, f)"
   ]
  },
  {
   "cell_type": "code",
   "execution_count": 31,
   "metadata": {},
   "outputs": [
    {
     "name": "stdout",
     "output_type": "stream",
     "text": [
      "              precision    recall  f1-score   support\n",
      "\n",
      "           0       0.82      0.83      0.82      6871\n",
      "           1       0.83      0.81      0.82      6871\n",
      "\n",
      "    accuracy                           0.82     13742\n",
      "   macro avg       0.82      0.82      0.82     13742\n",
      "weighted avg       0.82      0.82      0.82     13742\n",
      "\n"
     ]
    }
   ],
   "source": [
    "from sklearn.metrics import classification_report\n",
    "print(classification_report(y, grid_result.predict(X)))"
   ]
  },
  {
   "attachments": {},
   "cell_type": "markdown",
   "metadata": {},
   "source": [
    "# 시각화"
   ]
  },
  {
   "cell_type": "code",
   "execution_count": 32,
   "metadata": {},
   "outputs": [
    {
     "data": {
      "text/plain": [
       "<sklearn.metrics._plot.confusion_matrix.ConfusionMatrixDisplay at 0x1f7ebb59670>"
      ]
     },
     "execution_count": 32,
     "metadata": {},
     "output_type": "execute_result"
    },
    {
     "data": {
      "image/png": "[encoded data removed]",
      "text/plain": [
       "<Figure size 640x480 with 2 Axes>"
      ]
     },
     "metadata": {},
     "output_type": "display_data"
    }
   ],
   "source": [
    "from sklearn.metrics import ConfusionMatrixDisplay\n",
    "ConfusionMatrixDisplay(confusion_matrix=cm, display_labels=grid_result.classes_).plot()"
   ]
  },
  {
   "cell_type": "code",
   "execution_count": 33,
   "metadata": {},
   "outputs": [
    {
     "data": {
      "text/plain": [
       "<sklearn.metrics._plot.roc_curve.RocCurveDisplay at 0x1f7cfb74970>"
      ]
     },
     "execution_count": 33,
     "metadata": {},
     "output_type": "execute_result"
    },
    {
     "data": {
      "image/png": "[encoded data removed]",
      "text/plain": [
       "<Figure size 640x480 with 1 Axes>"
      ]
     },
     "metadata": {},
     "output_type": "display_data"
    }
   ],
   "source": [
    "from sklearn.metrics import RocCurveDisplay\n",
    "\n",
    "RocCurveDisplay.from_estimator(grid_result, X, y)\n",
    "# auc = 0.90"
   ]
  },
  {
   "attachments": {},
   "cell_type": "markdown",
   "metadata": {},
   "source": [
    "# 저장"
   ]
  },
  {
   "cell_type": "code",
   "execution_count": 36,
   "metadata": {},
   "outputs": [
    {
     "data": {
      "text/html": [
       "<div>\n",
       "<style scoped>\n",
       "    .dataframe tbody tr th:only-of-type {\n",
       "        vertical-align: middle;\n",
       "    }\n",
       "\n",
       "    .dataframe tbody tr th {\n",
       "        vertical-align: top;\n",
       "    }\n",
       "\n",
       "    .dataframe thead th {\n",
       "        text-align: right;\n",
       "    }\n",
       "</style>\n",
       "<table border=\"1\" class=\"dataframe\">\n",
       "  <thead>\n",
       "    <tr style=\"text-align: right;\">\n",
       "      <th></th>\n",
       "      <th>Model</th>\n",
       "      <th>Best Score</th>\n",
       "      <th>Best Parameter</th>\n",
       "      <th>Precision</th>\n",
       "      <th>Recall</th>\n",
       "      <th>F1-score</th>\n",
       "      <th>TPR</th>\n",
       "      <th>FPR</th>\n",
       "      <th>AUC</th>\n",
       "    </tr>\n",
       "  </thead>\n",
       "  <tbody>\n",
       "    <tr>\n",
       "      <th>0</th>\n",
       "      <td>KNN</td>\n",
       "      <td>0.768374</td>\n",
       "      <td>{'clf__n_neighbors': 20, 'clf__p': 2, 'clf__we...</td>\n",
       "      <td>0.814874</td>\n",
       "      <td>0.778071</td>\n",
       "      <td>0.796047</td>\n",
       "      <td>0.778071</td>\n",
       "      <td>0.194317</td>\n",
       "      <td>0.87</td>\n",
       "    </tr>\n",
       "    <tr>\n",
       "      <th>1</th>\n",
       "      <td>ANN</td>\n",
       "      <td>0.745668</td>\n",
       "      <td>{'clf__activation': 'relu', 'clf__alpha': 0.1,...</td>\n",
       "      <td>0.851841</td>\n",
       "      <td>0.848753</td>\n",
       "      <td>0.850294</td>\n",
       "      <td>0.848753</td>\n",
       "      <td>0.148700</td>\n",
       "      <td>0.93</td>\n",
       "    </tr>\n",
       "  </tbody>\n",
       "</table>\n",
       "</div>"
      ],
      "text/plain": [
       "  Model  Best Score                                     Best Parameter  \\\n",
       "0   KNN    0.768374  {'clf__n_neighbors': 20, 'clf__p': 2, 'clf__we...   \n",
       "1   ANN    0.745668  {'clf__activation': 'relu', 'clf__alpha': 0.1,...   \n",
       "\n",
       "   Precision    Recall  F1-score       TPR       FPR   AUC  \n",
       "0   0.814874  0.778071  0.796047  0.778071  0.194317  0.87  \n",
       "1   0.851841  0.848753  0.850294  0.848753  0.148700  0.93  "
      ]
     },
     "execution_count": 36,
     "metadata": {},
     "output_type": "execute_result"
    }
   ],
   "source": [
    "result = pd.read_csv('../csv/model_results.csv')\n",
    "result"
   ]
  },
  {
   "cell_type": "code",
   "execution_count": 37,
   "metadata": {},
   "outputs": [
    {
     "data": {
      "text/html": [
       "<div>\n",
       "<style scoped>\n",
       "    .dataframe tbody tr th:only-of-type {\n",
       "        vertical-align: middle;\n",
       "    }\n",
       "\n",
       "    .dataframe tbody tr th {\n",
       "        vertical-align: top;\n",
       "    }\n",
       "\n",
       "    .dataframe thead th {\n",
       "        text-align: right;\n",
       "    }\n",
       "</style>\n",
       "<table border=\"1\" class=\"dataframe\">\n",
       "  <thead>\n",
       "    <tr style=\"text-align: right;\">\n",
       "      <th></th>\n",
       "      <th>Model</th>\n",
       "      <th>Best Score</th>\n",
       "      <th>Best Parameter</th>\n",
       "      <th>Precision</th>\n",
       "      <th>Recall</th>\n",
       "      <th>F1-score</th>\n",
       "      <th>TPR</th>\n",
       "      <th>FPR</th>\n",
       "      <th>AUC</th>\n",
       "    </tr>\n",
       "  </thead>\n",
       "  <tbody>\n",
       "    <tr>\n",
       "      <th>0</th>\n",
       "      <td>KNN</td>\n",
       "      <td>0.768374</td>\n",
       "      <td>{'clf__n_neighbors': 20, 'clf__p': 2, 'clf__we...</td>\n",
       "      <td>0.814874</td>\n",
       "      <td>0.778071</td>\n",
       "      <td>0.796047</td>\n",
       "      <td>0.778071</td>\n",
       "      <td>0.194317</td>\n",
       "      <td>0.87</td>\n",
       "    </tr>\n",
       "    <tr>\n",
       "      <th>1</th>\n",
       "      <td>ANN</td>\n",
       "      <td>0.745668</td>\n",
       "      <td>{'clf__activation': 'relu', 'clf__alpha': 0.1,...</td>\n",
       "      <td>0.851841</td>\n",
       "      <td>0.848753</td>\n",
       "      <td>0.850294</td>\n",
       "      <td>0.848753</td>\n",
       "      <td>0.148700</td>\n",
       "      <td>0.93</td>\n",
       "    </tr>\n",
       "    <tr>\n",
       "      <th>2</th>\n",
       "      <td>DNN</td>\n",
       "      <td>0.784456</td>\n",
       "      <td>{'clf__batch_size': 128, 'clf__epochs': 50, 'c...</td>\n",
       "      <td>0.831757</td>\n",
       "      <td>0.817714</td>\n",
       "      <td>0.824675</td>\n",
       "      <td>0.817714</td>\n",
       "      <td>0.171183</td>\n",
       "      <td>0.90</td>\n",
       "    </tr>\n",
       "  </tbody>\n",
       "</table>\n",
       "</div>"
      ],
      "text/plain": [
       "  Model  Best Score                                     Best Parameter  \\\n",
       "0   KNN    0.768374  {'clf__n_neighbors': 20, 'clf__p': 2, 'clf__we...   \n",
       "1   ANN    0.745668  {'clf__activation': 'relu', 'clf__alpha': 0.1,...   \n",
       "2   DNN    0.784456  {'clf__batch_size': 128, 'clf__epochs': 50, 'c...   \n",
       "\n",
       "   Precision    Recall  F1-score       TPR       FPR   AUC  \n",
       "0   0.814874  0.778071  0.796047  0.778071  0.194317  0.87  \n",
       "1   0.851841  0.848753  0.850294  0.848753  0.148700  0.93  \n",
       "2   0.831757  0.817714  0.824675  0.817714  0.171183  0.90  "
      ]
     },
     "execution_count": 37,
     "metadata": {},
     "output_type": "execute_result"
    }
   ],
   "source": [
    "if 'DNN' in result.Model.values.tolist():\n",
    "    result.loc[result.Model.values.tolist().index('DNN')] = ['DNN', grid_result.best_score_, grid_result.best_params_, precision, recall, f, tpr, fpr, 0.90]\n",
    "else:\n",
    "    result.loc[len(result.index)] = ['DNN', grid_result.best_score_, grid_result.best_params_, precision, recall, f, tpr, fpr, 0.90]\n",
    "result"
   ]
  },
  {
   "cell_type": "code",
   "execution_count": 38,
   "metadata": {},
   "outputs": [],
   "source": [
    "result.to_csv('../csv/model_results.csv', index=None)"
   ]
  },
  {
   "cell_type": "code",
   "execution_count": 19,
   "metadata": {},
   "outputs": [],
   "source": [
    "model = grid_result.best_estimator_['clf']"
   ]
  },
  {
   "cell_type": "code",
   "execution_count": 34,
   "metadata": {},
   "outputs": [
    {
     "name": "stdout",
     "output_type": "stream",
     "text": [
      "INFO:tensorflow:Assets written to: C:\\Users\\tjoeun\\AppData\\Local\\Temp\\tmp1is51yed\\assets\n"
     ]
    },
    {
     "data": {
      "text/plain": [
       "['c:/bank_account_fraud/model/dnn.h5']"
      ]
     },
     "execution_count": 34,
     "metadata": {},
     "output_type": "execute_result"
    }
   ],
   "source": [
    "import joblib\n",
    "joblib.dump(model, 'c:/bank_account_fraud/model/dnn.h5')"
   ]
  }
 ],
 "metadata": {
  "kernelspec": {
   "display_name": "base",
   "language": "python",
   "name": "python3"
  },
  "language_info": {
   "codemirror_mode": {
    "name": "ipython",
    "version": 3
   },
   "file_extension": ".py",
   "mimetype": "text/x-python",
   "name": "python",
   "nbconvert_exporter": "python",
   "pygments_lexer": "ipython3",
   "version": "3.9.13"
  },
  "orig_nbformat": 4,
  "vscode": {
   "interpreter": {
    "hash": "ff4f85d6e04298634172ac5d8264e7e9b556b95639fe52ebb9425c4d4cba0c9c"
   }
  }
 },
 "nbformat": 4,
 "nbformat_minor": 2
}
