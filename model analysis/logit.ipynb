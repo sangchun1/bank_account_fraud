{
 "cells": [
  {
   "cell_type": "markdown",
   "metadata": {},
   "source": [
    "# 데이터 불러오기"
   ]
  },
  {
   "cell_type": "code",
   "execution_count": 1,
   "metadata": {},
   "outputs": [],
   "source": [
    "import pandas as pd\n",
    "import warnings\n",
    "import matplotlib.pyplot as plt\n",
    "from matplotlib import font_manager, rc\n",
    "\n",
    "# 경고 무시\n",
    "warnings.filterwarnings('ignore')\n",
    "\n",
    "#한글 처리를 위해 폰트 설정\n",
    "font_name = font_manager.FontProperties(fname=\"c:/Windows/Fonts/malgun.ttf\").get_name()\n",
    "rc('font', family=font_name)"
   ]
  },
  {
   "cell_type": "code",
   "execution_count": 2,
   "metadata": {},
   "outputs": [
    {
     "data": {
      "text/html": [
       "<div>\n",
       "<style scoped>\n",
       "    .dataframe tbody tr th:only-of-type {\n",
       "        vertical-align: middle;\n",
       "    }\n",
       "\n",
       "    .dataframe tbody tr th {\n",
       "        vertical-align: top;\n",
       "    }\n",
       "\n",
       "    .dataframe thead th {\n",
       "        text-align: right;\n",
       "    }\n",
       "</style>\n",
       "<table border=\"1\" class=\"dataframe\">\n",
       "  <thead>\n",
       "    <tr style=\"text-align: right;\">\n",
       "      <th></th>\n",
       "      <th>fraud_bool</th>\n",
       "      <th>income</th>\n",
       "      <th>name_email_similarity</th>\n",
       "      <th>current_address_months_count</th>\n",
       "      <th>customer_age</th>\n",
       "      <th>days_since_request</th>\n",
       "      <th>intended_balcon_amount</th>\n",
       "      <th>zip_count_4w</th>\n",
       "      <th>velocity_24h</th>\n",
       "      <th>date_of_birth_distinct_emails_4w</th>\n",
       "      <th>...</th>\n",
       "      <th>housing_status_BE</th>\n",
       "      <th>housing_status_BF</th>\n",
       "      <th>housing_status_BG</th>\n",
       "      <th>source_INTERNET</th>\n",
       "      <th>source_TELEAPP</th>\n",
       "      <th>device_os_linux</th>\n",
       "      <th>device_os_macintosh</th>\n",
       "      <th>device_os_other</th>\n",
       "      <th>device_os_windows</th>\n",
       "      <th>device_os_x11</th>\n",
       "    </tr>\n",
       "  </thead>\n",
       "  <tbody>\n",
       "    <tr>\n",
       "      <th>0</th>\n",
       "      <td>0</td>\n",
       "      <td>0.9</td>\n",
       "      <td>0.642713</td>\n",
       "      <td>0.0</td>\n",
       "      <td>20</td>\n",
       "      <td>0.009624</td>\n",
       "      <td>105.898067</td>\n",
       "      <td>1724</td>\n",
       "      <td>7394.902554</td>\n",
       "      <td>8</td>\n",
       "      <td>...</td>\n",
       "      <td>1</td>\n",
       "      <td>0</td>\n",
       "      <td>0</td>\n",
       "      <td>1</td>\n",
       "      <td>0</td>\n",
       "      <td>0</td>\n",
       "      <td>0</td>\n",
       "      <td>1</td>\n",
       "      <td>0</td>\n",
       "      <td>0</td>\n",
       "    </tr>\n",
       "    <tr>\n",
       "      <th>1</th>\n",
       "      <td>0</td>\n",
       "      <td>0.9</td>\n",
       "      <td>0.720064</td>\n",
       "      <td>200.0</td>\n",
       "      <td>40</td>\n",
       "      <td>0.007018</td>\n",
       "      <td>33.006203</td>\n",
       "      <td>1986</td>\n",
       "      <td>5416.601990</td>\n",
       "      <td>5</td>\n",
       "      <td>...</td>\n",
       "      <td>1</td>\n",
       "      <td>0</td>\n",
       "      <td>0</td>\n",
       "      <td>1</td>\n",
       "      <td>0</td>\n",
       "      <td>0</td>\n",
       "      <td>0</td>\n",
       "      <td>0</td>\n",
       "      <td>1</td>\n",
       "      <td>0</td>\n",
       "    </tr>\n",
       "    <tr>\n",
       "      <th>2</th>\n",
       "      <td>0</td>\n",
       "      <td>0.9</td>\n",
       "      <td>0.075432</td>\n",
       "      <td>129.0</td>\n",
       "      <td>40</td>\n",
       "      <td>0.009764</td>\n",
       "      <td>-0.632448</td>\n",
       "      <td>2411</td>\n",
       "      <td>7423.819019</td>\n",
       "      <td>7</td>\n",
       "      <td>...</td>\n",
       "      <td>0</td>\n",
       "      <td>0</td>\n",
       "      <td>0</td>\n",
       "      <td>1</td>\n",
       "      <td>0</td>\n",
       "      <td>0</td>\n",
       "      <td>0</td>\n",
       "      <td>0</td>\n",
       "      <td>1</td>\n",
       "      <td>0</td>\n",
       "    </tr>\n",
       "    <tr>\n",
       "      <th>3</th>\n",
       "      <td>0</td>\n",
       "      <td>0.5</td>\n",
       "      <td>0.784344</td>\n",
       "      <td>240.0</td>\n",
       "      <td>20</td>\n",
       "      <td>0.017281</td>\n",
       "      <td>-1.612753</td>\n",
       "      <td>1731</td>\n",
       "      <td>4489.610329</td>\n",
       "      <td>8</td>\n",
       "      <td>...</td>\n",
       "      <td>1</td>\n",
       "      <td>0</td>\n",
       "      <td>0</td>\n",
       "      <td>1</td>\n",
       "      <td>0</td>\n",
       "      <td>1</td>\n",
       "      <td>0</td>\n",
       "      <td>0</td>\n",
       "      <td>0</td>\n",
       "      <td>0</td>\n",
       "    </tr>\n",
       "    <tr>\n",
       "      <th>4</th>\n",
       "      <td>0</td>\n",
       "      <td>0.8</td>\n",
       "      <td>0.770435</td>\n",
       "      <td>150.0</td>\n",
       "      <td>40</td>\n",
       "      <td>9.370346</td>\n",
       "      <td>26.733867</td>\n",
       "      <td>1863</td>\n",
       "      <td>6301.097061</td>\n",
       "      <td>7</td>\n",
       "      <td>...</td>\n",
       "      <td>0</td>\n",
       "      <td>0</td>\n",
       "      <td>0</td>\n",
       "      <td>1</td>\n",
       "      <td>0</td>\n",
       "      <td>1</td>\n",
       "      <td>0</td>\n",
       "      <td>0</td>\n",
       "      <td>0</td>\n",
       "      <td>0</td>\n",
       "    </tr>\n",
       "  </tbody>\n",
       "</table>\n",
       "<p>5 rows × 47 columns</p>\n",
       "</div>"
      ],
      "text/plain": [
       "   fraud_bool  income  name_email_similarity  current_address_months_count  \\\n",
       "0           0     0.9               0.642713                           0.0   \n",
       "1           0     0.9               0.720064                         200.0   \n",
       "2           0     0.9               0.075432                         129.0   \n",
       "3           0     0.5               0.784344                         240.0   \n",
       "4           0     0.8               0.770435                         150.0   \n",
       "\n",
       "   customer_age  days_since_request  intended_balcon_amount  zip_count_4w  \\\n",
       "0            20            0.009624              105.898067          1724   \n",
       "1            40            0.007018               33.006203          1986   \n",
       "2            40            0.009764               -0.632448          2411   \n",
       "3            20            0.017281               -1.612753          1731   \n",
       "4            40            9.370346               26.733867          1863   \n",
       "\n",
       "   velocity_24h  date_of_birth_distinct_emails_4w  ...  housing_status_BE  \\\n",
       "0   7394.902554                                 8  ...                  1   \n",
       "1   5416.601990                                 5  ...                  1   \n",
       "2   7423.819019                                 7  ...                  0   \n",
       "3   4489.610329                                 8  ...                  1   \n",
       "4   6301.097061                                 7  ...                  0   \n",
       "\n",
       "   housing_status_BF  housing_status_BG  source_INTERNET  source_TELEAPP  \\\n",
       "0                  0                  0                1               0   \n",
       "1                  0                  0                1               0   \n",
       "2                  0                  0                1               0   \n",
       "3                  0                  0                1               0   \n",
       "4                  0                  0                1               0   \n",
       "\n",
       "   device_os_linux  device_os_macintosh  device_os_other  device_os_windows  \\\n",
       "0                0                    0                1                  0   \n",
       "1                0                    0                0                  1   \n",
       "2                0                    0                0                  1   \n",
       "3                1                    0                0                  0   \n",
       "4                1                    0                0                  0   \n",
       "\n",
       "   device_os_x11  \n",
       "0              0  \n",
       "1              0  \n",
       "2              0  \n",
       "3              0  \n",
       "4              0  \n",
       "\n",
       "[5 rows x 47 columns]"
      ]
     },
     "execution_count": 2,
     "metadata": {},
     "output_type": "execute_result"
    }
   ],
   "source": [
    "df = pd.read_csv('../csv/preprocess.csv')\n",
    "df.head()"
   ]
  },
  {
   "cell_type": "markdown",
   "metadata": {},
   "source": [
    "# 분석"
   ]
  },
  {
   "cell_type": "code",
   "execution_count": 3,
   "metadata": {},
   "outputs": [
    {
     "data": {
      "text/plain": [
       "0    6871\n",
       "1    6871\n",
       "Name: fraud_bool, dtype: int64"
      ]
     },
     "execution_count": 3,
     "metadata": {},
     "output_type": "execute_result"
    }
   ],
   "source": [
    "train_cols = df.columns[1:]\n",
    "X = df[train_cols] # 독립변수\n",
    "y = df[\"fraud_bool\"] # 종속변수\n",
    "df[\"fraud_bool\"].value_counts()"
   ]
  },
  {
   "cell_type": "code",
   "execution_count": 4,
   "metadata": {},
   "outputs": [],
   "source": [
    "from sklearn.pipeline import Pipeline\n",
    "from sklearn.preprocessing import StandardScaler\n",
    "from sklearn.linear_model import LogisticRegression\n",
    "from sklearn.model_selection import GridSearchCV"
   ]
  },
  {
   "cell_type": "code",
   "execution_count": 5,
   "metadata": {},
   "outputs": [
    {
     "name": "stdout",
     "output_type": "stream",
     "text": [
      "{'clf__C': 0.1, 'clf__class_weight': 1, 'clf__max_iter': 1000, 'clf__penalty': 'l2'}\n",
      "0.788022262703331\n"
     ]
    }
   ],
   "source": [
    "pipe = Pipeline([\n",
    "    ('scaler', StandardScaler()),\n",
    "    ('clf', LogisticRegression(random_state=0)),\n",
    "    ])\n",
    "params = {\n",
    "    'clf__C': [0.0001, 0.001, 0.01, 0.1, 1.0, 10, 100, 1000],\n",
    "    'clf__penalty':['l1', 'l2', 'elasticnet', 'none'], # l2 일반적으로 사용\n",
    "    'clf__class_weight':['balanced', 1, {0:3, 1:1, 2:2}], # 1 = 기본옵션\n",
    "    'clf__max_iter':[1000, 2000, 3000, 5000, 10000], # 1000 = 기본옵션\n",
    "    }\n",
    "grid = GridSearchCV(pipe, params, scoring='accuracy', cv=3)\n",
    "grid.fit(X, y)\n",
    "print(grid.best_params_)\n",
    "print(grid.best_score_)\n",
    "\n",
    "\n",
    "# {'clf__C': 0.1, 'clf__class_weight': 'balanced', 'clf__max_iter': 1000, 'clf__penalty': 'l2'}\n",
    "# 0.7879494983869518\n",
    "# 32.9초"
   ]
  },
  {
   "cell_type": "code",
   "execution_count": 6,
   "metadata": {},
   "outputs": [
    {
     "data": {
      "text/plain": [
       "LogisticRegression(C=0.1, class_weight=1, max_iter=1000, random_state=0)"
      ]
     },
     "execution_count": 6,
     "metadata": {},
     "output_type": "execute_result"
    }
   ],
   "source": [
    "model = grid.best_estimator_['clf']\n",
    "model.fit(X, y)"
   ]
  },
  {
   "cell_type": "code",
   "execution_count": 7,
   "metadata": {},
   "outputs": [
    {
     "name": "stdout",
     "output_type": "stream",
     "text": [
      "              precision    recall  f1-score   support\n",
      "\n",
      "           0       0.78      0.79      0.78      6871\n",
      "           1       0.78      0.77      0.78      6871\n",
      "\n",
      "    accuracy                           0.78     13742\n",
      "   macro avg       0.78      0.78      0.78     13742\n",
      "weighted avg       0.78      0.78      0.78     13742\n",
      "\n"
     ]
    }
   ],
   "source": [
    "from sklearn.metrics import classification_report\n",
    "print(classification_report(y, model.predict(X)))"
   ]
  },
  {
   "cell_type": "code",
   "execution_count": 8,
   "metadata": {},
   "outputs": [],
   "source": [
    "pred = grid.predict(X)"
   ]
  },
  {
   "cell_type": "code",
   "execution_count": 9,
   "metadata": {},
   "outputs": [
    {
     "data": {
      "text/plain": [
       "array([[5475, 1396],\n",
       "       [1741, 5130]], dtype=int64)"
      ]
     },
     "execution_count": 9,
     "metadata": {},
     "output_type": "execute_result"
    }
   ],
   "source": [
    "#confusion matrix(혼동행렬, 오분류표) 출력\n",
    "from sklearn.metrics import confusion_matrix\n",
    "cm=confusion_matrix(y, pred)\n",
    "cm"
   ]
  },
  {
   "cell_type": "code",
   "execution_count": 10,
   "metadata": {},
   "outputs": [
    {
     "data": {
      "text/html": [
       "<div>\n",
       "<style scoped>\n",
       "    .dataframe tbody tr th:only-of-type {\n",
       "        vertical-align: middle;\n",
       "    }\n",
       "\n",
       "    .dataframe tbody tr th {\n",
       "        vertical-align: top;\n",
       "    }\n",
       "\n",
       "    .dataframe thead th {\n",
       "        text-align: right;\n",
       "    }\n",
       "</style>\n",
       "<table border=\"1\" class=\"dataframe\">\n",
       "  <thead>\n",
       "    <tr style=\"text-align: right;\">\n",
       "      <th></th>\n",
       "      <th>0</th>\n",
       "      <th>1</th>\n",
       "    </tr>\n",
       "  </thead>\n",
       "  <tbody>\n",
       "    <tr>\n",
       "      <th>0</th>\n",
       "      <td>5475</td>\n",
       "      <td>1396</td>\n",
       "    </tr>\n",
       "    <tr>\n",
       "      <th>1</th>\n",
       "      <td>1741</td>\n",
       "      <td>5130</td>\n",
       "    </tr>\n",
       "  </tbody>\n",
       "</table>\n",
       "</div>"
      ],
      "text/plain": [
       "      0     1\n",
       "0  5475  1396\n",
       "1  1741  5130"
      ]
     },
     "execution_count": 10,
     "metadata": {},
     "output_type": "execute_result"
    }
   ],
   "source": [
    "df_cm=pd.DataFrame(cm, index=[0, 1], columns=[0, 1])\n",
    "df_cm"
   ]
  },
  {
   "cell_type": "code",
   "execution_count": 11,
   "metadata": {},
   "outputs": [
    {
     "name": "stdout",
     "output_type": "stream",
     "text": [
      "0.7587305986696231 0.21391357646337725 0.796827244942512 0.7587305986696231 0.7773124157024207\n"
     ]
    }
   ],
   "source": [
    "tpr = df_cm.loc[0,0] / (df_cm.loc[0,0] + df_cm.loc[1,0])\n",
    "fpr = df_cm.loc[0,1] / (df_cm.loc[0,1] + df_cm.loc[1,1])\n",
    "precision = df_cm.loc[0,0] / (df_cm.loc[0,0] + df_cm.loc[0,1])\n",
    "recall = df_cm.loc[0,0] / (df_cm.loc[0,0] + df_cm.loc[1,0])\n",
    "f = (2 * (precision * recall)) / (precision + recall)\n",
    "print(tpr, fpr, precision, recall, f)"
   ]
  },
  {
   "cell_type": "markdown",
   "metadata": {},
   "source": [
    "# 시각화"
   ]
  },
  {
   "cell_type": "code",
   "execution_count": 12,
   "metadata": {},
   "outputs": [
    {
     "data": {
      "image/png": "[encoded data removed]",
      "text/plain": [
       "<Figure size 640x480 with 2 Axes>"
      ]
     },
     "metadata": {},
     "output_type": "display_data"
    }
   ],
   "source": [
    "import matplotlib.pyplot as plt\n",
    "from sklearn.metrics import confusion_matrix, ConfusionMatrixDisplay\n",
    "cm = confusion_matrix(y, model.predict(X))\n",
    "disp = ConfusionMatrixDisplay(confusion_matrix=cm, display_labels=model.classes_)\n",
    "disp.plot()\n",
    "plt.show()"
   ]
  },
  {
   "cell_type": "code",
   "execution_count": 13,
   "metadata": {},
   "outputs": [
    {
     "data": {
      "text/plain": [
       "<sklearn.metrics._plot.roc_curve.RocCurveDisplay at 0x17a0826ea00>"
      ]
     },
     "execution_count": 13,
     "metadata": {},
     "output_type": "execute_result"
    },
    {
     "data": {
      "image/png": "[encoded data removed]",
      "text/plain": [
       "<Figure size 640x480 with 1 Axes>"
      ]
     },
     "metadata": {},
     "output_type": "display_data"
    }
   ],
   "source": [
    "from sklearn.metrics import RocCurveDisplay\n",
    "\n",
    "RocCurveDisplay.from_estimator(grid, X, y)"
   ]
  },
  {
   "cell_type": "markdown",
   "metadata": {},
   "source": [
    "# 저장"
   ]
  },
  {
   "cell_type": "code",
   "execution_count": 14,
   "metadata": {},
   "outputs": [
    {
     "data": {
      "text/html": [
       "<div>\n",
       "<style scoped>\n",
       "    .dataframe tbody tr th:only-of-type {\n",
       "        vertical-align: middle;\n",
       "    }\n",
       "\n",
       "    .dataframe tbody tr th {\n",
       "        vertical-align: top;\n",
       "    }\n",
       "\n",
       "    .dataframe thead th {\n",
       "        text-align: right;\n",
       "    }\n",
       "</style>\n",
       "<table border=\"1\" class=\"dataframe\">\n",
       "  <thead>\n",
       "    <tr style=\"text-align: right;\">\n",
       "      <th></th>\n",
       "      <th>Model</th>\n",
       "      <th>Best Score</th>\n",
       "      <th>Best Parameter</th>\n",
       "      <th>Precision</th>\n",
       "      <th>Recall</th>\n",
       "      <th>F1-score</th>\n",
       "      <th>TPR</th>\n",
       "      <th>FPR</th>\n",
       "      <th>AUC</th>\n",
       "    </tr>\n",
       "  </thead>\n",
       "  <tbody>\n",
       "    <tr>\n",
       "      <th>0</th>\n",
       "      <td>KNN</td>\n",
       "      <td>0.768374</td>\n",
       "      <td>{'clf__n_neighbors': 20, 'clf__p': 2, 'clf__we...</td>\n",
       "      <td>0.814874</td>\n",
       "      <td>0.778071</td>\n",
       "      <td>0.796047</td>\n",
       "      <td>0.778071</td>\n",
       "      <td>0.194317</td>\n",
       "      <td>0.87</td>\n",
       "    </tr>\n",
       "    <tr>\n",
       "      <th>1</th>\n",
       "      <td>ANN</td>\n",
       "      <td>0.745668</td>\n",
       "      <td>{'clf__activation': 'relu', 'clf__alpha': 0.1,...</td>\n",
       "      <td>0.851841</td>\n",
       "      <td>0.848753</td>\n",
       "      <td>0.850294</td>\n",
       "      <td>0.848753</td>\n",
       "      <td>0.148700</td>\n",
       "      <td>0.93</td>\n",
       "    </tr>\n",
       "    <tr>\n",
       "      <th>2</th>\n",
       "      <td>DNN</td>\n",
       "      <td>0.784456</td>\n",
       "      <td>{'clf__batch_size': 128, 'clf__epochs': 50, 'c...</td>\n",
       "      <td>0.831757</td>\n",
       "      <td>0.817714</td>\n",
       "      <td>0.824675</td>\n",
       "      <td>0.817714</td>\n",
       "      <td>0.171183</td>\n",
       "      <td>0.90</td>\n",
       "    </tr>\n",
       "    <tr>\n",
       "      <th>3</th>\n",
       "      <td>SVM</td>\n",
       "      <td>0.788968</td>\n",
       "      <td>{'clf__C': 1000, 'clf__gamma': 0.0001, 'clf__k...</td>\n",
       "      <td>0.942221</td>\n",
       "      <td>0.639913</td>\n",
       "      <td>0.762185</td>\n",
       "      <td>0.639913</td>\n",
       "      <td>0.109517</td>\n",
       "      <td>0.85</td>\n",
       "    </tr>\n",
       "    <tr>\n",
       "      <th>4</th>\n",
       "      <td>RF</td>\n",
       "      <td>0.748072</td>\n",
       "      <td>{'clf__max_depth': 3, 'clf__max_leaf_nodes': 8...</td>\n",
       "      <td>0.887644</td>\n",
       "      <td>0.671992</td>\n",
       "      <td>0.764909</td>\n",
       "      <td>0.671992</td>\n",
       "      <td>0.165452</td>\n",
       "      <td>0.83</td>\n",
       "    </tr>\n",
       "    <tr>\n",
       "      <th>5</th>\n",
       "      <td>Logit</td>\n",
       "      <td>0.787949</td>\n",
       "      <td>{'clf__C': 0.1, 'clf__class_weight': 'balanced...</td>\n",
       "      <td>0.796682</td>\n",
       "      <td>0.758592</td>\n",
       "      <td>0.777170</td>\n",
       "      <td>0.758592</td>\n",
       "      <td>0.214067</td>\n",
       "      <td>0.85</td>\n",
       "    </tr>\n",
       "    <tr>\n",
       "      <th>6</th>\n",
       "      <td>Tree</td>\n",
       "      <td>0.714525</td>\n",
       "      <td>{'clf__max_depth': 3, 'clf__max_leaf_nodes': 3...</td>\n",
       "      <td>0.622762</td>\n",
       "      <td>0.762745</td>\n",
       "      <td>0.685682</td>\n",
       "      <td>0.762745</td>\n",
       "      <td>0.318741</td>\n",
       "      <td>0.76</td>\n",
       "    </tr>\n",
       "  </tbody>\n",
       "</table>\n",
       "</div>"
      ],
      "text/plain": [
       "   Model  Best Score                                     Best Parameter  \\\n",
       "0    KNN    0.768374  {'clf__n_neighbors': 20, 'clf__p': 2, 'clf__we...   \n",
       "1    ANN    0.745668  {'clf__activation': 'relu', 'clf__alpha': 0.1,...   \n",
       "2    DNN    0.784456  {'clf__batch_size': 128, 'clf__epochs': 50, 'c...   \n",
       "3    SVM    0.788968  {'clf__C': 1000, 'clf__gamma': 0.0001, 'clf__k...   \n",
       "4     RF    0.748072  {'clf__max_depth': 3, 'clf__max_leaf_nodes': 8...   \n",
       "5  Logit    0.787949  {'clf__C': 0.1, 'clf__class_weight': 'balanced...   \n",
       "6   Tree    0.714525  {'clf__max_depth': 3, 'clf__max_leaf_nodes': 3...   \n",
       "\n",
       "   Precision    Recall  F1-score       TPR       FPR   AUC  \n",
       "0   0.814874  0.778071  0.796047  0.778071  0.194317  0.87  \n",
       "1   0.851841  0.848753  0.850294  0.848753  0.148700  0.93  \n",
       "2   0.831757  0.817714  0.824675  0.817714  0.171183  0.90  \n",
       "3   0.942221  0.639913  0.762185  0.639913  0.109517  0.85  \n",
       "4   0.887644  0.671992  0.764909  0.671992  0.165452  0.83  \n",
       "5   0.796682  0.758592  0.777170  0.758592  0.214067  0.85  \n",
       "6   0.622762  0.762745  0.685682  0.762745  0.318741  0.76  "
      ]
     },
     "execution_count": 14,
     "metadata": {},
     "output_type": "execute_result"
    }
   ],
   "source": [
    "result = pd.read_csv('../csv/model_results.csv')\n",
    "result"
   ]
  },
  {
   "cell_type": "code",
   "execution_count": 15,
   "metadata": {},
   "outputs": [
    {
     "data": {
      "text/html": [
       "<div>\n",
       "<style scoped>\n",
       "    .dataframe tbody tr th:only-of-type {\n",
       "        vertical-align: middle;\n",
       "    }\n",
       "\n",
       "    .dataframe tbody tr th {\n",
       "        vertical-align: top;\n",
       "    }\n",
       "\n",
       "    .dataframe thead th {\n",
       "        text-align: right;\n",
       "    }\n",
       "</style>\n",
       "<table border=\"1\" class=\"dataframe\">\n",
       "  <thead>\n",
       "    <tr style=\"text-align: right;\">\n",
       "      <th></th>\n",
       "      <th>Model</th>\n",
       "      <th>Best Score</th>\n",
       "      <th>Best Parameter</th>\n",
       "      <th>Precision</th>\n",
       "      <th>Recall</th>\n",
       "      <th>F1-score</th>\n",
       "      <th>TPR</th>\n",
       "      <th>FPR</th>\n",
       "      <th>AUC</th>\n",
       "    </tr>\n",
       "  </thead>\n",
       "  <tbody>\n",
       "    <tr>\n",
       "      <th>0</th>\n",
       "      <td>KNN</td>\n",
       "      <td>0.768374</td>\n",
       "      <td>{'clf__n_neighbors': 20, 'clf__p': 2, 'clf__we...</td>\n",
       "      <td>0.814874</td>\n",
       "      <td>0.778071</td>\n",
       "      <td>0.796047</td>\n",
       "      <td>0.778071</td>\n",
       "      <td>0.194317</td>\n",
       "      <td>0.87</td>\n",
       "    </tr>\n",
       "    <tr>\n",
       "      <th>1</th>\n",
       "      <td>ANN</td>\n",
       "      <td>0.745668</td>\n",
       "      <td>{'clf__activation': 'relu', 'clf__alpha': 0.1,...</td>\n",
       "      <td>0.851841</td>\n",
       "      <td>0.848753</td>\n",
       "      <td>0.850294</td>\n",
       "      <td>0.848753</td>\n",
       "      <td>0.148700</td>\n",
       "      <td>0.93</td>\n",
       "    </tr>\n",
       "    <tr>\n",
       "      <th>2</th>\n",
       "      <td>DNN</td>\n",
       "      <td>0.784456</td>\n",
       "      <td>{'clf__batch_size': 128, 'clf__epochs': 50, 'c...</td>\n",
       "      <td>0.831757</td>\n",
       "      <td>0.817714</td>\n",
       "      <td>0.824675</td>\n",
       "      <td>0.817714</td>\n",
       "      <td>0.171183</td>\n",
       "      <td>0.90</td>\n",
       "    </tr>\n",
       "    <tr>\n",
       "      <th>3</th>\n",
       "      <td>SVM</td>\n",
       "      <td>0.788968</td>\n",
       "      <td>{'clf__C': 1000, 'clf__gamma': 0.0001, 'clf__k...</td>\n",
       "      <td>0.942221</td>\n",
       "      <td>0.639913</td>\n",
       "      <td>0.762185</td>\n",
       "      <td>0.639913</td>\n",
       "      <td>0.109517</td>\n",
       "      <td>0.85</td>\n",
       "    </tr>\n",
       "    <tr>\n",
       "      <th>4</th>\n",
       "      <td>RF</td>\n",
       "      <td>0.748072</td>\n",
       "      <td>{'clf__max_depth': 3, 'clf__max_leaf_nodes': 8...</td>\n",
       "      <td>0.887644</td>\n",
       "      <td>0.671992</td>\n",
       "      <td>0.764909</td>\n",
       "      <td>0.671992</td>\n",
       "      <td>0.165452</td>\n",
       "      <td>0.83</td>\n",
       "    </tr>\n",
       "    <tr>\n",
       "      <th>5</th>\n",
       "      <td>Logit</td>\n",
       "      <td>0.788022</td>\n",
       "      <td>{'clf__C': 0.1, 'clf__class_weight': 1, 'clf__...</td>\n",
       "      <td>0.796827</td>\n",
       "      <td>0.758731</td>\n",
       "      <td>0.777312</td>\n",
       "      <td>0.758731</td>\n",
       "      <td>0.213914</td>\n",
       "      <td>0.85</td>\n",
       "    </tr>\n",
       "    <tr>\n",
       "      <th>6</th>\n",
       "      <td>Tree</td>\n",
       "      <td>0.714525</td>\n",
       "      <td>{'clf__max_depth': 3, 'clf__max_leaf_nodes': 3...</td>\n",
       "      <td>0.622762</td>\n",
       "      <td>0.762745</td>\n",
       "      <td>0.685682</td>\n",
       "      <td>0.762745</td>\n",
       "      <td>0.318741</td>\n",
       "      <td>0.76</td>\n",
       "    </tr>\n",
       "  </tbody>\n",
       "</table>\n",
       "</div>"
      ],
      "text/plain": [
       "   Model  Best Score                                     Best Parameter  \\\n",
       "0    KNN    0.768374  {'clf__n_neighbors': 20, 'clf__p': 2, 'clf__we...   \n",
       "1    ANN    0.745668  {'clf__activation': 'relu', 'clf__alpha': 0.1,...   \n",
       "2    DNN    0.784456  {'clf__batch_size': 128, 'clf__epochs': 50, 'c...   \n",
       "3    SVM    0.788968  {'clf__C': 1000, 'clf__gamma': 0.0001, 'clf__k...   \n",
       "4     RF    0.748072  {'clf__max_depth': 3, 'clf__max_leaf_nodes': 8...   \n",
       "5  Logit    0.788022  {'clf__C': 0.1, 'clf__class_weight': 1, 'clf__...   \n",
       "6   Tree    0.714525  {'clf__max_depth': 3, 'clf__max_leaf_nodes': 3...   \n",
       "\n",
       "   Precision    Recall  F1-score       TPR       FPR   AUC  \n",
       "0   0.814874  0.778071  0.796047  0.778071  0.194317  0.87  \n",
       "1   0.851841  0.848753  0.850294  0.848753  0.148700  0.93  \n",
       "2   0.831757  0.817714  0.824675  0.817714  0.171183  0.90  \n",
       "3   0.942221  0.639913  0.762185  0.639913  0.109517  0.85  \n",
       "4   0.887644  0.671992  0.764909  0.671992  0.165452  0.83  \n",
       "5   0.796827  0.758731  0.777312  0.758731  0.213914  0.85  \n",
       "6   0.622762  0.762745  0.685682  0.762745  0.318741  0.76  "
      ]
     },
     "execution_count": 15,
     "metadata": {},
     "output_type": "execute_result"
    }
   ],
   "source": [
    "if 'Logit' in result.Model.values.tolist():\n",
    "    result.loc[result.Model.values.tolist().index('Logit')] = ['Logit', grid.best_score_, grid.best_params_, precision, recall, f, tpr, fpr, 0.85]\n",
    "else:\n",
    "    result.loc[len(result.index)] = ['Logit', grid.best_score_, grid.best_params_, precision, recall, f, tpr, fpr, 0.85]\n",
    "result"
   ]
  },
  {
   "cell_type": "code",
   "execution_count": 16,
   "metadata": {},
   "outputs": [],
   "source": [
    "result.to_csv('../csv/model_results.csv', index=None)"
   ]
  },
  {
   "cell_type": "code",
   "execution_count": 17,
   "metadata": {},
   "outputs": [
    {
     "data": {
      "text/plain": [
       "['../model/logit.h5']"
      ]
     },
     "execution_count": 17,
     "metadata": {},
     "output_type": "execute_result"
    }
   ],
   "source": [
    "import joblib\n",
    "joblib.dump(model, '../model/logit.h5')"
   ]
  }
 ],
 "metadata": {
  "kernelspec": {
   "display_name": "base",
   "language": "python",
   "name": "python3"
  },
  "language_info": {
   "codemirror_mode": {
    "name": "ipython",
    "version": 3
   },
   "file_extension": ".py",
   "mimetype": "text/x-python",
   "name": "python",
   "nbconvert_exporter": "python",
   "pygments_lexer": "ipython3",
   "version": "3.11.0"
  },
  "orig_nbformat": 4,
  "vscode": {
   "interpreter": {
    "hash": "ff4f85d6e04298634172ac5d8264e7e9b556b95639fe52ebb9425c4d4cba0c9c"
   }
  }
 },
 "nbformat": 4,
 "nbformat_minor": 2
}
