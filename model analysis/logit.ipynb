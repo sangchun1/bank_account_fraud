{
 "cells": [
  {
   "cell_type": "markdown",
   "metadata": {},
   "source": [
    "# 데이터 불러오기"
   ]
  },
  {
   "cell_type": "code",
   "execution_count": 1,
   "metadata": {},
   "outputs": [],
   "source": [
    "import pandas as pd\n",
    "import warnings\n",
    "import matplotlib.pyplot as plt\n",
    "from matplotlib import font_manager, rc\n",
    "\n",
    "# 경고 무시\n",
    "warnings.filterwarnings('ignore')\n",
    "\n",
    "#한글 처리를 위해 폰트 설정\n",
    "font_name = font_manager.FontProperties(fname=\"c:/Windows/Fonts/malgun.ttf\").get_name()\n",
    "rc('font', family=font_name)"
   ]
  },
  {
   "cell_type": "code",
   "execution_count": 2,
   "metadata": {},
   "outputs": [
    {
     "data": {
      "text/html": [
       "<div>\n",
       "<style scoped>\n",
       "    .dataframe tbody tr th:only-of-type {\n",
       "        vertical-align: middle;\n",
       "    }\n",
       "\n",
       "    .dataframe tbody tr th {\n",
       "        vertical-align: top;\n",
       "    }\n",
       "\n",
       "    .dataframe thead th {\n",
       "        text-align: right;\n",
       "    }\n",
       "</style>\n",
       "<table border=\"1\" class=\"dataframe\">\n",
       "  <thead>\n",
       "    <tr style=\"text-align: right;\">\n",
       "      <th></th>\n",
       "      <th>fraud_bool</th>\n",
       "      <th>income</th>\n",
       "      <th>name_email_similarity</th>\n",
       "      <th>current_address_months_count</th>\n",
       "      <th>customer_age</th>\n",
       "      <th>days_since_request</th>\n",
       "      <th>intended_balcon_amount</th>\n",
       "      <th>zip_count_4w</th>\n",
       "      <th>velocity_24h</th>\n",
       "      <th>date_of_birth_distinct_emails_4w</th>\n",
       "      <th>...</th>\n",
       "      <th>housing_status_BE</th>\n",
       "      <th>housing_status_BF</th>\n",
       "      <th>housing_status_BG</th>\n",
       "      <th>source_INTERNET</th>\n",
       "      <th>source_TELEAPP</th>\n",
       "      <th>device_os_linux</th>\n",
       "      <th>device_os_macintosh</th>\n",
       "      <th>device_os_other</th>\n",
       "      <th>device_os_windows</th>\n",
       "      <th>device_os_x11</th>\n",
       "    </tr>\n",
       "  </thead>\n",
       "  <tbody>\n",
       "    <tr>\n",
       "      <th>0</th>\n",
       "      <td>0</td>\n",
       "      <td>0.9</td>\n",
       "      <td>0.642713</td>\n",
       "      <td>0.0</td>\n",
       "      <td>20</td>\n",
       "      <td>0.009624</td>\n",
       "      <td>105.898067</td>\n",
       "      <td>1724</td>\n",
       "      <td>7394.902554</td>\n",
       "      <td>8</td>\n",
       "      <td>...</td>\n",
       "      <td>1</td>\n",
       "      <td>0</td>\n",
       "      <td>0</td>\n",
       "      <td>1</td>\n",
       "      <td>0</td>\n",
       "      <td>0</td>\n",
       "      <td>0</td>\n",
       "      <td>1</td>\n",
       "      <td>0</td>\n",
       "      <td>0</td>\n",
       "    </tr>\n",
       "    <tr>\n",
       "      <th>1</th>\n",
       "      <td>0</td>\n",
       "      <td>0.9</td>\n",
       "      <td>0.720064</td>\n",
       "      <td>200.0</td>\n",
       "      <td>40</td>\n",
       "      <td>0.007018</td>\n",
       "      <td>33.006203</td>\n",
       "      <td>1986</td>\n",
       "      <td>5416.601990</td>\n",
       "      <td>5</td>\n",
       "      <td>...</td>\n",
       "      <td>1</td>\n",
       "      <td>0</td>\n",
       "      <td>0</td>\n",
       "      <td>1</td>\n",
       "      <td>0</td>\n",
       "      <td>0</td>\n",
       "      <td>0</td>\n",
       "      <td>0</td>\n",
       "      <td>1</td>\n",
       "      <td>0</td>\n",
       "    </tr>\n",
       "    <tr>\n",
       "      <th>2</th>\n",
       "      <td>0</td>\n",
       "      <td>0.9</td>\n",
       "      <td>0.075432</td>\n",
       "      <td>129.0</td>\n",
       "      <td>40</td>\n",
       "      <td>0.009764</td>\n",
       "      <td>-0.632448</td>\n",
       "      <td>2411</td>\n",
       "      <td>7423.819019</td>\n",
       "      <td>7</td>\n",
       "      <td>...</td>\n",
       "      <td>0</td>\n",
       "      <td>0</td>\n",
       "      <td>0</td>\n",
       "      <td>1</td>\n",
       "      <td>0</td>\n",
       "      <td>0</td>\n",
       "      <td>0</td>\n",
       "      <td>0</td>\n",
       "      <td>1</td>\n",
       "      <td>0</td>\n",
       "    </tr>\n",
       "    <tr>\n",
       "      <th>3</th>\n",
       "      <td>0</td>\n",
       "      <td>0.5</td>\n",
       "      <td>0.784344</td>\n",
       "      <td>240.0</td>\n",
       "      <td>20</td>\n",
       "      <td>0.017281</td>\n",
       "      <td>-1.612753</td>\n",
       "      <td>1731</td>\n",
       "      <td>4489.610329</td>\n",
       "      <td>8</td>\n",
       "      <td>...</td>\n",
       "      <td>1</td>\n",
       "      <td>0</td>\n",
       "      <td>0</td>\n",
       "      <td>1</td>\n",
       "      <td>0</td>\n",
       "      <td>1</td>\n",
       "      <td>0</td>\n",
       "      <td>0</td>\n",
       "      <td>0</td>\n",
       "      <td>0</td>\n",
       "    </tr>\n",
       "    <tr>\n",
       "      <th>4</th>\n",
       "      <td>0</td>\n",
       "      <td>0.8</td>\n",
       "      <td>0.770435</td>\n",
       "      <td>150.0</td>\n",
       "      <td>40</td>\n",
       "      <td>9.370346</td>\n",
       "      <td>26.733867</td>\n",
       "      <td>1863</td>\n",
       "      <td>6301.097061</td>\n",
       "      <td>7</td>\n",
       "      <td>...</td>\n",
       "      <td>0</td>\n",
       "      <td>0</td>\n",
       "      <td>0</td>\n",
       "      <td>1</td>\n",
       "      <td>0</td>\n",
       "      <td>1</td>\n",
       "      <td>0</td>\n",
       "      <td>0</td>\n",
       "      <td>0</td>\n",
       "      <td>0</td>\n",
       "    </tr>\n",
       "  </tbody>\n",
       "</table>\n",
       "<p>5 rows × 47 columns</p>\n",
       "</div>"
      ],
      "text/plain": [
       "   fraud_bool  income  name_email_similarity  current_address_months_count  \\\n",
       "0           0     0.9               0.642713                           0.0   \n",
       "1           0     0.9               0.720064                         200.0   \n",
       "2           0     0.9               0.075432                         129.0   \n",
       "3           0     0.5               0.784344                         240.0   \n",
       "4           0     0.8               0.770435                         150.0   \n",
       "\n",
       "   customer_age  days_since_request  intended_balcon_amount  zip_count_4w  \\\n",
       "0            20            0.009624              105.898067          1724   \n",
       "1            40            0.007018               33.006203          1986   \n",
       "2            40            0.009764               -0.632448          2411   \n",
       "3            20            0.017281               -1.612753          1731   \n",
       "4            40            9.370346               26.733867          1863   \n",
       "\n",
       "   velocity_24h  date_of_birth_distinct_emails_4w  ...  housing_status_BE  \\\n",
       "0   7394.902554                                 8  ...                  1   \n",
       "1   5416.601990                                 5  ...                  1   \n",
       "2   7423.819019                                 7  ...                  0   \n",
       "3   4489.610329                                 8  ...                  1   \n",
       "4   6301.097061                                 7  ...                  0   \n",
       "\n",
       "   housing_status_BF  housing_status_BG  source_INTERNET  source_TELEAPP  \\\n",
       "0                  0                  0                1               0   \n",
       "1                  0                  0                1               0   \n",
       "2                  0                  0                1               0   \n",
       "3                  0                  0                1               0   \n",
       "4                  0                  0                1               0   \n",
       "\n",
       "   device_os_linux  device_os_macintosh  device_os_other  device_os_windows  \\\n",
       "0                0                    0                1                  0   \n",
       "1                0                    0                0                  1   \n",
       "2                0                    0                0                  1   \n",
       "3                1                    0                0                  0   \n",
       "4                1                    0                0                  0   \n",
       "\n",
       "   device_os_x11  \n",
       "0              0  \n",
       "1              0  \n",
       "2              0  \n",
       "3              0  \n",
       "4              0  \n",
       "\n",
       "[5 rows x 47 columns]"
      ]
     },
     "execution_count": 2,
     "metadata": {},
     "output_type": "execute_result"
    }
   ],
   "source": [
    "df = pd.read_csv('../csv/preprocess.csv')\n",
    "df.head()"
   ]
  },
  {
   "cell_type": "markdown",
   "metadata": {},
   "source": [
    "# 분석"
   ]
  },
  {
   "cell_type": "code",
   "execution_count": 3,
   "metadata": {},
   "outputs": [
    {
     "data": {
      "text/plain": [
       "0    6871\n",
       "1    6871\n",
       "Name: fraud_bool, dtype: int64"
      ]
     },
     "execution_count": 3,
     "metadata": {},
     "output_type": "execute_result"
    }
   ],
   "source": [
    "train_cols = df.columns[1:]\n",
    "X = df[train_cols] # 독립변수\n",
    "y = df[\"fraud_bool\"] # 종속변수\n",
    "df[\"fraud_bool\"].value_counts()"
   ]
  },
  {
   "cell_type": "code",
   "execution_count": 4,
   "metadata": {},
   "outputs": [],
   "source": [
    "from sklearn.pipeline import Pipeline\n",
    "from sklearn.preprocessing import StandardScaler\n",
    "from sklearn.linear_model import LogisticRegression\n",
    "from sklearn.model_selection import GridSearchCV"
   ]
  },
  {
   "cell_type": "code",
   "execution_count": 5,
   "metadata": {},
   "outputs": [
    {
     "name": "stdout",
     "output_type": "stream",
     "text": [
      "{'clf__C': 0.1, 'clf__class_weight': 1, 'clf__max_iter': 1000, 'clf__penalty': 'l2'}\n",
      "0.788022262703331\n"
     ]
    }
   ],
   "source": [
    "pipe = Pipeline([\n",
    "    ('scaler', StandardScaler()),\n",
    "    ('clf', LogisticRegression(random_state=0)),\n",
    "    ])\n",
    "params = {\n",
    "    'clf__C': [0.0001, 0.001, 0.01, 0.1, 1.0, 10, 100, 1000],\n",
    "    'clf__penalty':['l1', 'l2', 'elasticnet', 'none'], # l2 일반적으로 사용\n",
    "    'clf__class_weight':['balanced', 1, {0:3, 1:1, 2:2}], # 1 = 기본옵션\n",
    "    'clf__max_iter':[1000, 2000, 3000, 5000, 10000], # 1000 = 기본옵션\n",
    "    }\n",
    "grid = GridSearchCV(pipe, params, scoring='accuracy', cv=3)\n",
    "grid.fit(X, y)\n",
    "print(grid.best_params_)\n",
    "print(grid.best_score_)\n",
    "\n",
    "\n",
    "# {'clf__C': 0.1, 'clf__class_weight': 'balanced', 'clf__max_iter': 1000, 'clf__penalty': 'l2'}\n",
    "# 0.7879494983869518\n",
    "# 32.9초"
   ]
  },
  {
   "cell_type": "code",
   "execution_count": 7,
   "metadata": {},
   "outputs": [
    {
     "data": {
      "text/plain": [
       "LogisticRegression(C=0.1, class_weight=1, max_iter=1000, random_state=0)"
      ]
     },
     "execution_count": 7,
     "metadata": {},
     "output_type": "execute_result"
    }
   ],
   "source": [
    "model = grid.best_estimator_['clf']\n",
<<<<<<< HEAD
    "model.fit(X, y)"
=======
    "model.fit(X_train, y_train)"
   ]
  },
  {
   "cell_type": "code",
   "execution_count": 7,
   "metadata": {},
   "outputs": [
    {
     "data": {
      "image/png": "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",
      "text/plain": [
       "<Figure size 640x480 with 2 Axes>"
      ]
     },
     "metadata": {},
     "output_type": "display_data"
    }
   ],
   "source": [
    "import matplotlib.pyplot as plt\n",
    "from sklearn.metrics import confusion_matrix, ConfusionMatrixDisplay\n",
    "cm = confusion_matrix(y_test, model.predict(X_test))\n",
    "disp = ConfusionMatrixDisplay(confusion_matrix=cm, display_labels=model.classes_)\n",
    "disp.plot()\n",
    "plt.show()"
>>>>>>> 746cb365aed1a0dbd57abe7889e2f28c78b8dc40
   ]
  },
  {
   "cell_type": "code",
   "execution_count": 8,
   "metadata": {},
   "outputs": [
    {
     "name": "stdout",
     "output_type": "stream",
     "text": [
      "              precision    recall  f1-score   support\n",
      "\n",
<<<<<<< HEAD
      "           0       0.77      0.79      0.78      6871\n",
      "           1       0.78      0.76      0.77      6871\n",
=======
      "           0       0.76      0.80      0.78      1375\n",
      "           1       0.79      0.75      0.77      1374\n",
>>>>>>> 746cb365aed1a0dbd57abe7889e2f28c78b8dc40
      "\n",
      "    accuracy                           0.77     13742\n",
      "   macro avg       0.77      0.77      0.77     13742\n",
      "weighted avg       0.77      0.77      0.77     13742\n",
      "\n"
     ]
    }
   ],
   "source": [
    "from sklearn.metrics import classification_report\n",
    "print(classification_report(y, model.predict(X)))"
   ]
  },
  {
   "cell_type": "markdown",
   "metadata": {},
   "source": [
    "# 시각화"
   ]
  },
  {
   "cell_type": "code",
   "execution_count": 9,
   "metadata": {},
   "outputs": [
    {
     "data": {
      "image/png": "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",
      "text/plain": [
       "<Figure size 640x480 with 2 Axes>"
      ]
     },
     "metadata": {},
     "output_type": "display_data"
    }
   ],
   "source": [
    "import matplotlib.pyplot as plt\n",
    "from sklearn.metrics import confusion_matrix, ConfusionMatrixDisplay\n",
    "cm = confusion_matrix(y, model.predict(X))\n",
    "disp = ConfusionMatrixDisplay(confusion_matrix=cm, display_labels=model.classes_)\n",
    "disp.plot()\n",
    "plt.show()"
   ]
  },
  {
   "cell_type": "code",
   "execution_count": 10,
   "metadata": {},
   "outputs": [
    {
     "data": {
      "text/plain": [
       "<sklearn.metrics._plot.roc_curve.RocCurveDisplay at 0x297c11e3510>"
      ]
     },
     "execution_count": 10,
     "metadata": {},
     "output_type": "execute_result"
    },
    {
     "data": {
      "image/png": "iVBORw0KGgoAAAANSUhEUgAAAjIAAAGuCAYAAACKgOz8AAAAOXRFWHRTb2Z0d2FyZQBNYXRwbG90bGliIHZlcnNpb24zLjcuMCwgaHR0cHM6Ly9tYXRwbG90bGliLm9yZy88F64QAAAACXBIWXMAAA9hAAAPYQGoP6dpAABdW0lEQVR4nO3dd3hTZf8G8DtN00X3oqUjHcwyZRVQhiwRZC8HUhTFgYqAKENF4QXEFxUEX1QEWTJ+CgICMsSyLHtTdgcUSifdI22S8/uj9kAoLUmb9DTp/bmuXp6cnJzcPSLn63OeIRMEQQARERGRGbKSOgARERFRZbGQISIiIrPFQoaIiIjMFgsZIiIiMlssZIiIiMhssZAhIiIis8VChoiIiMyWtdQBTE2r1SIxMRFOTk6QyWRSxyEiIiI9CIKAnJwc1KtXD1ZW5be7WHwhk5iYiICAAKljEBERUSUkJCTA39+/3PctvpBxcnICUHIhnJ2dJU5DRERE+sjOzkZAQIB4Hy+PxRcypY+TnJ2dWcgQERGZmcd1C2FnXyIiIjJbLGSIiIjIbLGQISIiIrPFQoaIiIjMFgsZIiIiMlssZIiIiMhssZAhIiIis8VChoiIiMwWCxkiIiIyWyxkiIiIyGxJWsgIgoDVq1ejY8eO5R5z5swZdOjQAUqlEmFhYdi7d281JiQiIqKaTLK1lnbt2oUpU6agoKAA1taPjpGTk4P+/ftj5cqV6NmzJw4cOICBAwfiypUr8PHxqebEREREVNNI1iKTl5eH+fPn46effir3mPXr16Ndu3bo2bMnAKBr167o0qULNm7cWF0xiYiIaj1BEJCrUiM9V4XUHBVSsgtxN6sAdzILkHAvH8UarWTZJGuRGTp0KABg//795R5z5MgRPPnkkzr7wsPDcfbs2XI/o1KpoFKpxNfZ2dlVyklERFSTabUCMguKcTM9DwVFGhRptCjWCLiWnANba6uS12oBOYXFSM5RwUoGqLUCNBqh5J9aLY7F3UN9b0cUawSoNVokZOSjsFgLR1trFKm1KHpMoRL5QTcEe9appt9Yl2SFjD7u3r2L7t276+zz9vbGsWPHyv3MvHnz8Pnnn5s6GhERkUEEQUCOSo3krEIUabTQaAWxcEjKLoRCboUitRZ5RWrEp+XB0VaB+PQ8FGm0sJVbQaXRIupGGmyt5UjOKYSrvQJ5RRoUqY3TGnL+dlaZfbkqdZl9MhlgJZPBSvynDIIgGCVDZdToQkatVpe5OBqNBjKZrNzPTJs2DZMmTRJfZ2dnIyAgwGQZiYiodhEEAWm5RbiekoN7eUU4EXcPdgo58os0OBaXjuRsFewUJT03SouVIrUWBcUaIyUoBgBk5Bfr7HWwkcPD0QbOdgoo5FawkVshNi0PTzfygsK65DUAuNexgYu9AnIrGaytZLD695+FxVr4u9nDWi6DjdwKMhngXscWttZWUMit4GAjh4ONvMJ7sBRqdCHj7u6OtLQ0nX2pqakVdvS1tbWFra2tqaMREZEFUqk1KCjSIC1XhaQsFbILi6FSa3DmVibWHbsFtVa/loesgscf4+dqX1JMyGWQy2SISc1Fp1BPKOQyCADyVRo09XNGYbEG7nVs4OVoCxtrOTSCgCAPB3g72cFeIYeNtRU8HG2gkNfOGVVqdCHTpk0bREVF6bSwREVFYeTIkRKmIiIicyIIAlJzVDibkInLd3NwNTkb15NzcetePjwdbVGs0aJYoy3TwqGPIA8HuNgrkFVQjGeb+8LR1hpqjYAgTweEejnCWl7S2mFtZQW5lQwejjZwsKnRt16zU6Ov5ksvvYQvvvgCf//9N7p3746dO3fi8uXLGD58uNTRiIhIYqV9Tu5mFiKroBiJmQWISc2FrbUVztzKhFsdG/x26naF57iTWXHTia21FRr7OMHT0RZ3swrRoK4j3u1eHz4u9nC0rdG30Fqjxv1bWLt2LU6cOIFFixbB398fGzZswNtvv4179+6hfv36+OOPP1CnjjQ9o4mIyLQ02pLWk8SsAkQnZiMpqwBXk3KgFUreO3Q9FSFejlCpNUjOVhnc0dXLyRZKdweEeNVBw7pOCPasAx8XO9jIrWBjbQVHW2s42ytq7WMacyQTpOxqXA2ys7Ph4uKCrKwsODs7Sx2HiKhWy8ovxo3UHPxx7i5yVWrsu5wMHxd7XL5btakynOysYWsth4u9NRztFHgiwBWZ+UVorXRDXWc7dGngBXsbuZF+C6oO+t6/a1yLDBERmQ+NVkBiZgGOxKZDrRFw814ebiTnQiaTQSYDijVa5KtKOs/GpuU98hyP6ptSx0aOvCIN/N3s0ayeCxztrNGsnjM8HG0ht5LBx8UOttZWqOdiD7c6Nqb+NakGYyFDRESPpVJrkJ5bhGNx6TiXkIU7mQX450Ya1FqhUvOY+LnaAwAGP+GHeq72qO/tWFKYuNrDvY4N5FY1a4gv1VwsZIiISKTRCki4l4+EjHwcvpGGvy4lIy4tD48bdRzgbo/CYi06hHigSK1BHRtrhNVzhquDDRTyklE7ge4OCHC3h6sDW1DIeFjIEBHVElqtgNRcFbILirHnUjIS7uWjSK3Fvisp8HWxw5WkHL3OYyUDejapi95NfRDk4YBWAa6wZudYkggLGSIiC5OUVYidF+4iKqZkOvvoxCzEp+dX+JmsgrL9VPxc7eFkZ40uDb3wbDMftPR3hRUf+VANw0KGiMiM3csrwrHYdKw6Eo/03CJcT8nV63NOdtaQW8nQvZE3mvu7wE4hR31vR/g426Gusx1srNnCQuaBhQwRkRnJyi/GpbvZOHQ9Fb+fuYO7WYXlHutexwbtgtzwdCNvKORWaOzrhAbeTixSyKKwkCEiqiHUGi3i0/Ox+fRtaLQCjsSmw9vJFgevpcHb2Ra3M8qfhdbfzR6NfZzxeudgeDrZItTLsRqTE0mHhQwRUTW7k1mAzaduIzGrALczCnDoetpjP/NwEeNir4C3ky1eaB+IF8MDYafgZG9UO7GQISIyoZScQkReScG64wlIuJePe3lFj/2M3EoGO2srjO4UBBmAJr7OsLaSIcDdAT4udvCoYwOZjJ1uiQAWMkRERqHVCrh0NxsHrqUi4V4+rqfk4tTNjAo/0zrQFf1b1oOvix3sbawR7FEH/m72HBlEZAAWMkREBhIEAdeSc7HrYhJuZ+Tj18essAwAz7XwRYC7A4a38Yenky2c7RTVkJTI8rGQISKqgEYr4MytDByPv4fjcfew/2pqhcc3rVeyuF2zei4I8qwjFjBEZBosZIiIHlBQpMGPB2ORlqvCmqM3H3t8w7qO6BTqiXqudhja2h8ejrbVkJKISrGQIaJaJymrEAevpSI2LQ9nbmXAyc4a+66kQHjMekItA1zRMcQDbZRu6NzAkyOFiGoAFjJEZNEEQcCte/nYHZ2E43EZ+Oty8mM/Y6+Qw8nOGq8+FQwvR1s819IXttYsWohqIhYyRGRxriXn4M8LSVh1JL7C4c51nW3RLsgdLvYKtA92Rx0ba7QMcIV7HRvIOXKIyCywkCEis6bRCvj9zB38cyMNv5+5U+GxQR4O6NzAC0Na++GJQLdqSkhEpsRChojMQkp2IXZfSsaRmDRkF6hxPO4eijTaco93sVfATmGFZ5v54o2uIfB1sa/GtERUXVjIEFGNFZ+Whz8vJmH+rit6Hd+vuS86hHpgyBN+qGPLv96IagP+l05ENUZhsQZbztzB72fu4HZGAe5kll0k0dVBgbZKN3QM9URdZ1u08HOFr6sdFHKu6ExUG7GQISJJ3UrPx0+HY7Hu2C2otY8e/xzm64ym9Zzx5bAWXGOIiHSwkCGiapVTWIzoxGysPhKPnReSyj1u8BN+eKF9INoHu1djOiIyNyxkiMhkCos1uJGSi+3n7+JGSg7+upxS7rGN6jphzJNBGNraHzbWfExERPphIUNERlWk1mJJ5A18u+/6Y491c1Bg/tAW6NGkLudtIaJKYSFDRFVWWKzBk1/8jfQKJp9r4e+CsU8Fo22QO/xcORSaiIyDhQwRVYpWK+CXYzfxz4107Ip+dF+Xt7uFYlKvhrDmiCIiMhEWMkSkt4PXUrH9fCL2XkpGRn7xI4/ZMv5JNPF14tpERFQtWMgQUYU0WgFrj97EzG3Rj3zfTmGFV58MxlvdQuFkp6jmdERU27GQIaIytFoBJ+LvYemBGOy/mlrm/Z5N6qJbIy/0a+4Ltzo2EiQkIirBQoaIRAn38vHNX9dw8Foq0nJ1O+7KrWSYP7QFhrXxlygdEVFZLGSICF/vvYb/Rd4oM7Oui70CLfxdMHdwcwS4O0iUjoiofCxkiGqx1BwV2s35q8z+kW0D8Gn/MC68SEQ1Hv+WIqpl0nNVOBKbjgt3svDDgVhxf/tgd8wZ1AwN6jpJmI6IyDAsZIhqiVM3MzB0adQj3+ve2BsrxrSr5kRERFXHQobIgmm1AjafuYNv9l7DncwCnfeUHg54sX0gOoZ6oIW/qzQBiYiqiIUMkYVJySnEH+fu4pu915CrUpd5/7P+YYjoFASZjGsbEZH5YyFDZAG0WgF/XkzC+HWnH/m+lQyY3LsRxnUJgYLLBRCRBWEhQ2SGMvOLsDs6CT//E48rSTmPPKalvwtGdwxC/5b1YGPN4oWILBMLGSIzodEKWLr/BhbsufbI922trSAIQO+mdfH1iFYsXoioVmAhQ1RDCYKAm+n52Hz6NhZH3oAglD2mdaAr2gd7YFgbPwS612HxQkS1DgsZohpo9ZF4fLr10Ys0OtpaY9bAphj8hB877BJRrcdChqiGWLD7Kjafvo3ErMIy77nYK/BWt1CM6qCEI2fbJSIS8W9EIomk5BTim73XcPBaWpk5Xkqtey0cnep7VnMyIiLzwUKGqJptOXMH7288W+77nz4XhoGt6sHD0bb6QhERmSkWMkTVaPj3UTgRn6Gzr43SDZN7NURzfxc42SkkSkZEZJ5YyBBVg1yVGs1m7tbZt+mtTmijdJMoERGRZWAhQ2RiCffy0fnLSPG1q4MCx6b3gK21XMJURESWgYUMkYnEpuai+1cHdPY19nHCzvc6w8qKw6aJiIyBhQyRkSVlFeKzbdHYFZ2ks3/qs43xZtdQiVIREVkmFjJERhJ1Iw0v/nSszP63uoXioz6NJUhERGT5WMgQVZFKrUGjj3eV2f9sMx9MeaYRQrwcJUhFRFQ7sJAhqoLP/4jGz//E6+z7z6BmGNVBKU0gIqJaxqBC5uzZs9i8eTOOHj2K5ORkaDQaeHt7Izw8HIMHD0b79u1NlZOoRjl4LRWjVxzX2dchxB3rX+/A9Y+IiKqRXoVMYmIixo0bhzt37mDIkCGYOnUqfHx8IJPJkJycjKNHj+Kdd96Bm5sbVqxYAT8/P1PnJqp2Gq2A7yJv4Ou918q8t+2dJ9HC37X6QxER1XIyQRCExx3UqlUrzJkzB/369avwuD179mDGjBk4ceKE0QJWVXZ2NlxcXJCVlQVnZ2ep45CZOhl/D8O+P1Jm/5RnGmH80/UlSEREZNn0vX/rVchkZmbC1dVV7y/Wp2AoKCjAhAkTsHv3bmg0Grz44ouYP39+mWb5LVu2YMaMGcjJyYGPjw++/vprPPXUU3plKc3DQoYqq0itRZ9FBxGbmifuC/JwwPIx7RDKTrxERCaj7/3bSp+T6VvEANC7WJg8eTK0Wi1iYmIQHR2NyMhILFmyROeYuLg4jB49GqtWrcKtW7cwZ84cDBgwAFlZWXrnIaqsswmZaPjxnzpFzIvhgdg/5WkWMURENYQko5Zyc3OxatUqJCQkwNraGi4uLpg2bRpmz56Nd999VzzuwoULaNiwIdq2bQsA6NWrFxwcHHD9+nVxH5GxabUCBn73Dy7cuV8wN/Zxwu9vPwl7Gy4rQERUk+hVyAwePBgqleqxx+3cuVOvLz116hSCg4Ph7u4u7gsPD8fFixeh0Wggl5fcLDp37oyUlBTs3bsXvXr1wvr16+Hu7o4WLVqUe26VSqWTNTs7W69MRADw26nb+ODXczr7Fo5shUFPsAM7EVFNpFch07lzZ3z//feYMWOGUb707t27qFu3rs4+b29vqNVqZGVliQWOm5sbFixYgN69e6NOnTooKirCoUOHYGNjU+65582bh88//9woOal2mfH7Bfxy7Jb4msOpiYhqPr0KmQkTJmDJkiVo2LAhOnbsWOUvVavVeLiPsUajAQCdm8bx48cxffp0nDlzBi1btsS+ffswdOhQHD58GEFBQY8897Rp0zBp0iTxdXZ2NgICAqqcmSxXnkqNpjN36+zbN7kr+8EQEZkBvTr7yuVyzJ49G1evXjXKl7q7uyMtLU1nX2pqKuzs7ODi4iLuW7RoEcaPH49WrVpBJpOhZ8+eGDx4MJYtW1buuW1tbeHs7KzzQ/QohcUadJi7T6eIkcmAM5/0YhFDRGQm9O7s+9JLLxntS1u3bo2rV68iIyMDbm5uAICoqCiEh4fDyup+bVVUVARra92ICoUCRUVFRstCtU9qjgrt5/6FhyceeDE8EHMHN5cmFBERVYpeLTLG5uPjgz59+mD69OlQq9VIS0vDnDlz8P777+scN3z4cCxevBi3bpX0Wzh79ixWr16NwYMHS5CaLMGe6CS0m6NbxDjaWiP682dYxBARmSHJFo1cvnw5xo4dC19fX9SpUwcffPABBg0ahLVr1+LEiRNYtGgRRowYgezsbPTp0wd5eXlwc3PDjz/+iE6dOkkVm8zYwO/+wbmETPH1E4Gu2DCuA2ytOaSaiMhc6TWzrznjzL4EAH0WHsSVpBzx9c9j2uHpxt4SJiIiooroe/+WrEWGqDrM3XkZPx6MFV971LHByY97ckg1EZGFYCFDFmnLmTt4f+PZMvtZxBARWRaDC5n09HR4eHjovZ+ouj08sR0ArHs9HJ1CPSVKREREpmLwqKVhw4YZtJ+ouqg1Wjz5xd86Rcz/XmqN+C/6sYghIrJQBrfI/N///Z9B+4mqw9L9MZi/64rOviuz+8BOwRFJRESWzOBCxsvLy6D9RKZ0NiETg777p8z+M5/0YhFDRFQL6FXINGnSRK8OkpcuXapyICJ9pOao0G7OX2X2bxjXAR1C2FeLiKi20KuQ+f77702dg0hv+y4nY+yqkzr7RrYNwPxhLSRKREREUtGrkOnataupcxDp5eC1VJ0ixtfFDgc/fBoKuSSrbRARkcQM/ts/Pz8fkyZNQlBQELy9S2ZGPXLkCA4dOmT0cESlBEHAu+vPYPSK4+K+r4a3xJFpPVjEEBHVYgZ39n3vvfegVquxfft2PPfccwCAoKAgDB8+HIcPHzZ6QKK9l5Lx+mrdR0kHpnSD0qOORImIiKimMLiQiYyMxI0bNyCTyWBlVfJ/wr6+vkhOTjZ6OKIjMellipjj03vA29lOokRERFSTGFzIKBQKFBQUwMHBAaXrTRYWFqKoqMjo4aj2ik3NxWurTiI2LU/ct3BkKwx6wk/CVEREVNMY3LnghRdewIgRIxAfHw+ZTIasrCy888476Nu3rynyUS20/Xwiun91QKeI+fmVdixiiIioDIMLmU8++QRPPPEEWrRogfj4ePj6+kImk2HBggWmyEe1SEGRBgOWHMY7686I+/o198W5mb3xdCNvCZMREVFNJRNKnw9VQmpqKjw9PWv0asLZ2dlwcXFBVlYWnJ2dpY5D5bh4JwvPLdbtLP77253wRKCbRImIiEhK+t6/De4jAwAXLlzA5s2bkZ6ejvr16+Pll1+GmxtvOFQ5WfnFOkVMgLs9tr/TGS4OCglTERGROTD40dL//d//oXPnzkhKSoKbmxsOHTqERo0a4dy5c6bIR7VAy1l7xO2fX2mHQx92ZxFDRER6MbhF5rPPPsNff/2Ftm3bivt27NiBd999FwcPHjRqOLJ84XPvr5cU4G7PvjBERGQQg1tk8vLydIoYAOjXrx9u3rxptFBUO3yz9xqSs1Xi60MfdpcwDRERmSODW2SaNGmCmzdvQqlUivvS0tLYR4b0lpJdiPZz9+nsi5vH4ftERGQ4vQqZ48fvr28zduxYPP/885g4cSKCgoKQnp6OefPmYezYsSYLSZYjJadsEbPr/c41euQbERHVXHoNvw4ODn78iWQyxMbGGiWUMXH4dc0RnZiFft/eH51U39sRO957CrbWcglTERFRTWTU4ddxcXFGC0a1z/nbmXh/w1mdmXon92qId3s0kDAVERFZgkrNI0Okr8JiDQYs+Udn36pX26NrQy+JEhERkSUxuJA5ffo03nnnHVy6dKnMQpH5+flGC0aWYdB394uYL4Y0x8h2AewPQ0RERmNwIfPGG2/gxRdfhJWVFeLi4hAREYG5c+di0KBBJohH5mz1kXhcScoBAPRr4Yvn2wdKnIiIiCyNwfPIpKamYuLEiejcuTNycnLwxBNPYOXKlfjqq69MkY/MVGZ+ET7dGi2+XjSylXRhiIjIYhncIqNQKKBSqdCoUSNcuHABAODg4ICUlBSjhyPz9MWfV/D9gRjx9fyhzWEtN7hmJiIieiyD7y4jRozAypUrUadOHXh7e2PcuHF4/vnn0ahRI1PkIzPz/oYzOkXM2KeCMbIdHykREZFp6DWPTHkyMjKwcOFCqFQqTJw4EXXr1jVmNqPgPDLVJyu/WGcByL0Tu6BBXScJExERkbnS9/5dpULGHLCQqR6FxRo0/mSX+PrczN5wsecK1kREVDlGnRDv7bff1utL//e//+mXjizOg8Os+7XwZRFDRETVQq9CpiY+MqKaIS1Xhbb/+Ut83dzPBd+92FrCREREVJvw0RJV2tHYdDz/41GdfbFz+8LKihPeERFR1eh7/+aYWKoUQRAw/pfT4uueTbxZxBARUbXjWktUKZP+7xzS80qWqJjQowEm9moocSIiIqqN2CJDBsspLMbvZ+4AAOo627KIISIiybCQIYPEp+Wh+WcPzBUzqauEaYiIqLZjIUN6S81RoduC/eLr93s2gLMdh1kTEZF0DC5ktFotvv32W3Tr1g1t27YFAJw7dw7R0dGP+SSZu05f7BO3Zw9sivd78pESERFJy+BCZurUqdi+fTumTJmC1NRUAICjoyMmTpxo9HBUc/xxLhHFmpKR+v1a+OLljkHSBiIiIkIlRi1t3rwZ0dHRsLW1hVwuBwCEhoYiPj7e2NmohlBrtHh3/Rnx9eLnn5AwDRER0X0Gt8jIZDJYW5fUP6Vz6Wk0GhQWFho3GdUYH246L26vez2cc8UQEVGNYXAh8+yzz+Ktt95CYWEhZLKSG9qsWbPQqVMno4cjaRUWaxA8bQc2ny4Zat3YxwmdQj0lTkVERHSfwYXMl19+iYKCAnh4eOD27dvw8PBAVFQUFi9ebIp8JKHGn+zCgwtYrHu9g3RhiIiIHsHgPjKCIGDNmjX45ptvEBcXh3r16sHPz88U2UhCkVdTxG1XBwVOfdwLcj5SIiKiGsbgFhk/Pz9MnDgR6enpaNeuHYsYC/X6qpPi9mkWMUREVEMZXMicPn0arq6u6Nu3L55++mls3LgRarXaFNlIIj8ejIFaW/JMac7gZuzcS0RENZZMEB7sBWGY/fv3Y9WqVThy5AiGDh2KOXPmGDObUei7DDjdFzR1h7gd/0U/CZMQEVFtpe/9u0pLFLRp0wadO3dGUFAQNm7cWJVTUQ3xYN+Y9ezcS0RENZzBhYxarcbWrVsxfPhwKJVK7Nu3D1OmTMGNGzdMkY+q2Ss/nxC3O4Z6SJiEiIjo8QwetVS3bl0olUq8+uqr+PHHH+Hm5maKXCSBCRvuz977YZ9GEiYhIiLSj8GFzN69e9G6dWtTZCEJHY1Nx9azieLrt7vVlzANERGRfvQqZLZt24YBAwYAAG7cuFHuY6QRI0YYLxlVG41WwPM/HhVf/zO1u4RpiIiI9KdXIXPgwAGxkFm6dOkjj5HJZCxkzNTrq+/PGfPdi63h52ovYRoiIiL96VXIfPXVV+J2ZGSkUb64oKAAEyZMwO7du6HRaPDiiy9i/vz54vpNpQRBwDfffIMffvgBBQUFsLGxweXLl6FQKIySg4C/r5SMVGof5I5+LXwlTkNERKQ/g0ctjRw5ssw+jUaDV155xaDzTJ48GVqtFjExMYiOjkZkZCSWLFlS5rg5c+Zg27ZtOHToEG7duoWDBw9CLpcbGpvK8eCcMbMGNZUwCRERkeEMnhAvJCQEsbGxOvsSExPRunVrJCUl6XWO3Nxc1K1bFwkJCXB3dwcAbN68GbNnz8aZM/dHzqSmpiI4OBiXL19GQECAITFFnBCvfM//eARHY++Jrzn5HRER1RT63r/1HrUUFhaG+Ph4qFQqODg46LxXVFSEyZMn6x3u1KlTCA4OFosYAAgPD8fFixeh0WjEFpft27fjqaeeMqiIUalUUKlU4uvs7Gy9P1ubzN15mUUMERGZPb0LmQMHDiAvLw+dO3fG4cOHdd5zc3MzqLXj7t27qFu3rs4+b29vqNVqZGVliQXOhQsXoFQq8cYbb2DPnj1wcXHBpEmTMHr06HLPPW/ePHz++ed6Z6mNvt57DT8evN+qdmV2HwnTEBERVZ7ehYyXlxe8vLywZMkSKJXKKn2pWq3Gw0+0NBoNAOh09s3JycGOHTuwevVqfP/99zh37hx69+4NpVKJrl27PvLc06ZNw6RJk8TX2dnZlX4sZYmKNVp8u++6+PqvSV1hp2CfIyIiMk96FTLHjx9H+/btAQC+vr44fvz4I48rPeZx3N3dkZaWprMvNTUVdnZ2cHFxEfd5enqiT58+6NmzJwCgVatWGDVqFLZt21ZuIWNrawtbW1u9ctRG0zdfELe3jH8S9b0dJUxDRERUNXoVMgsXLsS6desAPHrUElDSkvJwJ+DytG7dGlevXkVGRoa4xEFUVBTCw8NhZXV/IFVYWFiZyfesrKxYqFTSzfQ8/HrqNgDA380erQJcpQ1ERERURQaPWjKWgQMHol69eli8eDEyMzPRvXt3zJo1C4MGDRKPKSgoQGhoKFavXo2ePXvi8uXL6NGjB3bt2oUWLVro9T0ctXTf0wv2Iy4tDwBwcMrTCPRweMwniIiIpKHv/dvgeWQKCgrE/iwAcOLEiUpNkrd8+XIkJibC19cXbdu2xbhx4zBo0CCsXbsWEyZMAADY29tj06ZNmDJlCvz9/fHiiy9i+fLlehcxdF9qjkosYjo38GQRQ0REFsHgFpnGjRtj9+7dUCqV2Lp1K8aOHYu6desiIiICH374oalyVhpbZEq8vvok9l5KBgAcm94DdZ3tJE5ERERUPpO2yJSOWvrss8+wbds2nDp1CqtWrap8WjIpQRDEIkbp4cAihoiILIbew69Lubi4ID09HWfPnoWNjQ06deoEgBPP1WRbzt4RtzeO6yhhEiIiIuMyuJCZNGkSGjZsiOLiYmzatAkAcO3aNTg6chhvTSQIAiZuPCe+9nFhawwREVkOgwuZMWPGoEuXLrC2tkZgYCCA+51yqeb5ZOtFcfvlDlWbyJCIiKimMbiQAUoWjjx//jwuXLiAkJAQNGnSxNi5yEhupOSK258P4OrWRERkWQwuZJKSkjBo0CDcvHkTSqUSt27dQsuWLbFx48ZaPSqoJsopLBYXhpzYsyGsrGSP+QQREZF5MXjU0uTJk9GjRw/cuXMHR48exZ07d9C2bVtMnz7dFPmoCr7484q4/UI415siIiLLY3CLTFRUFNauXSsu7iiTyfDZZ5+haVM+tqhJNFoBvxy7BQDo09QH3k7s5EtERJbH4BYZuVyus0J16b78/HyjhaKq23Lm/pDrD55pJGESIiIi0zG4kGnSpAl+++03nX2bNm1Cw4YNjRaKqkat0WLyr/eHXHOFayIislQGP1qaP38+unfvjk2bNqFx48a4du0adu/ejb/++ssU+agSXl99Utz+rH+YhEmIiIhMy+AWmbCwMFy8eBHt27dHamoqWrRogfPnz6NVq1YmiEeG+vPCXUReTQUAKOQyjHkyWOJEREREpqN3i8y+ffuwc+dO2Nvb47XXXsPEiRNNmYsqQRAEvPXLafH1kWk9JExDRERkenq1yPzyyy8YPXo0FAoFMjMz8dRTTyEmJsbU2chAG04kiNu/vBYOT0dbCdMQERGZnl4tMv/973+xZ88ecYh1nz598Omnn+KXX34xaTgyzLTNF8TtJ+t7SpiEiIioeujVInPv3j2deWKeffZZnDp1ymShyHBrjsSL2zP6cskIIiKqHfQqZKytdRtu5HI5ioqKTBKIDJeeq8InW6PF1693CZEwDRERUfXR69FSUlIS+vbt+9h9O3fuNF4y0otGK6DNf+4Pff97clcJ0xAREVUvvQqZpUuXltk3cuRIo4chw/38T5y4/UL7AIR4cfI7IiKqPfQqZCIiIkydgyrpPzsui9vzhrSQMAkREVH106uPzMCBA5GamvrY4zIyMjB8+PAqhyL9TN10Xtz+anhLCZMQERFJQ69C5r333kO3bt3w/vvv459//oFarRbfEwQBx48fx0cffYTOnTvjjTfeMFlY0vXgvDFDWvtJmISIiEgaej1a6tGjB86dO4dff/0V3377LU6dOgWtVgsAsLKyQsuWLdG/f3/Mnj0bNjY2Jg1MJbILi8XtX9/sWGZFciIiotpA7yUKrK2t8cILL+CFF14wZR7S02fb7g+3bqt0kzAJERGRdAxeNJJqhs2n7wAA7BRWbI0hIqJai4WMGdp44pa4vfKV9hImISIikhYLGTP00ab7ayp1CPGQMAkREZG0WMiYmWOx6eL2F0OaS5iEiIhIeixkzMyEDWfF7efbB0oXhIiIqAbQe9TSg5KSkrB7926kpaVh8uTJ0Gq1sLJiTWRqt9LzkZRdCAAY0ylI2jBEREQ1gMHVx+7du9G8eXNs374dCxYsAADs2LED7777rtHDka4u/40Ut6c+21jCJERERDWDwYXMRx99hMjISPz666+ws7MDAPTr1w979uwxeji6LyomTdz2cbaDnUIuYRoiIqKaweBCJisrC82aNQMAcf4SKysrqFQq4yYjHa+tOilu/zW5q4RJiIiIag6DC5ng4GDs3btXZ9/x48fh4cFhwKaUX6QBAEx5phEcbSvVtYmIiMjiGHxHXLRoEXr37o0+ffogMzMTkyZNwvr167FmzRpT5CMA5xIyxe1RHZTSBSEiIqphDC5kmjdvjgsXLmDVqlVwcHCAh4cHDh8+jNDQUFPkIwADv/tH3HaxV0iYhIiIqGYxuJD55ptvMHHiREyePFncp9Fo8N1332H8+PFGDUdASk6huD34CT8JkxAREdU8BveRWbx4cZl9MpkMX375pVECka7h3x8Rt+cPbSFhEiIioppH7xaZl156CRkZGUhOTkbfvn113rt58yYaNmxo9HC1nUqtwc30fACA0sMBNtacdJCIiOhBehcyERERSExMxIkTJzBy5Eid99zd3dG7d2+jh6vtYlPzxO1t45+SMAkREVHNpHchU1qoXL16FRERESYLRPftupgkbrs4sJMvERHRwwzu7Dtv3jwAQGZmJoqKinTe8/b2Nk4qAgCsPhIvdQQiIqIazeBCZu/evYiIiEBycnKZ9zQajVFCUUlrTEZ+MQDgve71JU5DRERUMxlcyEycOBHfffcdioqKcPHiRUyaNAkzZ87E008/bYp8tdbP/8SJ22OeDJYwCRERUc1l8DCYvLw8DB48GGFhYbh58ybc3Nzw9ddf45NPPjFFvlqpSK3Fsbh7AErmjnGvYyNxIiIioprJ4ELG3t4eOTk5aNiwIc6fPw8A0Gq1uHfvntHD1VbvrT8jbo9/mo+ViIiIymNwIfPWW29h06ZNsLW1RbNmzdC7d290794dHTt2NEW+WmlXdMloJSc7a9T3dpQ4DRERUc1lcB+Zd999V9z++eefsXbtWqhUKowZM8aYuWqtYo1W3F4zNlzCJERERDVflaaKVSgUeOWVV/DGG29g+fLlxspUq83645K43bSes4RJiIiIaj69W2R27dqFPXv2wNHREa+88gqCg0tG0ly9ehVjx45FVlYWF400gjVHb4rbCjmXJCAiIqqIXnfK//3vf3jzzTdhZ2eH9PR0dO3aFbGxsfjmm2/QsWNHPPfcczhz5szjT0QVEgRB3F76UmsJkxAREZkHvVpkFi1ahAMHDkCpVAIARo4ciYEDB8LOzg4nT55ESEiISUPWFkdi0sXt7k04SzIREdHj6FXIFBYWikUMAHTp0gU3b97E9evXUbduXZOFq23m/nlZ3La1lkuYhIiIyDzo9WhJLi97U/X09GQRY0RarYCLd7IBAEOe8JM4DRERkXnQq0Xm9u3bCAsLe+y+S5cugSpnSeQNcXvyM40kTEJERGQ+9Cpk9u7da+octd7Xe68BANoHu8PP1V7iNEREROZBr0Kma9euRv/igoICTJgwAbt374ZGo8GLL76I+fPnQyaTPfL4vLw8BAUFYfLkyZg6darR80jpwQUi3+jCjtNERET6kmyiksmTJ0Or1SImJgbR0dGIjIzEkiVLyj3+u+++Q0ZGRjUmrD7zd10Rt3s0Yb8jIiIifUlSyOTm5mLVqlX48ssvYW1tDRcXF0ybNg0rVqx45PGJiYlYvnw5Bg4cWM1JTU8QBBQWlyxL8EZXtsYQEREZQpJC5tSpUwgODoa7u7u4Lzw8HBcvXoRGoylz/Pvvv4/p06fDycmpOmNWixspueL22CeDJUxCRERkfiQpZO7evVtm6La3tzfUajWysrJ09q9btw7p6ekYPXq0XudWqVTIzs7W+anJtpy9I257O9tJmISIiMj8SFLIqNVqnen4AYgtMQ929o2Li8OMGTOwcuXKcjsBP2zevHlwcXERfwICAowX3AR+OlTS0dfJ1uCFyImIiGo9gwsZrVaLb7/9Ft26dUPbtm0BAOfOnUN0dLTe53B3d0daWprOvtTUVNjZ2cHFxQVAyaimIUOGYP78+QYVI9OmTUNWVpb4k5CQoPdnq9vqI/FQqUv6x3zYh3PHEBERGcrgQmbq1KnYvn07pkyZgtTUVACAo6MjJk6cqPc5WrdujatXr+qMQoqKikJ4eDisrEoi7du3D1euXMG4cePg6uoKV1dXrFu3Dp9//jl69epV7rltbW3h7Oys81NTbT2bKG6/3DFIuiBERERmyuDnGZs3b0Z0dDRsbW3FpQtCQ0MRHx+v9zl8fHzQp08fTJ8+HYsXL0ZmZibmzJmDWbNmicc899xzKCgo0PncmDFj0LhxY4uZR+bUzZJCbhznjiEiIqoUg1tkZDIZrK1L6p/Sfi4ajQaFhYUGnWf58uVITEyEr68v2rZti3HjxmHQoEFYu3YtJkyYYGgss3Pxzv1OzUNb+0uYhIiIyHzJhId73T7Ge++9h8LCQnz77bcICwtDbGwsZs6ciatXr2LDhg2myllp2dnZcHFxQVZWVo16zNT2P38hLVcFAIib11fvzsxERES1gb73b4NbZL788ksUFBTAw8MDt2/fhoeHB6KiorB48eIqBa5NUrILxSLmhfYBLGKIiIgqyeAWmYKCAtjb2yMtLQ1xcXGoV68e/Pz8TJWvympii8zYlSew70oKAOD6nGehkEu2UgQREVGNZLIWGT8/P0ycOBHp6elo165djS5iaqrSIqZvcx8WMURERFVg8F309OnTcHV1Rd++ffH0009j48aNUKvVpshmkWJT7y9J8EaXUAmTEBERmT+DC5mgoCDMnDkTMTExmDlzJnbt2oVmzZphxowZpshncX46HCduN61XMx51ERERmasqPddo06YNOnfujKCgIGzcuNFYmSzanuhkAECguwOs+ViJiIioSgy+k6rVamzduhXDhw+HUqnEvn37MGXKFNy4ccMU+SxO6WilwU+wbxEREVFVGTyzb926daFUKvHqq6/ixx9/hJubmylyWaSMvCJxe0S7mr2YJRERkTkwuJDZu3cvWrdubYosFq90tBIA+LnaS5iEiIjIMuhVyGzbtg0DBgwAANy4caPcx0gjRowwXjILdOh6qtQRiIiILIpehcyBAwfEQmbp0qWPPEYmk7GQeYyjsekA2D+GiIjIWPQqZL766itxOzIy0mRhLJ1HHVskZ6vQPthd6ihEREQWweBRSyNHjiyzT6PR4JVXXjFKIEt26W42AEDp4SBxEiIiIstgcCFz4sSJMvuSk5Px559/GiWQpdJo7y9pZa+QS5iEiIjIcug9aiksLAzx8fFQqVRwcNBtUSgqKsLkyZONHs6SrD16U9xu4ssZfYmIiIxB70LmwIEDyMvLQ+fOnXH48GGd99zc3GrMytI11a+nEgAAbg4K2LFFhoiIyCj0LmS8vLzg5eWFJUuWQKlUmjKTRYpPywcAdG3oJXESIiIiy6FXIXP8+HG0b98eAODr64vjx48/8rjSY6is/KKSFcI71feUOAkREZHl0KuQWbhwIdatWwfg0aOWgJJ5ZGJjY42XzMKU9vUNY/8YIiIio9GrkCktYgAgLi7OZGEs1cU7WeJ2iFcdCZMQERFZFoOHXxcUFECj0YivT5w4wUnyHuNOZoG47WBj8PJWREREVA6DC5knnngCt2/fBgBs3boVzz77LN555x18+eWXRg9nKf4XWbI2FR8rERERGVelWmRKRy199tln2LZtG06dOoVVq1YZPZyluJKUAwC4dS9f4iRERESWxeBCxsXFBenp6di3bx9sbGzQqVMn2NnZITs72xT5LELDuk4AgEm9GkqchIiIyLIY3GFj0qRJaNiwIYqLi7Fp0yYAwLVr1+Do6Gj0cJagsFiDC/929q3vzWtERERkTAYXMmPGjEGXLl1gbW2NwMBAAIC9vb1Y1JCuIzHp4nbLAFfpghAREVmgSg2hCQkJwfnz53HhwgWEhISgSZMmxs5lMTLyi8RtF3uFhEmIiIgsj8GFTFJSEgYNGoSbN29CqVTi1q1baNmyJTZu3Mj1lh7hUmJJ36HwYHeJkxAREVkegzv7Tp48GT169MCdO3dw9OhR3LlzB23btsX06dNNkc/snbyZAQDIVaklTkJERGR5DG6RiYqKwtq1ayGTyQCULE3w2WefoWnTpkYPZwnOJmQCADqFekgbhIiIyAIZ3CIjl8vFIubBffn5nCPlYYXF92dA7tvcV8IkRERElsngQqZJkyb47bffdPZt2rQJDRtyjpSHRSfen1unpb+rdEGIiIgslMGPlubPn4/u3btj06ZNaNy4Ma5du4bdu3fjr7/+MkU+s3b57v1CxspKVsGRREREVBkGt8iEhYXh4sWLaN++PVJTU9GiRQucP38erVq1MkE881Y6h4yXk63ESYiIiCyT3i0y+/btw86dO2Fvb4/XXnsNEydONGUui7Djwl0AfKxERERkKnq1yPzyyy8YPXo0FAoFMjMz8dRTTyEmJsbU2cyaIAiQ//s46YX2ARKnISIiskx6tcj897//xZ49e8Qh1n369MGnn36KX375xaThzFmRRguNVgAAtONkeERERCahV4vMvXv3dOaJefbZZ3Hq1CmThbIEyw/HidsOCrmESYiIiCyXXoWMtbVuw41cLkdRUVE5RxMA7L+aKm5byw3uU01ERER60OvRUlJSEvr27fvYfTt37jReMjMXl5YHAHi+HfvHEBERmYpehczSpUvL7Bs5cqTRw1iS1BwVAKCZn4vESYiIiCyXXoVMRESEqXNYlCK1VtwO9XKUMAkREZFlY+cNE/gnJk3cDueIJSIiIpNhIWMC15NzAAANvB25NAEREZEJsZAxgbMJmQCANko3aYMQERFZOBYyJnA7owAA4M01loiIiEyKhYwJlA699mQhQ0REZFKVKmS2bduGV155BUOGDAEAxMbG4s6dO0YNZs5yCtUAgAbeThInISIismwGFzL//e9/8emnn6Jt27Y4ceIEACA7Oxvvvvuu0cOZo2LN/aHXgR4OEiYhIiKyfAYXMj/99BP279+P8ePHi0sXtGrVChcvXjR6OHP04Bwy7g42EiYhIiKyfAYXMmq1Gq6urmX2FxYWGiOP2UvKvn8dFHIOvSYiIjIlgwuZJ598Ep9//jkAQCYruVEvW7YMzZo1M24yM7XmyE1xW845ZIiIiExKryUKHrRo0SIMHjwYq1atQlJSElq3bo3CwkJs377dFPnMzuEbJbP6dgr1EAs9IiIiMg2DCxk3Nzfs378fJ0+eRFxcHOrVq4fw8HCxv0xtdzsjHwDQuYGXxEmIiIgsX6Wrj7Zt26Jt27bGzGIR7BVyFBZrEeJVR+ooREREFs/gQqZJkyblPjK5dOlSlQOZs2KNFhn5xQCAEE8WMkRERKZmcCHz/fff67xOT0/HsmXL0K1bN2NlMluX72aL20oPFjJERESmZvCopa5du+r8DBkyBFu3bsWhQ4cMOk9BQQHGjRsHpVIJf39/fPjhhxAEQeeY4uJizJo1C82bN0dAQAA6d+6Ms2fPGhq52py+mSFu21hz9QciIiJTM8rd1sbGBvn5+QZ9ZvLkydBqtYiJiUF0dDQiIyOxZMkSnWOuXbsGtVqNo0ePIiEhAaNGjUL//v1RXFxsjNhGN+/PKwAAfzd7iZMQERHVDjLh4WaQx0hJSdF5nZubiy1btmDTpk34559/9DpHbm4u6tati4SEBLi7uwMANm/ejNmzZ+PMmTMVftbd3R2HDx9GWFiYXt+VnZ0NFxcXZGVlwdnZWa/PVFbQ1B0AgMY+Ttj1fheTfhcREZEl0/f+bXAfGR8fH8hkMvExkKOjI9q1a4effvpJ73OcOnUKwcHBYhEDAOHh4bh48SI0Gg3kcvkjP5efn4/8/Hy4uLiUe26VSgWVSiW+zs7OLvdYY3qwHpw7pHm1fCcREVFtZ3Aho9VqH3/QY9y9exd169bV2eft7Q21Wo2srCydAudBM2bMQLdu3eDn51fuuefNmyfOPFydsgvU4najulz1moiIqDoY1EdGEAQ0atSoyl+qVqvLdOzVaDQA8Mih3Xl5eYiIiMCBAwewZs2aCs89bdo0ZGVliT8JCQlVzquPQrVG3HaweXSLEhERERmXQYWMTCaDp6cnUlNTq/Sl7u7uSEtL09mXmpoKOzu7Mo+NYmJi0K5dOygUChw+fBheXhXPmGtrawtnZ2edn+pw6d+h13IrGZcmICIiqiYGP1oaMmQInn32WQwfPhxKpRJWVvdroREjRuh1jtatW+Pq1avIyMiAm5sbACAqKgrh4eE658vMzET37t3x8ccf4/XXXzc0arWKT8sDADjZcakGIiKi6qLXXTc9PR0eHh4AgO3bt8PJyQm7du3SOUYmk+ldyPj4+KBPnz6YPn06Fi9ejMzMTMyZMwezZs3SOe7XX39F48aNa3wRAwAxqbkAAB9nO4mTEBER1R56FTLt2rVDbGwsACAyMtIoX7x8+XKMHTsWvr6+qFOnDj744AMMGjQIa9euxYkTJ7Bo0SJcv34dR44cQVBQkM5nZ8yYUeOKm4Kikk7QznYKiZMQERHVHnrNIxMcHIy4uLjqyGN01TWPzIjvj+B4/D283jkYM/rpN8cNERERPZpR55FRqVQ4ceJEmZFGD2vfvr1hKS3I+TuZAABXBxtpgxAREdUiehUyqampGDlyZIWFjEwmEx8/1WbN/cqfrI+IiIiMS69Cxt/fn0VKBdQaLQqLS/rIsJAhIiKqPlyi2QhSc+8viVDHlsOviYiIqotehcxTTz1l6hxm7WhsurhtY83akIiIqLroddd93LIAtd2NlFypIxAREdVKbD4wgpTskkdLbZRuEichIiKqXVjIGMGvp24DAJrVq551nYiIiKgECxkjsFOUXMam9ThiiYiIqDqxkDGCYk3J/DpdGla8MjcREREZFwuZKhIEARptSSFjLZdJnIaIiKh2YSFTRXlFGnHbTiGXMAkREVHtw0KmivJUanHbkZPhERERVSsWMlVU+liJE+ERERFVP959q6i0kJHL2D+GiIiourGQqaJiTclikdZWLGSIiIiqGwuZKvrzYhIAwIqFDBERUbVjIVNF9/KKAABZBcUSJyEiIqp9WMhU0YbjtwAAI9r6S5yEiIio9mEhU0X/9vVFHQ69JiIiqnYsZKqooLhkQry+zX0lTkJERFT7sJCpotIFI32c7SROQkREVPuwkKmiwuKS4dcKOS8lERFRdePdtwryi+4vT8AFI4mIiKofC5kqSMwsELc96thImISIiKh2YiFTBdmFJS0yXk62kHGJAiIiomrHQqYKMvNLJsNLzVFJnISIiKh2YiFTBcK/c8gEujtIG4SIiKiWYiFTBYlZhQAAbydbiZMQERHVTixkqiA2NRcAkJRdKHESIiKi2omFTBVcuJ0FgI+WiIiIpMJCpgq8/n2k5OPCWX2JiIikwEKmCoo1Jb192wW5S5yEiIiodmIhUwXpeSXDruVWnEOGiIhICixkquDMrUwAgDULGSIiIkmwkKmkwmINSuuXEC9HacMQERHVUixkKiktVwXtvxPitfR3kTYMERFRLcVCppJO//tYCQDXWSIiIpIIC5lKyleppY5ARERU67GQqST1v8+VnmlaV+IkREREtRcLmUrS/FvIWFvxEhIREUmFd+FKKi1krDj0moiISDIsZCrpYmLJOkusY4iIiKTDQqaSvJ1K1ldKyuLK10RERFJhIVNJao0WANAq0FXaIERERLWYtdQBzNXV5BwAXJ6AyBJpNBoUFxdLHYPIosnlclhbW1d5LjYWMpVkp5ADADLy+ZcdkSXJzc3F7du3IQiC1FGILJ6DgwN8fX1hY2NT6XOwkKmk0paYYI86EichImPRaDS4ffs2HBwc4OXlxVm7iUxEEAQUFRUhNTUVcXFxaNCgAawqOZ0JC5lKikvLAwA42vESElmK4uJiCIIALy8v2NvbSx2HyKLZ29tDoVDg5s2bKCoqgp2dXaXOw86+lVRQrAEAqP79JxFZDrbEEFWPyrbC6JzDCDlqJVeHkud5nk62EichIiKqvVjIVFJpR0AHG7nESYiIiGovFjKVpP23kGETNBHVBHl5efj888/RokULBAcHw9PTEy1btsTmzZvL/cyVK1fQr1+/Ckdo2dnZIT4+HkBJZ+h58+ahefPmCAoKgru7O6ZMmWLsX6VCK1euRJ8+fR573L59+9CnTx8EBQXB398fgYGB+PHHH/HNN9+gQ4cOj/zM119/jZ49e1Z43hUrVmD8+PE6+1JSUmBjY4PFixeXOb5bt27YsGFDmf2fffYZ3nzzTZ19169fR0REBEJDQxEYGAgfHx+MGzfucb9qpRQUFGDcuHFQKpXw9/fHhx9+WO6fgy1btqBp06YIDAxE+/btcfjwYfG93377Dba2tggKChJ/Nm7cCAAYP348li5dapL8D2JP1Uoq/fdtxUKGiCSWlpaGHj16YODAgTh06BBcXFyg1Wpx7NgxpKWllfu5xo0bY8eOHXp/z8cff4yEhAQcOXIEjo6OKCwsxNmzZ43wGxjXwoULsWrVKixdulQsWtLT03Hz5k3Uq1cPH374IWJjYxESEqLzuTVr1mDy5Mnlnjc9PR0LFizAqVOndPavXr0azZo1w4oVK/Duu+9WKvPhw4cxatQofPnll/jpp5+gUCigUqlw7NixSp3vcSZPngytVouYmBjk5eWhZ8+eWLJkSZn8cXFxGD16NP7++2+0bdsWe/fuxYABAxAXFwcXFxcAQIcOHXDgwIEy37FgwQK0aNEC/fr1Q2BgoEl+D4AtMpX275qRYBlDZLkEQUB+kVqSH0PmsXnttdcwcuRIzJo1S7y5WFlZoWPHjujfv/8jP6PVag2+Hjt27EBERAQcHR0BlLTWlNe6UVmCIFRpDp9Tp05hwYIF2Ldvn042Dw8PtG7dGj4+PujZsyfWr1+v87lLly4hJiYGQ4YMKffcP/zwA1577bUyI9pWrFiBb7/9FsnJyTh9+rTBmfPz8zFy5EisW7cOI0aMgEKhAADY2tqiS5cuBp/vcXJzc7Fq1Sp8+eWXsLa2houLC6ZNm4YVK1aUOfbChQto2LAh2rZtCwDo1asXHBwccP36dfEYV1fXR36Pvb093nrrLXz11VdG/x0exBaZSir9D40tMkSWq6BYg7BPd0vy3ZdmPQMHm8f/FR0fH4/IyEixOb+i4xo3bowVK1bg008/xYgRI9C7d2+8+eabuHLlCgAgNTUV7733Hv755x/I5XJMmDBB5xzNmjXDvHnz0KpVK3h5eZX5jgsXLuC9995DXFwcnJ2d8eWXX4qPgf766y98/PHHuHv3LgDgnXfeER9LffbZZ0hISEBBQQH279+PPXv2IDg4GDNnzsT27duRm5uLoKAgnUcaX3zxBVauXIl79+7hhRdewKJFiwAA3333Hd566y24u7uXey1efvllzJ07FzNmzBD3rVmzBsOGDYODg0O5n9u6dSt+++03nX1HjhyBVqvFU089hdGjR2P58uVo3bp1ued4lN9++w1hYWHo1KmTQZ+rrFOnTiE4OFjnGoWHh+PixYvQaDSQy+/3/ezcuTNSUlKwd+9e9OrVC+vXr4e7uztatGghHlNeIQMAw4YNw5NPPin++zEFyVpk9H0+d+bMGXTo0AFKpRJhYWHYu3evBGnLKo3KOoaIpHT69Gm0bNkStraPH0GpVqtx/vx5XL9+Hf/5z3/KvD948GAEBwcjLi4O165dw7Vr16BSqcT3Fy9eDIVCgdDQUMycORM5OTnie6mpqejVqxc++ugjxMfHY+3atRg1ahQSExMBlLQ6rF27Fjdv3sShQ4cwe/ZssYACgG3btmH8+PFITExEWFgYnn/+eWRkZOD06dO4ffs2fvjhB/HYw4cPw9PTE1euXMHJkyexZs0a7NmzBwBw8uRJhIeHV3gdBg0ahFu3buH8+fMASv7HdN26dYiIiCj3MxqNBikpKQgICNDZv2LFCvFzY8aMwbp161BYaNhiwvpkLi/Tg31THvxZuHBhuZ+7e/cu6tatq7PP29sbarUaWVlZOvvd3NywYMEC9O7dG46OjoiIiMCyZct0ZuLdsmULAgMD0aZNGyxevFjnXl76SOn27dsG/376kqxFRp/nczk5Oejfvz9WrlyJnj174sCBAxg4cCCuXLkCHx8fqaIDeLCzr6QxiMiE7BVyXJr1jGTfrY+ioqIyc3FMnToVGzZsQFFRETp16iS2Img0GkyYMAEymazMQIXTp08jLi4OBw4cgFwuh1wux3//+1+dAsLDwwO7d+/G1q1bMX36dKxYsQJbtmxBmzZtsGrVKjzzzDNiC0yLFi3QrVs37N69G6+88goGDBgArVaL69ev48aNG/Dy8sKlS5fQuHFjAEDr1q3x5JNPAgCio6Nx/PhxJCQkiDfMpk2bijmCgoLw2muvASi5Ufbu3Rvnzp1D7969oVKpoNFUPL+Xg4MDhg4dinXr1qFFixY4ePAg5HJ5hY9x7t27B09PT519eXl5+O2333Dx4kUAJX2OmjRpgk2bNuGll16qMANwf7CIPpkfRS6Xix2xDaFWl310Wfr9D/+5OH78OKZPn44zZ86gZcuW2LdvH4YOHYrDhw8jKCgIQ4cOxbBhwwCUtMg9//zzEAQB7733nngOHx8fJCcnw9/f3+Cs+pCkRUbf53Pr169Hu3btxF7kXbt2RZcuXR7bhFodxEKGvWSILJZMJoODjbUkP/qOiKxfvz4uX76sc2P64osvEB8fj7lz5yI3N1fcr1Ao4Ovr+8jzxMTEoEGDBjqPFerUqSP213jQwIEDcf78eQwbNgwjR44EAMTGxmLbtm06rQKHDh0SOxsvWLAATZo0wdSpU7Fv3z5xivpSSqVS3L569SoaNWpU7vo7D98QXV1dkZdXMtt6aGgooqOjH32xHvDyyy9jw4YNEAQBa9aswejRoyu85lqttkzB+OuvvyI7OxuhoaGws7ODnZ0dTpw4oXMvc3FxQXZ2dpnz5eXloU6dOgZlNhZ3d/cyncBTU1NhZ2cn9rEqtWjRIowfPx6tWrWCTCZDz549MXjwYCxbtgyAbuHTvHlzfPrpp/j11191ziGTySpVqOlLkkLmcc/nSh05ckSs0B88rqJe8iqVCtnZ2To/plD6VwYXvyYiKbVu3Rru7u5Yt27dY4+taBZVT09PJCQk6OxLTEzUebT0ILlcjk8//RQxMTHIz89HvXr1EBERgfj4ePEnOTkZU6ZMQUxMDObOnYuTJ09i06ZNWLBggdhh+FHZfH19ER8fX6kOyS+88AK+/fZbFBQUVHhct27doNFoEBkZic2bN2P06NEVHu/h4VHm5r9ixQrxUVLpT3p6Oo4ePYq4uDgAJYXmozoAnz9/XmxlGjZsGPbs2YMLFy4Y8qtW+tFS69atcfXqVWRkZIj7oqKiEB4eXubPSFFREaytdR/eKBQKnSL0QWq1ukwBmpycDG9vb4N+N0NIUsjo+3yuvOPS09PLPfe8efPg4uIi/jz8PNNYbORWsLW2gpyVDBFJyMrKCqtWrcIHH3yAFStWiIWHWq1GbGys3ufp0KEDiouL8dVXX0EQBOTl5eHDDz/UaaFZuHCh2OdFEARs2LABHTp0gIODA55//nmsX79eHC6s1Wqxbds2qNVqFBUVQa1Wi/9juXr1aly9erXcLOHh4fDw8MC0adNQXFwMoKQfiT5GjRqFJ554AoMGDcKNGzfE/bdu3dLpLGxlZYWXXnoJU6dORbNmzcoMxX5Y6dODpKQkACVzvpw6dQrPPfecznHOzs7o16+f2Cozbtw4/PLLL/jjjz/E67Zq1SpcuHABQ4cOBQCEhIRg7ty5GDRoEA4cOCC2rmVnZ2P79u3lZip9tPSon/fff7/cz/n4+KBPnz6YPn061Go10tLSMGfOnEd+Zvjw4Vi8eDFu3boFADh79ixWr16NwYMHAwAOHjwotobduHEDs2fPxqhRo8TP3717FyqVCkFBQeXmqSpJChl9n8+Vd1xFzX/Tpk1DVlaW+PPw/2EYy673u+Dqf55F26Dye8YTEVWH9u3bY//+/di3bx8aNGiA4OBghIWF4eLFixXOi/Ige3t7/PHHH9i8eTPq1auHTp064aWXXtJZyO/KlSsIDw9HQEAAwsLCcOzYMWzatAlAScvDmjVr8NZbbyEwMBCNGjXC7t27YWVlhSZNmmDixIlo164dQkNDce3aNXTs2LHcLNbW1tixYwdu3bqFkJAQBAcHY8GCBXr9HjKZDL/++it69eqFQYMGITAwEIGBgRgyZEiZFpWXX34ZJ06cqLCT74P69+8vTjC4YsUKPPPMM+LjoQeNGjUKK1euhFarRaNGjbBt2zbMmzcPfn5+8PPzw2+//Ya///4bzs7O4mcmTZqEb775Bp988gn8/f0RFBSEdu3amWyenuXLlyMxMRG+vr5o27Ytxo0bh0GDBgEA1q5dK45YGzFiBD788EP06dMHSqUSY8aMwY8//iiOsPr7778REhKCwMBADBo0CJMmTcIrr7wifs/mzZvF85qKTKjKgP1K2rlzJ6ZOnSr2GAeAhIQENGzYEHl5eWLT1ogRI9ChQwdMmjRJPG727NllerBXJDs7Gy4uLsjKytL5Q0NE9LDCwkLExcUhODi40ivxkuVKSUlBjx49cOrUqXL779B9KpUKLVu2xM6dO8tt8arovzl979+StMjo+3yuTZs2iIqK0vlsVFRUhZU8ERGRKXh7e2PChAn46KOPpI5iFj766CO88847j31sV1WStMgAJb3e69Wrh8WLFyMzMxPdu3fHrFmzdJqgbt++jebNm2PTpk3o3r07du7cibfffhvR0dGPbM57FLbIEJG+2CJDVL3MtkUGKP/53IPP5vz9/bFhwwa8/fbb8Pb2xn/+8x/88ccfehcxREREZNkka5GpLmyRISJ9sUWGqHqZdYsMEVFNZeH/f0dUYxjjvzUWMkRE/yqdM6W8yb6IyLjy8/MB4JEzSOuLq18TEf3L2toaDg4OSE1NhUKhqHAmXCKqPEEQkJ+fj5SUFLi6uupMvGgoFjJERP+SyWTw9fVFXFwcbt68KXUcIovn6upa5UWgWcgQET3AxsYGDRo04OMlIhNTKBRVaokpxUKGiOghVlZWHLVEZCb4AJiIiIjMFgsZIiIiMlssZIiIiMhsWXwfmdLJdrKzsyVOQkRERPoqvW8/btI8iy9kcnJyAAABAQESJyEiIiJD5eTkwMXFpdz3LX6tJa1Wi8TERDg5OUEmkxntvNnZ2QgICEBCQgLXcDIhXufqw2tdPXidqwevc/Uw5XUWBAE5OTmoV69ehZNTWnyLjJWVFfz9/U12fmdnZ/5HUg14nasPr3X14HWuHrzO1cNU17milphS7OxLREREZouFDBEREZktFjKVZGtri5kzZ8LW1lbqKBaN17n68FpXD17n6sHrXD1qwnW2+M6+REREZLnYIkNERERmi4UMERERmS0WMkRERGS2WMg8RkFBAcaNGwelUgl/f398+OGHj5wu+cyZM+jQoQOUSiXCwsKwd+9eCdKaL32uc3FxMWbNmoXmzZsjICAAnTt3xtmzZ6UJbKb0/fNcKi8vD15eXvjiiy+qMaX50/c6C4KAr7/+Go0aNUJgYCDq16+P4uJiCRKbJ32v85YtW9C0aVMEBgaiffv2OHz4sARpzZsgCFi9ejU6duxY7jGS3QcFqtBbb70ljB07ViguLhYyMzOFtm3bCt9++63OMdnZ2YKfn5+wd+9eQRAEYf/+/YKLi4tw9+5dKSKbJX2u88WLF4VPPvlEyM3NFQRBEL7//nvB399fKCoqkiKyWdLnOj9o/vz5glwuF+bNm1eNKc2fvtd59uzZQteuXYXk5GRBEAThzp07gkajqe64Zkuf6xwbGys4OTkJJ06cEARBEPbs2SO4ubkJmZmZUkQ2S3/++afQrFkzITQ0VGjUqNEjj5HyPshCpgI5OTmCg4ODkJ6eLu7btGmT0KpVK53jfvjhB2HQoEE6+/r37y8sXLiwWnKaO32v86O4ubkJ0dHRpoxnMQy9znfu3BEaNmwoDBkyhIWMAfS9zikpKUKdOnWEW7duVXdEi6Dvdd66davQpk0bnX1+fn5iYUOP99tvvwk7duwQIiMjyy1kpLwP8tFSBU6dOoXg4GC4u7uL+8LDw3Hx4kVoNBpx35EjR/Dkk0/qfDY8PJyPPfSk73V+WH5+PvLz8/WawpoMv87vv/8+pk+fDicnp+qMafb0vc7bt2/HU089xQVtK0nf69y5c2ekpKSIjznWr18Pd3d3tGjRotozm6uhQ4eib9++FR4j5X2QhUwF7t69i7p16+rs8/b2hlqtRlZW1mOPS09Pr5ac5k7f6/ywGTNmoFu3bvDz8zN1RItgyHVet24d0tPTMXr06OqMaBH0vc4XLlyAUqnEG2+8geDgYLRq1QqrV6+u7rhmS9/r7ObmhgULFqB3795wdHREREQEli1bBhsbm+qObNGkvA+ykKmAWq0u03GstNJ/cCXt8o4z5mrblkzf61wqLy8PEREROHDgANasWVMtGS2Bvtc5Li4OM2bMwMqVK/lnuBL0vc45OTn4448/MHz4cMTGxmLlypX44IMPcODAgWrNa670vc7Hjx/H9OnTcebMGeTk5GDnzp0YOnQo4uPjqzOuxZPyPshCpgLu7u5IS0vT2Zeamgo7OzudxxnlHefj41MtOc2dvtcZAGJiYtCuXTsoFAocPnwYXl5e1RnVrOlznQsKCjBkyBDMnz+fjzwqSd8/z56enujTpw969uwJmUyGVq1aYdSoUdi2bVt1RzZL+l7nRYsWYfz48WjVqhVkMhl69uyJwYMHY9myZdUd2aJJeR9kIVOB1q1b4+rVq8jIyBD3RUVFITw8HFZW9y9dmzZtEBUVpfPZqKioCoep0X36XufMzEx0794dEydOxE8//QQHBwcp4potfa7zvn37cOXKFYwbNw6urq5wdXXFunXr8Pnnn6NXr15SRTcr+v55DgsLQ05Ojs5nraysYGdnV21ZzZm+17moqAjW1tY6n1UoFCgqKqq2rLWBpPdBk3cnNnMDBgwQ3nzzTaG4uFhITU0VmjdvLvz+++86xyQkJAiurq7Cvn37BEEQhB07dghKpVIcJkyPp891/vHHH4XevXtLE9BC6HOdHxYREcFRSwbS5zrn5+cLvr6+4nDVS5cuCb6+vsK5c+ckSGye9LnOGzduFBo0aCDcvHlTEARBOHPmjODh4SH8888/EiQ2bxWNWpLyPshC5jFSU1OFAQMGCJ6enoJSqRQWL14sCIIgrFmzRnjvvffE43bt2iU0atRI8PLyEjp27CicP39eqshmSZ/rPGXKFMHJyUlQKpU6Pz/++KOU0c2Kvn+eH8RCxnD6XueoqCihVatWgp+fn9CqVSth586dUkU2S/pe52XLlglNmjQRAgMDhZYtWwqbNm2SKrJZe7iQqSn3Qa5+TURERGaLfWSIiIjIbLGQISIiIrPFQoaIiIjMFgsZIiIiMlssZIiIiMhssZAhIiIis8VChoiIiMwWCxkiIiIyWyxkqNYbM2YM3NzcEBQUJP5s3Lixws/Ex8ebZE2c/fv3Q6FQICgoCAEBAWjcuDG++eabKp930qRJ2LJlS7nvL1iwAP/73/+q/D0Pi4+Ph0wmQ1BQEJRKJYKDg/Hpp59Cq9Ua/bsqcunSJXTq1AlFRUUWd41XrlyJPn366HVst27dsGHDhkp9T2X+zAuCgNWrV+ust1NUVISOHTvi7NmzlcpB9DDrxx9CZPk++ugjTJ06VeoYAIDQ0FBcuXIFAHDz5k3069cPTk5OeO211yp9zq+//lrndVhYGCIjI1G3bl0AwAcffFD5wI9ha2uL+Ph4AEBaWhr69OkDHx8fvP3224/97Pnz5zFhwgRERkZWKcO4ceOwdOlS2NjYALC8a1wT7dq1C1OmTEFBQYHOoo02Njb44YcfMGrUKJw7dw4ymUzClGQJ2CJDVIMplUqMHz8eO3bsMOp5L1++DClWJ/H09MTrr7+OPXv26HX8vXv3cPfu3Sp9Z1RUFNzd3dGyZctHvm9p17imyMvLw/z58/HTTz+Vea9FixYICgqqsAWLSF8sZIjKkZ6ejhdffBFKpRIBAQHo378/0tPTH3nsjh070KZNGwQFBSE4OBixsbEAgIKCArz33nuoX78+QkJCMGXKFKjVaoNy5Obmwt7eHgBw+/ZtvPDCC2jQoAECAwPRr18/XLt27bE5Sh8pnDx5EkFBQQCAdu3aiU3+Y8aMwRdffIHk5GTY2dkhKSlJ5/tdXFxw69YtaDQafP7552jUqBGCg4Px6quvIjc316DfJysrC46OjuLr9evXo2XLlggMDERoaCjWrl0LAFiyZAmef/55xMTEICgoCBMnTgQA3Lp1CwMGDEBwcDAaN26M1atXV/h9W7ZswfDhwys8xpKu8bfffosmTZpAqVQiLCwMu3fv1nk/IyMDI0eOhFKpREhICBYtWqTz/tKlSxEWFoagoCAMHjwYKSkpZb6juLgYPXr0QHR0dLk5hg4dir59+5b7/rBhw7Bp0ya9fy+iclXL0pRENVh5qzvHx8cLv//+u6BWqwW1Wi0MGjRImDp1qiAIghAXFyfY2toKgiAIeXl5gp2dnXD16lVBEAQhKSlJyMzMFARBEEaNGiW8+uqrgkqlEvLz84UePXoI33zzTblZHlxdVqPRCIcOHRICAgKEf/75RygoKBAaNmwoLFiwQNBoNIJWqxWWLl0qKJVKIS8vr8IcXbt2FdavXy9+DwDh7t27j7wGAwcOFL7++mvxvZ9//lno37+/IAiC8PHHHwvPPvuskJ2dLajVauHll18WJkyYUO7v8+B1EgRBOHfunBAcHCwcPnxY3Ldu3TohMTFREARBOHHihGBvby/mfni13cLCQqFBgwbCTz/9JAiCINy8eVPw8/MTTp8+XW6Gbt26CTdu3LDYa/zzzz8LzzzzjPh6+fLlQkZGhiAIgrBp0ybBx8dHfK9r165CgwYNxOt17do1wc/PT9i2bZsgCILw008/CW3atBGSkpIEQRCEGTNmCAMHDhQEoey/S309/O+w1I0bN4TQ0FCDz0f0MBYyVOtFREQIrq6uglKpFH9SUlLE95OTk4XDhw8Lr776qnizefAv9fz8fMHJyUlYu3atoNVqxc+lpKQI9vb2Ql5enrjvjz/+ELp06VJulsjISMHa2lpQKpVCSEiI0L9/f+HEiROCIJTclNq3b1/mM23bthV+//33cnMIgmE32W3btglt2rTR+eyOHTsErVYrODo6CjExMeJ7Fy5cEAIDA8v9feLi4gQAglKpFFxcXARfX1/h5MmTZY4rKioSoqOjhW3btglOTk7CqVOnxOvx4E3w119/LXP9Jk+eLHz66aflZggLCxNyc3PF15Z2jR8uZARBEAoKCoRz584J69evFwAI6enp4vfMnTtX59h58+YJo0ePFgRBEJo2bSr8/fff4nvZ2dmCtbW1UFRUZPRCJjc3V3B0dDT4fEQPY2dfIjy6s+/p06fx+uuvw8XFBQ0bNkRGRgaKiorKfNbe3h779u3DtGnTMHPmTEydOhWvvfYa4uLiUFxcjLCwMPFYjUYDT0/PCrM82BH1QTExMWjcuHGZ/SEhIUhISCg3h6H69u2LN954A1euXIGtrS0SEhLQp08fpKamIjc3F927dxePFQThsY89Sjv7ZmVl4fnnn8eqVavQpk0b8f1JkyZh165dYr8Ja2vrR15nAIiNjcXp06fFRzcAoFKpMGzYsHK/X6vVwspK9ym6pV3jUkVFRXj11Vdx/vx58XqW7i8VHBys8xlvb28cPnwYQMn1HT16NORyufi+o6PjIx8vVZVMJoNGozH6ean2YSFDVI73338fEydOxKhRowCUjEopr5Nqu3bt8Ndff+HChQsYPHgwnJyc8OSTT8LR0RFxcXFGGZkREBCA33//vcz+uLg4jB49utwcI0eONOh75HI5IiIi8Msvv0Aul+O1116DlZUVPD09YWtrizNnzsDNzc3g/C4uLli3bh3CwsIwcOBA9OjRA3///Td27tyJixcvwtraGoIgYOnSpeWeo169eujRo4dBnUS9vLyQkpICpVL52GPN/RqvXbsWSUlJOH/+PICSztJz5szROebhfl6XLl1CaGgogJLr+9tvv6FVq1Zlzl068sxYkpOT4e3tbdRzUu3Ezr5E5VCpVMjIyABQ8pf4smXLHnlcRkYGTp48CaBkyG1wcDByc3Ph7++P1q1bY+bMmWIH3xs3blR6/oznnnsOd+7cwcKFC6HVaiEIApYtW4aCggL06tWr3ByP4ubmhpiYmHI7Hr/66qvYtGkT/vjjD4wdOxYAYGVlhZdeegkffPABCgoKAACJiYmIiorS+3dwc3PDV199hXHjxiE/Px8qlQoqlQr5+fkQBAFz584Vzw0A7u7uSEpKQn5+PtRqNfr164djx45h+/bt4jEHDx5EWlpaud/Zpk0bHDlyRK985n6NS6+lSqWCWq3GZ599VuaYxYsXIy4uDgBw7NgxrFy5Em+++SYAICIiAjNmzBD/3GdkZGDfvn16fbehjh49ivDwcJOcm2oXFjJE5fjqq6/w/fffIzAwEK+//rrYMvOw4uJivP766/Dx8UFYWBiaN2+OiIgIAMC6detw9epVBAcHo379+njzzTd1mu0N4ejoiL///hv79+9HUFAQGjRogMjISOzevRs2NjYV5njYzJkzMWTIkHInUmvQoAG8vLzQsGFDnf9rXrhwIRQKBRo1aoTQ0FAMGzYMxcXFBv0eL774IkJCQvDJJ5/gmWeeQa9evdCwYUM0atQIrq6uqFevnnhs8+bN8eyzz6J+/fr45JNP4Obmhu3bt2P+/Pnw9/dHgwYNsGzZMigUinK/b8CAAdi8ebNe2cz9GkdERMDHxwdBQUFo0aIFunbtWuaYl156CS+99BICAgLw9ttvY/369WjSpAkAYOrUqWjZsiXatGmDkJAQ9OjRA1lZWWXOoc+opcfZvHkzBg8eXOnPE5WSCUItnuiAiGqFDh06YOXKlY/s/0LV7/Llyxg2bBjOnz9f6cKeqBRbZIjI4i1btgxvvPGGwa1HZHzFxcUYN24cVq9ezSKGjIItMkRERGS22CJDREREZouFDBEREZktFjJERERktljIEBERkdliIUNERERmi4UMERERmS0WMkRERGS2WMgQERGR2WIhQ0RERGbr/wE3lR2ERSb7rgAAAABJRU5ErkJggg==",
      "text/plain": [
       "<Figure size 640x480 with 1 Axes>"
      ]
     },
     "metadata": {},
     "output_type": "display_data"
    }
   ],
   "source": [
    "from sklearn.metrics import RocCurveDisplay\n",
    "\n",
    "RocCurveDisplay.from_estimator(grid, X, y)"
   ]
  },
  {
   "cell_type": "code",
   "execution_count": 12,
   "metadata": {},
   "outputs": [
    {
     "data": {
      "text/plain": [
       "<sklearn.metrics._plot.roc_curve.RocCurveDisplay at 0x19dbb4f4880>"
      ]
     },
     "execution_count": 12,
     "metadata": {},
     "output_type": "execute_result"
    },
    {
     "data": {
      "image/png": "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",
      "text/plain": [
       "<Figure size 640x480 with 1 Axes>"
      ]
     },
     "metadata": {},
     "output_type": "display_data"
    }
   ],
   "source": [
    "from sklearn.metrics import RocCurveDisplay\n",
    "\n",
    "RocCurveDisplay.from_estimator(grid, X, y)"
   ]
  },
  {
   "cell_type": "markdown",
   "metadata": {},
   "source": [
    "# 저장"
   ]
  },
  {
   "cell_type": "code",
   "execution_count": 11,
   "metadata": {},
   "outputs": [
    {
     "data": {
      "text/html": [
       "<div>\n",
       "<style scoped>\n",
       "    .dataframe tbody tr th:only-of-type {\n",
       "        vertical-align: middle;\n",
       "    }\n",
       "\n",
       "    .dataframe tbody tr th {\n",
       "        vertical-align: top;\n",
       "    }\n",
       "\n",
       "    .dataframe thead th {\n",
       "        text-align: right;\n",
       "    }\n",
       "</style>\n",
       "<table border=\"1\" class=\"dataframe\">\n",
       "  <thead>\n",
       "    <tr style=\"text-align: right;\">\n",
       "      <th></th>\n",
       "      <th>Model</th>\n",
       "      <th>Best Score</th>\n",
       "      <th>Best Parameter</th>\n",
       "    </tr>\n",
       "  </thead>\n",
       "  <tbody>\n",
       "    <tr>\n",
       "      <th>0</th>\n",
       "      <td>KNN</td>\n",
       "      <td>0.768374</td>\n",
       "      <td>{'clf__n_neighbors': 20, 'clf__p': 2, 'clf__we...</td>\n",
       "    </tr>\n",
       "    <tr>\n",
       "      <th>1</th>\n",
       "      <td>ANN</td>\n",
       "      <td>0.745668</td>\n",
       "      <td>{'clf__activation': 'relu', 'clf__alpha': 0.1,...</td>\n",
       "    </tr>\n",
       "    <tr>\n",
       "      <th>2</th>\n",
       "      <td>DNN</td>\n",
       "      <td>0.784456</td>\n",
       "      <td>{'clf__batch_size': 128, 'clf__epochs': 50, 'c...</td>\n",
       "    </tr>\n",
       "    <tr>\n",
       "      <th>3</th>\n",
       "      <td>Tree</td>\n",
       "      <td>0.714525</td>\n",
       "      <td>{'clf__max_depth': 3, 'clf__max_leaf_nodes': 3...</td>\n",
       "    </tr>\n",
       "    <tr>\n",
       "      <th>4</th>\n",
       "      <td>Logit</td>\n",
       "      <td>0.787949</td>\n",
       "      <td>{'clf__C': 0.1, 'clf__class_weight': 'balanced...</td>\n",
       "    </tr>\n",
       "  </tbody>\n",
       "</table>\n",
       "</div>"
      ],
      "text/plain": [
       "   Model  Best Score                                     Best Parameter\n",
       "0    KNN    0.768374  {'clf__n_neighbors': 20, 'clf__p': 2, 'clf__we...\n",
       "1    ANN    0.745668  {'clf__activation': 'relu', 'clf__alpha': 0.1,...\n",
       "2    DNN    0.784456  {'clf__batch_size': 128, 'clf__epochs': 50, 'c...\n",
<<<<<<< HEAD
       "3   Tree    0.714525  {'clf__max_depth': 3, 'clf__max_leaf_nodes': 3...\n",
=======
       "3   Tree    0.692843                              {'clf__max_depth': 4}\n",
>>>>>>> 746cb365aed1a0dbd57abe7889e2f28c78b8dc40
       "4  Logit    0.787949  {'clf__C': 0.1, 'clf__class_weight': 'balanced..."
      ]
     },
     "execution_count": 11,
     "metadata": {},
     "output_type": "execute_result"
    }
   ],
   "source": [
    "result = pd.read_csv('../csv/model_results.csv')\n",
    "result.head()"
   ]
  },
  {
   "cell_type": "code",
   "execution_count": 12,
   "metadata": {},
   "outputs": [
    {
     "data": {
      "text/html": [
       "<div>\n",
       "<style scoped>\n",
       "    .dataframe tbody tr th:only-of-type {\n",
       "        vertical-align: middle;\n",
       "    }\n",
       "\n",
       "    .dataframe tbody tr th {\n",
       "        vertical-align: top;\n",
       "    }\n",
       "\n",
       "    .dataframe thead th {\n",
       "        text-align: right;\n",
       "    }\n",
       "</style>\n",
       "<table border=\"1\" class=\"dataframe\">\n",
       "  <thead>\n",
       "    <tr style=\"text-align: right;\">\n",
       "      <th></th>\n",
       "      <th>Model</th>\n",
       "      <th>Best Score</th>\n",
       "      <th>Best Parameter</th>\n",
       "    </tr>\n",
       "  </thead>\n",
       "  <tbody>\n",
       "    <tr>\n",
       "      <th>0</th>\n",
       "      <td>KNN</td>\n",
       "      <td>0.768374</td>\n",
       "      <td>{'clf__n_neighbors': 20, 'clf__p': 2, 'clf__we...</td>\n",
       "    </tr>\n",
       "    <tr>\n",
       "      <th>1</th>\n",
       "      <td>ANN</td>\n",
       "      <td>0.745668</td>\n",
       "      <td>{'clf__activation': 'relu', 'clf__alpha': 0.1,...</td>\n",
       "    </tr>\n",
       "    <tr>\n",
       "      <th>2</th>\n",
       "      <td>DNN</td>\n",
       "      <td>0.784456</td>\n",
       "      <td>{'clf__batch_size': 128, 'clf__epochs': 50, 'c...</td>\n",
       "    </tr>\n",
       "    <tr>\n",
       "      <th>3</th>\n",
       "      <td>Tree</td>\n",
       "      <td>0.714525</td>\n",
       "      <td>{'clf__max_depth': 3, 'clf__max_leaf_nodes': 3...</td>\n",
       "    </tr>\n",
       "    <tr>\n",
       "      <th>4</th>\n",
       "      <td>Logit</td>\n",
       "      <td>0.788022</td>\n",
       "      <td>{'clf__C': 0.1, 'clf__class_weight': 1, 'clf__...</td>\n",
       "    </tr>\n",
       "  </tbody>\n",
       "</table>\n",
       "</div>"
      ],
      "text/plain": [
       "   Model  Best Score                                     Best Parameter\n",
       "0    KNN    0.768374  {'clf__n_neighbors': 20, 'clf__p': 2, 'clf__we...\n",
       "1    ANN    0.745668  {'clf__activation': 'relu', 'clf__alpha': 0.1,...\n",
       "2    DNN    0.784456  {'clf__batch_size': 128, 'clf__epochs': 50, 'c...\n",
<<<<<<< HEAD
       "3   Tree    0.714525  {'clf__max_depth': 3, 'clf__max_leaf_nodes': 3...\n",
       "4  Logit    0.787949  {'clf__C': 0.1, 'clf__class_weight': 'balanced..."
=======
       "3   Tree    0.692843                              {'clf__max_depth': 4}\n",
       "4  Logit    0.788022  {'clf__C': 0.1, 'clf__class_weight': 1, 'clf__..."
>>>>>>> 746cb365aed1a0dbd57abe7889e2f28c78b8dc40
      ]
     },
     "execution_count": 12,
     "metadata": {},
     "output_type": "execute_result"
    }
   ],
   "source": [
    "if 'Logit' in result.Model.values.tolist():\n",
    "    result.loc[result.Model.values.tolist().index('Logit')] = ['Logit', grid.best_score_, grid.best_params_]\n",
    "else:\n",
    "    result.loc[len(result.index)] = ['Logit', grid.best_score_, grid.best_params_]\n",
    "result.head()"
   ]
  },
  {
   "cell_type": "code",
   "execution_count": 13,
   "metadata": {},
   "outputs": [],
   "source": [
    "result.to_csv('../csv/model_results.csv', index=None)"
   ]
  },
  {
   "cell_type": "code",
<<<<<<< HEAD
   "execution_count": 14,
=======
   "execution_count": 13,
>>>>>>> 746cb365aed1a0dbd57abe7889e2f28c78b8dc40
   "metadata": {},
   "outputs": [
    {
     "data": {
      "text/plain": [
<<<<<<< HEAD
       "['../model/logit.h5']"
      ]
     },
     "execution_count": 14,
=======
       "['c:/bank_account_fraud/model/logit.weight']"
      ]
     },
     "execution_count": 13,
>>>>>>> 746cb365aed1a0dbd57abe7889e2f28c78b8dc40
     "metadata": {},
     "output_type": "execute_result"
    }
   ],
   "source": [
    "import joblib\n",
<<<<<<< HEAD
    "joblib.dump(model, '../model/logit.h5')"
=======
    "joblib.dump(model, 'c:/bank_account_fraud/model/logit.model')\n",
    "joblib.dump(model, 'c:/bank_account_fraud/model/logit.weight')"
>>>>>>> 746cb365aed1a0dbd57abe7889e2f28c78b8dc40
   ]
  }
 ],
 "metadata": {
  "kernelspec": {
   "display_name": "base",
   "language": "python",
   "name": "python3"
  },
  "language_info": {
   "codemirror_mode": {
    "name": "ipython",
    "version": 3
   },
   "file_extension": ".py",
   "mimetype": "text/x-python",
   "name": "python",
   "nbconvert_exporter": "python",
   "pygments_lexer": "ipython3",
   "version": "3.9.13"
  },
  "orig_nbformat": 4,
  "vscode": {
   "interpreter": {
    "hash": "ff4f85d6e04298634172ac5d8264e7e9b556b95639fe52ebb9425c4d4cba0c9c"
   }
  }
 },
 "nbformat": 4,
 "nbformat_minor": 2
}
